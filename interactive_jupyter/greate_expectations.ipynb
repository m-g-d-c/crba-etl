{
 "cells": [
  {
   "cell_type": "code",
   "execution_count": 2,
   "metadata": {},
   "outputs": [],
   "source": [
    "import pandas as pd\n",
    "from ruamel import yaml\n",
    "\n",
    "import great_expectations as gx\n",
    "from great_expectations.core.batch import RuntimeBatchRequest"
   ]
  },
  {
   "cell_type": "code",
   "execution_count": 3,
   "metadata": {},
   "outputs": [
    {
     "ename": "ValueError",
     "evalue": "root_directory must be an absolute path. Got ../crba_project/resources/great_expectations instead.",
     "output_type": "error",
     "traceback": [
      "\u001b[0;31m---------------------------------------------------------------------------\u001b[0m",
      "\u001b[0;31mValueError\u001b[0m                                Traceback (most recent call last)",
      "Cell \u001b[0;32mIn[3], line 1\u001b[0m\n\u001b[0;32m----> 1\u001b[0m context \u001b[39m=\u001b[39m gx\u001b[39m.\u001b[39;49mget_context(context_root_dir\u001b[39m=\u001b[39;49m\u001b[39m\"\u001b[39;49m\u001b[39m../crba_project/resources/great_expectations\u001b[39;49m\u001b[39m\"\u001b[39;49m)\n",
      "File \u001b[0;32m~/.cache/pypoetry/virtualenvs/crba-project-wtXAP8Rl-py3.8/lib/python3.8/site-packages/great_expectations/util.py:1894\u001b[0m, in \u001b[0;36mget_context\u001b[0;34m(project_config, context_root_dir, runtime_environment, cloud_base_url, cloud_access_token, cloud_organization_id, cloud_mode, ge_cloud_base_url, ge_cloud_access_token, ge_cloud_organization_id, ge_cloud_mode)\u001b[0m\n\u001b[1;32m   1891\u001b[0m \u001b[39m# Second, check for which type of local\u001b[39;00m\n\u001b[1;32m   1892\u001b[0m \u001b[39m# Prioritize FileDataContext but default to EphemeralDataContext if no context_root_dir\u001b[39;00m\n\u001b[1;32m   1893\u001b[0m \u001b[39mif\u001b[39;00m context_root_dir \u001b[39mor\u001b[39;00m \u001b[39mnot\u001b[39;00m project_config:\n\u001b[0;32m-> 1894\u001b[0m     \u001b[39mreturn\u001b[39;00m FileDataContext(\n\u001b[1;32m   1895\u001b[0m         project_config\u001b[39m=\u001b[39;49mproject_config,\n\u001b[1;32m   1896\u001b[0m         context_root_dir\u001b[39m=\u001b[39;49mcontext_root_dir,\n\u001b[1;32m   1897\u001b[0m         runtime_environment\u001b[39m=\u001b[39;49mruntime_environment,\n\u001b[1;32m   1898\u001b[0m     )\n\u001b[1;32m   1899\u001b[0m \u001b[39mreturn\u001b[39;00m EphemeralDataContext(\n\u001b[1;32m   1900\u001b[0m     project_config\u001b[39m=\u001b[39mproject_config,\n\u001b[1;32m   1901\u001b[0m     runtime_environment\u001b[39m=\u001b[39mruntime_environment,\n\u001b[1;32m   1902\u001b[0m )\n",
      "File \u001b[0;32m~/.cache/pypoetry/virtualenvs/crba-project-wtXAP8Rl-py3.8/lib/python3.8/site-packages/great_expectations/data_context/data_context/file_data_context.py:61\u001b[0m, in \u001b[0;36mFileDataContext.__init__\u001b[0;34m(self, project_config, context_root_dir, runtime_environment)\u001b[0m\n\u001b[1;32m     57\u001b[0m \u001b[39mself\u001b[39m\u001b[39m.\u001b[39m_context_root_directory \u001b[39m=\u001b[39m \u001b[39mself\u001b[39m\u001b[39m.\u001b[39m_init_context_root_directory(\n\u001b[1;32m     58\u001b[0m     context_root_dir\n\u001b[1;32m     59\u001b[0m )\n\u001b[1;32m     60\u001b[0m \u001b[39mself\u001b[39m\u001b[39m.\u001b[39m_project_config \u001b[39m=\u001b[39m \u001b[39mself\u001b[39m\u001b[39m.\u001b[39m_init_project_config(project_config)\n\u001b[0;32m---> 61\u001b[0m \u001b[39msuper\u001b[39;49m()\u001b[39m.\u001b[39;49m\u001b[39m__init__\u001b[39;49m(\n\u001b[1;32m     62\u001b[0m     context_root_dir\u001b[39m=\u001b[39;49m\u001b[39mself\u001b[39;49m\u001b[39m.\u001b[39;49m_context_root_directory,\n\u001b[1;32m     63\u001b[0m     runtime_environment\u001b[39m=\u001b[39;49mruntime_environment,\n\u001b[1;32m     64\u001b[0m )\n",
      "File \u001b[0;32m~/.cache/pypoetry/virtualenvs/crba-project-wtXAP8Rl-py3.8/lib/python3.8/site-packages/great_expectations/data_context/data_context/serializable_data_context.py:67\u001b[0m, in \u001b[0;36mSerializableDataContext.__init__\u001b[0;34m(self, context_root_dir, runtime_environment)\u001b[0m\n\u001b[1;32m     65\u001b[0m     context_root_dir \u001b[39m=\u001b[39m \u001b[39mstr\u001b[39m(context_root_dir)\n\u001b[1;32m     66\u001b[0m \u001b[39mself\u001b[39m\u001b[39m.\u001b[39m_context_root_directory \u001b[39m=\u001b[39m context_root_dir\n\u001b[0;32m---> 67\u001b[0m \u001b[39msuper\u001b[39;49m()\u001b[39m.\u001b[39;49m\u001b[39m__init__\u001b[39;49m(runtime_environment\u001b[39m=\u001b[39;49mruntime_environment)\n",
      "File \u001b[0;32m~/.cache/pypoetry/virtualenvs/crba-project-wtXAP8Rl-py3.8/lib/python3.8/site-packages/great_expectations/core/usage_statistics/usage_statistics.py:307\u001b[0m, in \u001b[0;36musage_statistics_enabled_method.<locals>.usage_statistics_wrapped_method\u001b[0;34m(*args, **kwargs)\u001b[0m\n\u001b[1;32m    304\u001b[0m     \u001b[39mif\u001b[39;00m args_payload_fn \u001b[39mis\u001b[39;00m \u001b[39mnot\u001b[39;00m \u001b[39mNone\u001b[39;00m:\n\u001b[1;32m    305\u001b[0m         nested_update(event_payload, args_payload_fn(\u001b[39m*\u001b[39margs, \u001b[39m*\u001b[39m\u001b[39m*\u001b[39mkwargs))\n\u001b[0;32m--> 307\u001b[0m     result \u001b[39m=\u001b[39m func(\u001b[39m*\u001b[39;49margs, \u001b[39m*\u001b[39;49m\u001b[39m*\u001b[39;49mkwargs)\n\u001b[1;32m    308\u001b[0m     message[\u001b[39m\"\u001b[39m\u001b[39msuccess\u001b[39m\u001b[39m\"\u001b[39m] \u001b[39m=\u001b[39m \u001b[39mTrue\u001b[39;00m\n\u001b[1;32m    309\u001b[0m \u001b[39mexcept\u001b[39;00m \u001b[39mException\u001b[39;00m:\n",
      "File \u001b[0;32m~/.cache/pypoetry/virtualenvs/crba-project-wtXAP8Rl-py3.8/lib/python3.8/site-packages/great_expectations/data_context/data_context/abstract_data_context.py:227\u001b[0m, in \u001b[0;36mAbstractDataContext.__init__\u001b[0;34m(self, runtime_environment)\u001b[0m\n\u001b[1;32m    225\u001b[0m \u001b[39m# Init stores\u001b[39;00m\n\u001b[1;32m    226\u001b[0m \u001b[39mself\u001b[39m\u001b[39m.\u001b[39m_stores: \u001b[39mdict\u001b[39m \u001b[39m=\u001b[39m {}\n\u001b[0;32m--> 227\u001b[0m \u001b[39mself\u001b[39;49m\u001b[39m.\u001b[39;49m_init_stores(\u001b[39mself\u001b[39;49m\u001b[39m.\u001b[39;49mproject_config_with_variables_substituted\u001b[39m.\u001b[39;49mstores)  \u001b[39m# type: ignore[arg-type]\u001b[39;00m\n\u001b[1;32m    229\u001b[0m \u001b[39m# Init data_context_id\u001b[39;00m\n\u001b[1;32m    230\u001b[0m \u001b[39mself\u001b[39m\u001b[39m.\u001b[39m_data_context_id \u001b[39m=\u001b[39m \u001b[39mself\u001b[39m\u001b[39m.\u001b[39m_construct_data_context_id()\n",
      "File \u001b[0;32m~/.cache/pypoetry/virtualenvs/crba-project-wtXAP8Rl-py3.8/lib/python3.8/site-packages/great_expectations/data_context/data_context/abstract_data_context.py:2927\u001b[0m, in \u001b[0;36mAbstractDataContext._init_stores\u001b[0;34m(self, store_configs)\u001b[0m\n\u001b[1;32m   2918\u001b[0m \u001b[39m\u001b[39m\u001b[39m\"\"\"Initialize all Stores for this DataContext.\u001b[39;00m\n\u001b[1;32m   2919\u001b[0m \n\u001b[1;32m   2920\u001b[0m \u001b[39mStores are a good fit for reading/writing objects that:\u001b[39;00m\n\u001b[0;32m   (...)\u001b[0m\n\u001b[1;32m   2924\u001b[0m \u001b[39mNote that stores do NOT manage plugins.\u001b[39;00m\n\u001b[1;32m   2925\u001b[0m \u001b[39m\"\"\"\u001b[39;00m\n\u001b[1;32m   2926\u001b[0m \u001b[39mfor\u001b[39;00m store_name, store_config \u001b[39min\u001b[39;00m store_configs\u001b[39m.\u001b[39mitems():\n\u001b[0;32m-> 2927\u001b[0m     \u001b[39mself\u001b[39;49m\u001b[39m.\u001b[39;49m_build_store_from_config(store_name, store_config)\n\u001b[1;32m   2929\u001b[0m \u001b[39m# The DatasourceStore is inherent to all DataContexts but is not an explicit part of the project config.\u001b[39;00m\n\u001b[1;32m   2930\u001b[0m \u001b[39m# As such, it must be instantiated separately.\u001b[39;00m\n\u001b[1;32m   2931\u001b[0m \u001b[39mself\u001b[39m\u001b[39m.\u001b[39m_init_datasource_store()\n",
      "File \u001b[0;32m~/.cache/pypoetry/virtualenvs/crba-project-wtXAP8Rl-py3.8/lib/python3.8/site-packages/great_expectations/data_context/data_context/abstract_data_context.py:2868\u001b[0m, in \u001b[0;36mAbstractDataContext._build_store_from_config\u001b[0;34m(self, store_name, store_config)\u001b[0m\n\u001b[1;32m   2862\u001b[0m \u001b[39mif\u001b[39;00m (\n\u001b[1;32m   2863\u001b[0m     store_name \u001b[39mnot\u001b[39;00m \u001b[39min\u001b[39;00m [store[\u001b[39m\"\u001b[39m\u001b[39mname\u001b[39m\u001b[39m\"\u001b[39m] \u001b[39mfor\u001b[39;00m store \u001b[39min\u001b[39;00m \u001b[39mself\u001b[39m\u001b[39m.\u001b[39mlist_active_stores()]  \u001b[39m# type: ignore[index]\u001b[39;00m\n\u001b[1;32m   2864\u001b[0m     \u001b[39mand\u001b[39;00m store_config\u001b[39m.\u001b[39mget(\u001b[39m\"\u001b[39m\u001b[39mstore_backend\u001b[39m\u001b[39m\"\u001b[39m) \u001b[39mis\u001b[39;00m \u001b[39mnot\u001b[39;00m \u001b[39mNone\u001b[39;00m\n\u001b[1;32m   2865\u001b[0m ):\n\u001b[1;32m   2866\u001b[0m     store_config[\u001b[39m\"\u001b[39m\u001b[39mstore_backend\u001b[39m\u001b[39m\"\u001b[39m]\u001b[39m.\u001b[39mupdate({\u001b[39m\"\u001b[39m\u001b[39msuppress_store_backend_id\u001b[39m\u001b[39m\"\u001b[39m: \u001b[39mTrue\u001b[39;00m})\n\u001b[0;32m-> 2868\u001b[0m new_store \u001b[39m=\u001b[39m build_store_from_config(\n\u001b[1;32m   2869\u001b[0m     store_name\u001b[39m=\u001b[39;49mstore_name,\n\u001b[1;32m   2870\u001b[0m     store_config\u001b[39m=\u001b[39;49mstore_config,\n\u001b[1;32m   2871\u001b[0m     module_name\u001b[39m=\u001b[39;49mmodule_name,\n\u001b[1;32m   2872\u001b[0m     runtime_environment\u001b[39m=\u001b[39;49m{\n\u001b[1;32m   2873\u001b[0m         \u001b[39m\"\u001b[39;49m\u001b[39mroot_directory\u001b[39;49m\u001b[39m\"\u001b[39;49m: \u001b[39mself\u001b[39;49m\u001b[39m.\u001b[39;49mroot_directory,\n\u001b[1;32m   2874\u001b[0m     },\n\u001b[1;32m   2875\u001b[0m )\n\u001b[1;32m   2876\u001b[0m \u001b[39mself\u001b[39m\u001b[39m.\u001b[39m_stores[store_name] \u001b[39m=\u001b[39m new_store\n\u001b[1;32m   2877\u001b[0m \u001b[39mreturn\u001b[39;00m new_store\n",
      "File \u001b[0;32m~/.cache/pypoetry/virtualenvs/crba-project-wtXAP8Rl-py3.8/lib/python3.8/site-packages/great_expectations/data_context/util.py:121\u001b[0m, in \u001b[0;36mbuild_store_from_config\u001b[0;34m(store_name, store_config, module_name, runtime_environment)\u001b[0m\n\u001b[1;32m    116\u001b[0m \u001b[39mtry\u001b[39;00m:\n\u001b[1;32m    117\u001b[0m     config_defaults: \u001b[39mdict\u001b[39m \u001b[39m=\u001b[39m {\n\u001b[1;32m    118\u001b[0m         \u001b[39m\"\u001b[39m\u001b[39mstore_name\u001b[39m\u001b[39m\"\u001b[39m: store_name,\n\u001b[1;32m    119\u001b[0m         \u001b[39m\"\u001b[39m\u001b[39mmodule_name\u001b[39m\u001b[39m\"\u001b[39m: module_name,\n\u001b[1;32m    120\u001b[0m     }\n\u001b[0;32m--> 121\u001b[0m     new_store \u001b[39m=\u001b[39m instantiate_class_from_config(\n\u001b[1;32m    122\u001b[0m         config\u001b[39m=\u001b[39;49mstore_config,\n\u001b[1;32m    123\u001b[0m         runtime_environment\u001b[39m=\u001b[39;49mruntime_environment,\n\u001b[1;32m    124\u001b[0m         config_defaults\u001b[39m=\u001b[39;49mconfig_defaults,\n\u001b[1;32m    125\u001b[0m     )\n\u001b[1;32m    126\u001b[0m \u001b[39mexcept\u001b[39;00m ge_exceptions\u001b[39m.\u001b[39mDataContextError \u001b[39mas\u001b[39;00m e:\n\u001b[1;32m    127\u001b[0m     new_store \u001b[39m=\u001b[39m \u001b[39mNone\u001b[39;00m\n",
      "File \u001b[0;32m~/.cache/pypoetry/virtualenvs/crba-project-wtXAP8Rl-py3.8/lib/python3.8/site-packages/great_expectations/data_context/util.py:95\u001b[0m, in \u001b[0;36minstantiate_class_from_config\u001b[0;34m(config, runtime_environment, config_defaults)\u001b[0m\n\u001b[1;32m     92\u001b[0m         config_with_defaults\u001b[39m.\u001b[39mupdate({\u001b[39m\"\u001b[39m\u001b[39mruntime_environment\u001b[39m\u001b[39m\"\u001b[39m: runtime_environment})\n\u001b[1;32m     94\u001b[0m \u001b[39mtry\u001b[39;00m:\n\u001b[0;32m---> 95\u001b[0m     class_instance \u001b[39m=\u001b[39m class_(\u001b[39m*\u001b[39;49m\u001b[39m*\u001b[39;49mconfig_with_defaults)\n\u001b[1;32m     96\u001b[0m \u001b[39mexcept\u001b[39;00m \u001b[39mTypeError\u001b[39;00m \u001b[39mas\u001b[39;00m e:\n\u001b[1;32m     97\u001b[0m     \u001b[39mraise\u001b[39;00m \u001b[39mTypeError\u001b[39;00m(\n\u001b[1;32m     98\u001b[0m         \u001b[39m\"\u001b[39m\u001b[39mCouldn\u001b[39m\u001b[39m'\u001b[39m\u001b[39mt instantiate class: \u001b[39m\u001b[39m{}\u001b[39;00m\u001b[39m with config: \u001b[39m\u001b[39m\\n\u001b[39;00m\u001b[39m\\t\u001b[39;00m\u001b[39m{}\u001b[39;00m\u001b[39m\\n\u001b[39;00m\u001b[39m \u001b[39m\u001b[39m\\n\u001b[39;00m\u001b[39m\"\u001b[39m\u001b[39m.\u001b[39mformat(\n\u001b[1;32m     99\u001b[0m             class_name, format_dict_for_error_message(config_with_defaults)\n\u001b[1;32m    100\u001b[0m         )\n\u001b[1;32m    101\u001b[0m         \u001b[39m+\u001b[39m \u001b[39mstr\u001b[39m(e)\n\u001b[1;32m    102\u001b[0m     )\n",
      "File \u001b[0;32m~/.cache/pypoetry/virtualenvs/crba-project-wtXAP8Rl-py3.8/lib/python3.8/site-packages/great_expectations/data_context/store/expectations_store.py:147\u001b[0m, in \u001b[0;36mExpectationsStore.__init__\u001b[0;34m(self, store_backend, runtime_environment, store_name, data_context)\u001b[0m\n\u001b[1;32m    140\u001b[0m         store_backend[\u001b[39m\"\u001b[39m\u001b[39mtable_name\u001b[39m\u001b[39m\"\u001b[39m] \u001b[39m=\u001b[39m store_backend\u001b[39m.\u001b[39mget(\n\u001b[1;32m    141\u001b[0m             \u001b[39m\"\u001b[39m\u001b[39mtable_name\u001b[39m\u001b[39m\"\u001b[39m, \u001b[39m\"\u001b[39m\u001b[39mge_expectations_store\u001b[39m\u001b[39m\"\u001b[39m\n\u001b[1;32m    142\u001b[0m         )\n\u001b[1;32m    143\u001b[0m         store_backend[\u001b[39m\"\u001b[39m\u001b[39mkey_columns\u001b[39m\u001b[39m\"\u001b[39m] \u001b[39m=\u001b[39m store_backend\u001b[39m.\u001b[39mget(\n\u001b[1;32m    144\u001b[0m             \u001b[39m\"\u001b[39m\u001b[39mkey_columns\u001b[39m\u001b[39m\"\u001b[39m, [\u001b[39m\"\u001b[39m\u001b[39mexpectation_suite_name\u001b[39m\u001b[39m\"\u001b[39m]\n\u001b[1;32m    145\u001b[0m         )\n\u001b[0;32m--> 147\u001b[0m \u001b[39msuper\u001b[39;49m()\u001b[39m.\u001b[39;49m\u001b[39m__init__\u001b[39;49m(\n\u001b[1;32m    148\u001b[0m     store_backend\u001b[39m=\u001b[39;49mstore_backend,\n\u001b[1;32m    149\u001b[0m     runtime_environment\u001b[39m=\u001b[39;49mruntime_environment,\n\u001b[1;32m    150\u001b[0m     store_name\u001b[39m=\u001b[39;49mstore_name,\n\u001b[1;32m    151\u001b[0m )\n\u001b[1;32m    153\u001b[0m \u001b[39m# Gather the call arguments of the present function (include the \"module_name\" and add the \"class_name\"), filter\u001b[39;00m\n\u001b[1;32m    154\u001b[0m \u001b[39m# out the Falsy values, and set the instance \"_config\" variable equal to the resulting dictionary.\u001b[39;00m\n\u001b[1;32m    155\u001b[0m \u001b[39mself\u001b[39m\u001b[39m.\u001b[39m_config \u001b[39m=\u001b[39m {\n\u001b[1;32m    156\u001b[0m     \u001b[39m\"\u001b[39m\u001b[39mstore_backend\u001b[39m\u001b[39m\"\u001b[39m: store_backend,\n\u001b[1;32m    157\u001b[0m     \u001b[39m\"\u001b[39m\u001b[39mruntime_environment\u001b[39m\u001b[39m\"\u001b[39m: runtime_environment,\n\u001b[0;32m   (...)\u001b[0m\n\u001b[1;32m    160\u001b[0m     \u001b[39m\"\u001b[39m\u001b[39mclass_name\u001b[39m\u001b[39m\"\u001b[39m: \u001b[39mself\u001b[39m\u001b[39m.\u001b[39m\u001b[39m__class__\u001b[39m\u001b[39m.\u001b[39m\u001b[39m__name__\u001b[39m,\n\u001b[1;32m    161\u001b[0m }\n",
      "File \u001b[0;32m~/.cache/pypoetry/virtualenvs/crba-project-wtXAP8Rl-py3.8/lib/python3.8/site-packages/great_expectations/data_context/store/store.py:50\u001b[0m, in \u001b[0;36mStore.__init__\u001b[0;34m(self, store_backend, runtime_environment, store_name)\u001b[0m\n\u001b[1;32m     48\u001b[0m logger\u001b[39m.\u001b[39mdebug(\u001b[39m\"\u001b[39m\u001b[39mBuilding store_backend.\u001b[39m\u001b[39m\"\u001b[39m)\n\u001b[1;32m     49\u001b[0m module_name \u001b[39m=\u001b[39m \u001b[39m\"\u001b[39m\u001b[39mgreat_expectations.data_context.store\u001b[39m\u001b[39m\"\u001b[39m\n\u001b[0;32m---> 50\u001b[0m \u001b[39mself\u001b[39m\u001b[39m.\u001b[39m_store_backend \u001b[39m=\u001b[39m instantiate_class_from_config(\n\u001b[1;32m     51\u001b[0m     config\u001b[39m=\u001b[39;49mstore_backend,\n\u001b[1;32m     52\u001b[0m     runtime_environment\u001b[39m=\u001b[39;49mruntime_environment \u001b[39mor\u001b[39;49;00m {},\n\u001b[1;32m     53\u001b[0m     config_defaults\u001b[39m=\u001b[39;49m{\n\u001b[1;32m     54\u001b[0m         \u001b[39m\"\u001b[39;49m\u001b[39mmodule_name\u001b[39;49m\u001b[39m\"\u001b[39;49m: module_name,\n\u001b[1;32m     55\u001b[0m         \u001b[39m\"\u001b[39;49m\u001b[39mstore_name\u001b[39;49m\u001b[39m\"\u001b[39;49m: \u001b[39mself\u001b[39;49m\u001b[39m.\u001b[39;49m_store_name,\n\u001b[1;32m     56\u001b[0m     },\n\u001b[1;32m     57\u001b[0m )\n\u001b[1;32m     58\u001b[0m \u001b[39mif\u001b[39;00m \u001b[39mnot\u001b[39;00m \u001b[39mself\u001b[39m\u001b[39m.\u001b[39m_store_backend:\n\u001b[1;32m     59\u001b[0m     \u001b[39mraise\u001b[39;00m ClassInstantiationError(\n\u001b[1;32m     60\u001b[0m         module_name\u001b[39m=\u001b[39mmodule_name, package_name\u001b[39m=\u001b[39m\u001b[39mNone\u001b[39;00m, class_name\u001b[39m=\u001b[39mstore_backend\n\u001b[1;32m     61\u001b[0m     )\n",
      "File \u001b[0;32m~/.cache/pypoetry/virtualenvs/crba-project-wtXAP8Rl-py3.8/lib/python3.8/site-packages/great_expectations/data_context/util.py:95\u001b[0m, in \u001b[0;36minstantiate_class_from_config\u001b[0;34m(config, runtime_environment, config_defaults)\u001b[0m\n\u001b[1;32m     92\u001b[0m         config_with_defaults\u001b[39m.\u001b[39mupdate({\u001b[39m\"\u001b[39m\u001b[39mruntime_environment\u001b[39m\u001b[39m\"\u001b[39m: runtime_environment})\n\u001b[1;32m     94\u001b[0m \u001b[39mtry\u001b[39;00m:\n\u001b[0;32m---> 95\u001b[0m     class_instance \u001b[39m=\u001b[39m class_(\u001b[39m*\u001b[39;49m\u001b[39m*\u001b[39;49mconfig_with_defaults)\n\u001b[1;32m     96\u001b[0m \u001b[39mexcept\u001b[39;00m \u001b[39mTypeError\u001b[39;00m \u001b[39mas\u001b[39;00m e:\n\u001b[1;32m     97\u001b[0m     \u001b[39mraise\u001b[39;00m \u001b[39mTypeError\u001b[39;00m(\n\u001b[1;32m     98\u001b[0m         \u001b[39m\"\u001b[39m\u001b[39mCouldn\u001b[39m\u001b[39m'\u001b[39m\u001b[39mt instantiate class: \u001b[39m\u001b[39m{}\u001b[39;00m\u001b[39m with config: \u001b[39m\u001b[39m\\n\u001b[39;00m\u001b[39m\\t\u001b[39;00m\u001b[39m{}\u001b[39;00m\u001b[39m\\n\u001b[39;00m\u001b[39m \u001b[39m\u001b[39m\\n\u001b[39;00m\u001b[39m\"\u001b[39m\u001b[39m.\u001b[39mformat(\n\u001b[1;32m     99\u001b[0m             class_name, format_dict_for_error_message(config_with_defaults)\n\u001b[1;32m    100\u001b[0m         )\n\u001b[1;32m    101\u001b[0m         \u001b[39m+\u001b[39m \u001b[39mstr\u001b[39m(e)\n\u001b[1;32m    102\u001b[0m     )\n",
      "File \u001b[0;32m~/.cache/pypoetry/virtualenvs/crba-project-wtXAP8Rl-py3.8/lib/python3.8/site-packages/great_expectations/data_context/store/tuple_store_backend.py:264\u001b[0m, in \u001b[0;36mTupleFilesystemStoreBackend.__init__\u001b[0;34m(self, base_directory, filepath_template, filepath_prefix, filepath_suffix, forbidden_substrings, platform_specific_separator, root_directory, fixed_length_key, suppress_store_backend_id, manually_initialize_store_backend_id, base_public_path, store_name)\u001b[0m\n\u001b[1;32m    260\u001b[0m     \u001b[39mraise\u001b[39;00m \u001b[39mValueError\u001b[39;00m(\n\u001b[1;32m    261\u001b[0m         \u001b[39m\"\u001b[39m\u001b[39mbase_directory must be an absolute path if root_directory is not provided\u001b[39m\u001b[39m\"\u001b[39m\n\u001b[1;32m    262\u001b[0m     )\n\u001b[1;32m    263\u001b[0m \u001b[39melif\u001b[39;00m \u001b[39mnot\u001b[39;00m os\u001b[39m.\u001b[39mpath\u001b[39m.\u001b[39misabs(root_directory):\n\u001b[0;32m--> 264\u001b[0m     \u001b[39mraise\u001b[39;00m \u001b[39mValueError\u001b[39;00m(\n\u001b[1;32m    265\u001b[0m         \u001b[39m\"\u001b[39m\u001b[39mroot_directory must be an absolute path. Got \u001b[39m\u001b[39m{}\u001b[39;00m\u001b[39m instead.\u001b[39m\u001b[39m\"\u001b[39m\u001b[39m.\u001b[39mformat(\n\u001b[1;32m    266\u001b[0m             root_directory\n\u001b[1;32m    267\u001b[0m         )\n\u001b[1;32m    268\u001b[0m     )\n\u001b[1;32m    269\u001b[0m \u001b[39melse\u001b[39;00m:\n\u001b[1;32m    270\u001b[0m     \u001b[39mself\u001b[39m\u001b[39m.\u001b[39mfull_base_directory \u001b[39m=\u001b[39m os\u001b[39m.\u001b[39mpath\u001b[39m.\u001b[39mjoin(root_directory, base_directory)\n",
      "\u001b[0;31mValueError\u001b[0m: root_directory must be an absolute path. Got ../crba_project/resources/great_expectations instead."
     ]
    }
   ],
   "source": [
    "context = gx.get_context(context_root_dir=\"../crba_project/resources/great_expectations\")"
   ]
  },
  {
   "cell_type": "code",
   "execution_count": 5,
   "metadata": {},
   "outputs": [],
   "source": [
    "datasource_config = {\n",
    "    \"name\": \"example_datasource\",\n",
    "    \"class_name\": \"Datasource\",\n",
    "    \"module_name\": \"great_expectations.datasource\",\n",
    "    \"execution_engine\": {\n",
    "        \"module_name\": \"great_expectations.execution_engine\",\n",
    "        \"class_name\": \"PandasExecutionEngine\",\n",
    "    },\n",
    "    \"data_connectors\": {\n",
    "        \"default_runtime_data_connector_name\": {\n",
    "            \"class_name\": \"RuntimeDataConnector\",\n",
    "            \"module_name\": \"great_expectations.datasource.data_connector\",\n",
    "            \"batch_identifiers\": [\"default_identifier_name\"],\n",
    "        },\n",
    "    },\n",
    "}"
   ]
  },
  {
   "cell_type": "code",
   "execution_count": 6,
   "metadata": {},
   "outputs": [
    {
     "name": "stdout",
     "output_type": "stream",
     "text": [
      "Attempting to instantiate class from config...\n",
      "\tInstantiating as a Datasource, since class_name is Datasource\n",
      "\tSuccessfully instantiated Datasource\n",
      "\n",
      "\n",
      "ExecutionEngine class name: PandasExecutionEngine\n",
      "Data Connectors:\n",
      "\tdefault_runtime_data_connector_name:RuntimeDataConnector\n",
      "\n",
      "\tAvailable data_asset_names (0 of 0):\n",
      "\t\tNote : RuntimeDataConnector will not have data_asset_names until they are passed in through RuntimeBatchRequest\n",
      "\n",
      "\tUnmatched data_references (0 of 0): []\n",
      "\n"
     ]
    },
    {
     "data": {
      "text/plain": [
       "<great_expectations.datasource.new_datasource.Datasource at 0x7f1b12855520>"
      ]
     },
     "execution_count": 6,
     "metadata": {},
     "output_type": "execute_result"
    }
   ],
   "source": [
    "context.test_yaml_config(yaml.dump(datasource_config))"
   ]
  },
  {
   "cell_type": "code",
   "execution_count": 7,
   "metadata": {},
   "outputs": [
    {
     "data": {
      "text/plain": [
       "<great_expectations.datasource.new_datasource.Datasource at 0x7f1b12850040>"
      ]
     },
     "execution_count": 7,
     "metadata": {},
     "output_type": "execute_result"
    }
   ],
   "source": [
    "context.add_datasource(**datasource_config)"
   ]
  },
  {
   "cell_type": "code",
   "execution_count": 8,
   "metadata": {},
   "outputs": [],
   "source": [
    "import pandas as pd \n",
    "df = pd.read_csv(\"ge_dummy_schema_s176.csv\",quotechar=\"'\",sep=\";\")"
   ]
  },
  {
   "cell_type": "code",
   "execution_count": 9,
   "metadata": {},
   "outputs": [
    {
     "data": {
      "text/html": [
       "<div>\n",
       "<style scoped>\n",
       "    .dataframe tbody tr th:only-of-type {\n",
       "        vertical-align: middle;\n",
       "    }\n",
       "\n",
       "    .dataframe tbody tr th {\n",
       "        vertical-align: top;\n",
       "    }\n",
       "\n",
       "    .dataframe thead th {\n",
       "        text-align: right;\n",
       "    }\n",
       "</style>\n",
       "<table border=\"1\" class=\"dataframe\">\n",
       "  <thead>\n",
       "    <tr style=\"text-align: right;\">\n",
       "      <th></th>\n",
       "      <th>COUNTRY_ISO_3</th>\n",
       "      <th>TIME_PERIOD</th>\n",
       "      <th>RAW_OBS_VALUE</th>\n",
       "      <th>_merge</th>\n",
       "      <th>INDICATOR_NAME</th>\n",
       "      <th>INDICATOR_INDEX</th>\n",
       "      <th>INDICATOR_ISSUE</th>\n",
       "      <th>INDICATOR_CATEGORY</th>\n",
       "      <th>INDICATOR_CODE</th>\n",
       "      <th>ATTR_SOURCE</th>\n",
       "      <th>...</th>\n",
       "      <th>ATTR_INDICATOR_DESCRIPTION</th>\n",
       "      <th>ATTR_INDICATOR_EXPLANATION</th>\n",
       "      <th>ATTR_UNIT_MEASURE</th>\n",
       "      <th>ATTR_DATA_EXTRACTION_METHDOLOGY</th>\n",
       "      <th>ATTR_SOURCE_TITLE</th>\n",
       "      <th>ATTR_API_ENDPOINT_URL</th>\n",
       "      <th>CRBA_RELEASE_YEAR</th>\n",
       "      <th>ATTR_ENCODING_LABELS</th>\n",
       "      <th>SCALED_OBS_VALUE</th>\n",
       "      <th>OBS_STATUS</th>\n",
       "    </tr>\n",
       "  </thead>\n",
       "  <tbody>\n",
       "    <tr>\n",
       "      <th>0</th>\n",
       "      <td>AFG</td>\n",
       "      <td>2017.0</td>\n",
       "      <td>0</td>\n",
       "      <td>both</td>\n",
       "      <td>Use of children in hostilities prohibited</td>\n",
       "      <td>Community and Environment</td>\n",
       "      <td>Security arrangements</td>\n",
       "      <td>Legal framework national</td>\n",
       "      <td>CE_SA_LF_USCHHP</td>\n",
       "      <td>https://childsoldiersworldindex.org/_x000D_\\n</td>\n",
       "      <td>...</td>\n",
       "      <td>Is the use of children to participate in hosti...</td>\n",
       "      <td>NaN</td>\n",
       "      <td>NaN</td>\n",
       "      <td>Data has been extracted and entered manually f...</td>\n",
       "      <td>Child Soldiers Index:\\n\\n</td>\n",
       "      <td>file:../data_in/data_raw_manually_extracted/hu...</td>\n",
       "      <td>2022</td>\n",
       "      <td>2=Yes; 1=No; 0=Don't know/ No data received/ N...</td>\n",
       "      <td>NaN</td>\n",
       "      <td>O</td>\n",
       "    </tr>\n",
       "    <tr>\n",
       "      <th>1</th>\n",
       "      <td>ALB</td>\n",
       "      <td>2017.0</td>\n",
       "      <td>0</td>\n",
       "      <td>both</td>\n",
       "      <td>Use of children in hostilities prohibited</td>\n",
       "      <td>Community and Environment</td>\n",
       "      <td>Security arrangements</td>\n",
       "      <td>Legal framework national</td>\n",
       "      <td>CE_SA_LF_USCHHP</td>\n",
       "      <td>https://childsoldiersworldindex.org/_x000D_\\n</td>\n",
       "      <td>...</td>\n",
       "      <td>Is the use of children to participate in hosti...</td>\n",
       "      <td>NaN</td>\n",
       "      <td>NaN</td>\n",
       "      <td>Data has been extracted and entered manually f...</td>\n",
       "      <td>Child Soldiers Index:\\n\\n</td>\n",
       "      <td>file:../data_in/data_raw_manually_extracted/hu...</td>\n",
       "      <td>2022</td>\n",
       "      <td>2=Yes; 1=No; 0=Don't know/ No data received/ N...</td>\n",
       "      <td>NaN</td>\n",
       "      <td>O</td>\n",
       "    </tr>\n",
       "    <tr>\n",
       "      <th>2</th>\n",
       "      <td>AND</td>\n",
       "      <td>2017.0</td>\n",
       "      <td>0</td>\n",
       "      <td>both</td>\n",
       "      <td>Use of children in hostilities prohibited</td>\n",
       "      <td>Community and Environment</td>\n",
       "      <td>Security arrangements</td>\n",
       "      <td>Legal framework national</td>\n",
       "      <td>CE_SA_LF_USCHHP</td>\n",
       "      <td>https://childsoldiersworldindex.org/_x000D_\\n</td>\n",
       "      <td>...</td>\n",
       "      <td>Is the use of children to participate in hosti...</td>\n",
       "      <td>NaN</td>\n",
       "      <td>NaN</td>\n",
       "      <td>Data has been extracted and entered manually f...</td>\n",
       "      <td>Child Soldiers Index:\\n\\n</td>\n",
       "      <td>file:../data_in/data_raw_manually_extracted/hu...</td>\n",
       "      <td>2022</td>\n",
       "      <td>2=Yes; 1=No; 0=Don't know/ No data received/ N...</td>\n",
       "      <td>NaN</td>\n",
       "      <td>O</td>\n",
       "    </tr>\n",
       "    <tr>\n",
       "      <th>3</th>\n",
       "      <td>DZA</td>\n",
       "      <td>2017.0</td>\n",
       "      <td>0</td>\n",
       "      <td>both</td>\n",
       "      <td>Use of children in hostilities prohibited</td>\n",
       "      <td>Community and Environment</td>\n",
       "      <td>Security arrangements</td>\n",
       "      <td>Legal framework national</td>\n",
       "      <td>CE_SA_LF_USCHHP</td>\n",
       "      <td>https://childsoldiersworldindex.org/_x000D_\\n</td>\n",
       "      <td>...</td>\n",
       "      <td>Is the use of children to participate in hosti...</td>\n",
       "      <td>NaN</td>\n",
       "      <td>NaN</td>\n",
       "      <td>Data has been extracted and entered manually f...</td>\n",
       "      <td>Child Soldiers Index:\\n\\n</td>\n",
       "      <td>file:../data_in/data_raw_manually_extracted/hu...</td>\n",
       "      <td>2022</td>\n",
       "      <td>2=Yes; 1=No; 0=Don't know/ No data received/ N...</td>\n",
       "      <td>NaN</td>\n",
       "      <td>O</td>\n",
       "    </tr>\n",
       "    <tr>\n",
       "      <th>4</th>\n",
       "      <td>AGO</td>\n",
       "      <td>2017.0</td>\n",
       "      <td>0</td>\n",
       "      <td>both</td>\n",
       "      <td>Use of children in hostilities prohibited</td>\n",
       "      <td>Community and Environment</td>\n",
       "      <td>Security arrangements</td>\n",
       "      <td>Legal framework national</td>\n",
       "      <td>CE_SA_LF_USCHHP</td>\n",
       "      <td>https://childsoldiersworldindex.org/_x000D_\\n</td>\n",
       "      <td>...</td>\n",
       "      <td>Is the use of children to participate in hosti...</td>\n",
       "      <td>NaN</td>\n",
       "      <td>NaN</td>\n",
       "      <td>Data has been extracted and entered manually f...</td>\n",
       "      <td>Child Soldiers Index:\\n\\n</td>\n",
       "      <td>file:../data_in/data_raw_manually_extracted/hu...</td>\n",
       "      <td>2022</td>\n",
       "      <td>2=Yes; 1=No; 0=Don't know/ No data received/ N...</td>\n",
       "      <td>NaN</td>\n",
       "      <td>O</td>\n",
       "    </tr>\n",
       "    <tr>\n",
       "      <th>...</th>\n",
       "      <td>...</td>\n",
       "      <td>...</td>\n",
       "      <td>...</td>\n",
       "      <td>...</td>\n",
       "      <td>...</td>\n",
       "      <td>...</td>\n",
       "      <td>...</td>\n",
       "      <td>...</td>\n",
       "      <td>...</td>\n",
       "      <td>...</td>\n",
       "      <td>...</td>\n",
       "      <td>...</td>\n",
       "      <td>...</td>\n",
       "      <td>...</td>\n",
       "      <td>...</td>\n",
       "      <td>...</td>\n",
       "      <td>...</td>\n",
       "      <td>...</td>\n",
       "      <td>...</td>\n",
       "      <td>...</td>\n",
       "      <td>...</td>\n",
       "    </tr>\n",
       "    <tr>\n",
       "      <th>190</th>\n",
       "      <td>VEN</td>\n",
       "      <td>2017.0</td>\n",
       "      <td>0</td>\n",
       "      <td>both</td>\n",
       "      <td>Use of children in hostilities prohibited</td>\n",
       "      <td>Community and Environment</td>\n",
       "      <td>Security arrangements</td>\n",
       "      <td>Legal framework national</td>\n",
       "      <td>CE_SA_LF_USCHHP</td>\n",
       "      <td>https://childsoldiersworldindex.org/_x000D_\\n</td>\n",
       "      <td>...</td>\n",
       "      <td>Is the use of children to participate in hosti...</td>\n",
       "      <td>NaN</td>\n",
       "      <td>NaN</td>\n",
       "      <td>Data has been extracted and entered manually f...</td>\n",
       "      <td>Child Soldiers Index:\\n\\n</td>\n",
       "      <td>file:../data_in/data_raw_manually_extracted/hu...</td>\n",
       "      <td>2022</td>\n",
       "      <td>2=Yes; 1=No; 0=Don't know/ No data received/ N...</td>\n",
       "      <td>NaN</td>\n",
       "      <td>O</td>\n",
       "    </tr>\n",
       "    <tr>\n",
       "      <th>191</th>\n",
       "      <td>VNM</td>\n",
       "      <td>2017.0</td>\n",
       "      <td>0</td>\n",
       "      <td>both</td>\n",
       "      <td>Use of children in hostilities prohibited</td>\n",
       "      <td>Community and Environment</td>\n",
       "      <td>Security arrangements</td>\n",
       "      <td>Legal framework national</td>\n",
       "      <td>CE_SA_LF_USCHHP</td>\n",
       "      <td>https://childsoldiersworldindex.org/_x000D_\\n</td>\n",
       "      <td>...</td>\n",
       "      <td>Is the use of children to participate in hosti...</td>\n",
       "      <td>NaN</td>\n",
       "      <td>NaN</td>\n",
       "      <td>Data has been extracted and entered manually f...</td>\n",
       "      <td>Child Soldiers Index:\\n\\n</td>\n",
       "      <td>file:../data_in/data_raw_manually_extracted/hu...</td>\n",
       "      <td>2022</td>\n",
       "      <td>2=Yes; 1=No; 0=Don't know/ No data received/ N...</td>\n",
       "      <td>NaN</td>\n",
       "      <td>O</td>\n",
       "    </tr>\n",
       "    <tr>\n",
       "      <th>192</th>\n",
       "      <td>YEM</td>\n",
       "      <td>2017.0</td>\n",
       "      <td>0</td>\n",
       "      <td>both</td>\n",
       "      <td>Use of children in hostilities prohibited</td>\n",
       "      <td>Community and Environment</td>\n",
       "      <td>Security arrangements</td>\n",
       "      <td>Legal framework national</td>\n",
       "      <td>CE_SA_LF_USCHHP</td>\n",
       "      <td>https://childsoldiersworldindex.org/_x000D_\\n</td>\n",
       "      <td>...</td>\n",
       "      <td>Is the use of children to participate in hosti...</td>\n",
       "      <td>NaN</td>\n",
       "      <td>NaN</td>\n",
       "      <td>Data has been extracted and entered manually f...</td>\n",
       "      <td>Child Soldiers Index:\\n\\n</td>\n",
       "      <td>file:../data_in/data_raw_manually_extracted/hu...</td>\n",
       "      <td>2022</td>\n",
       "      <td>2=Yes; 1=No; 0=Don't know/ No data received/ N...</td>\n",
       "      <td>NaN</td>\n",
       "      <td>O</td>\n",
       "    </tr>\n",
       "    <tr>\n",
       "      <th>193</th>\n",
       "      <td>ZMB</td>\n",
       "      <td>2017.0</td>\n",
       "      <td>0</td>\n",
       "      <td>both</td>\n",
       "      <td>Use of children in hostilities prohibited</td>\n",
       "      <td>Community and Environment</td>\n",
       "      <td>Security arrangements</td>\n",
       "      <td>Legal framework national</td>\n",
       "      <td>CE_SA_LF_USCHHP</td>\n",
       "      <td>https://childsoldiersworldindex.org/_x000D_\\n</td>\n",
       "      <td>...</td>\n",
       "      <td>Is the use of children to participate in hosti...</td>\n",
       "      <td>NaN</td>\n",
       "      <td>NaN</td>\n",
       "      <td>Data has been extracted and entered manually f...</td>\n",
       "      <td>Child Soldiers Index:\\n\\n</td>\n",
       "      <td>file:../data_in/data_raw_manually_extracted/hu...</td>\n",
       "      <td>2022</td>\n",
       "      <td>2=Yes; 1=No; 0=Don't know/ No data received/ N...</td>\n",
       "      <td>NaN</td>\n",
       "      <td>O</td>\n",
       "    </tr>\n",
       "    <tr>\n",
       "      <th>194</th>\n",
       "      <td>ZWE</td>\n",
       "      <td>2017.0</td>\n",
       "      <td>0</td>\n",
       "      <td>both</td>\n",
       "      <td>Use of children in hostilities prohibited</td>\n",
       "      <td>Community and Environment</td>\n",
       "      <td>Security arrangements</td>\n",
       "      <td>Legal framework national</td>\n",
       "      <td>CE_SA_LF_USCHHP</td>\n",
       "      <td>https://childsoldiersworldindex.org/_x000D_\\n</td>\n",
       "      <td>...</td>\n",
       "      <td>Is the use of children to participate in hosti...</td>\n",
       "      <td>NaN</td>\n",
       "      <td>NaN</td>\n",
       "      <td>Data has been extracted and entered manually f...</td>\n",
       "      <td>Child Soldiers Index:\\n\\n</td>\n",
       "      <td>file:../data_in/data_raw_manually_extracted/hu...</td>\n",
       "      <td>2022</td>\n",
       "      <td>2=Yes; 1=No; 0=Don't know/ No data received/ N...</td>\n",
       "      <td>NaN</td>\n",
       "      <td>O</td>\n",
       "    </tr>\n",
       "  </tbody>\n",
       "</table>\n",
       "<p>195 rows × 21 columns</p>\n",
       "</div>"
      ],
      "text/plain": [
       "    COUNTRY_ISO_3  TIME_PERIOD  RAW_OBS_VALUE _merge  \\\n",
       "0             AFG       2017.0              0   both   \n",
       "1             ALB       2017.0              0   both   \n",
       "2             AND       2017.0              0   both   \n",
       "3             DZA       2017.0              0   both   \n",
       "4             AGO       2017.0              0   both   \n",
       "..            ...          ...            ...    ...   \n",
       "190           VEN       2017.0              0   both   \n",
       "191           VNM       2017.0              0   both   \n",
       "192           YEM       2017.0              0   both   \n",
       "193           ZMB       2017.0              0   both   \n",
       "194           ZWE       2017.0              0   both   \n",
       "\n",
       "                                INDICATOR_NAME            INDICATOR_INDEX  \\\n",
       "0    Use of children in hostilities prohibited  Community and Environment   \n",
       "1    Use of children in hostilities prohibited  Community and Environment   \n",
       "2    Use of children in hostilities prohibited  Community and Environment   \n",
       "3    Use of children in hostilities prohibited  Community and Environment   \n",
       "4    Use of children in hostilities prohibited  Community and Environment   \n",
       "..                                         ...                        ...   \n",
       "190  Use of children in hostilities prohibited  Community and Environment   \n",
       "191  Use of children in hostilities prohibited  Community and Environment   \n",
       "192  Use of children in hostilities prohibited  Community and Environment   \n",
       "193  Use of children in hostilities prohibited  Community and Environment   \n",
       "194  Use of children in hostilities prohibited  Community and Environment   \n",
       "\n",
       "           INDICATOR_ISSUE        INDICATOR_CATEGORY   INDICATOR_CODE  \\\n",
       "0    Security arrangements  Legal framework national  CE_SA_LF_USCHHP   \n",
       "1    Security arrangements  Legal framework national  CE_SA_LF_USCHHP   \n",
       "2    Security arrangements  Legal framework national  CE_SA_LF_USCHHP   \n",
       "3    Security arrangements  Legal framework national  CE_SA_LF_USCHHP   \n",
       "4    Security arrangements  Legal framework national  CE_SA_LF_USCHHP   \n",
       "..                     ...                       ...              ...   \n",
       "190  Security arrangements  Legal framework national  CE_SA_LF_USCHHP   \n",
       "191  Security arrangements  Legal framework national  CE_SA_LF_USCHHP   \n",
       "192  Security arrangements  Legal framework national  CE_SA_LF_USCHHP   \n",
       "193  Security arrangements  Legal framework national  CE_SA_LF_USCHHP   \n",
       "194  Security arrangements  Legal framework national  CE_SA_LF_USCHHP   \n",
       "\n",
       "                                        ATTR_SOURCE  ...  \\\n",
       "0     https://childsoldiersworldindex.org/_x000D_\\n  ...   \n",
       "1     https://childsoldiersworldindex.org/_x000D_\\n  ...   \n",
       "2     https://childsoldiersworldindex.org/_x000D_\\n  ...   \n",
       "3     https://childsoldiersworldindex.org/_x000D_\\n  ...   \n",
       "4     https://childsoldiersworldindex.org/_x000D_\\n  ...   \n",
       "..                                              ...  ...   \n",
       "190   https://childsoldiersworldindex.org/_x000D_\\n  ...   \n",
       "191   https://childsoldiersworldindex.org/_x000D_\\n  ...   \n",
       "192   https://childsoldiersworldindex.org/_x000D_\\n  ...   \n",
       "193   https://childsoldiersworldindex.org/_x000D_\\n  ...   \n",
       "194   https://childsoldiersworldindex.org/_x000D_\\n  ...   \n",
       "\n",
       "                            ATTR_INDICATOR_DESCRIPTION  \\\n",
       "0    Is the use of children to participate in hosti...   \n",
       "1    Is the use of children to participate in hosti...   \n",
       "2    Is the use of children to participate in hosti...   \n",
       "3    Is the use of children to participate in hosti...   \n",
       "4    Is the use of children to participate in hosti...   \n",
       "..                                                 ...   \n",
       "190  Is the use of children to participate in hosti...   \n",
       "191  Is the use of children to participate in hosti...   \n",
       "192  Is the use of children to participate in hosti...   \n",
       "193  Is the use of children to participate in hosti...   \n",
       "194  Is the use of children to participate in hosti...   \n",
       "\n",
       "    ATTR_INDICATOR_EXPLANATION  ATTR_UNIT_MEASURE  \\\n",
       "0                          NaN                NaN   \n",
       "1                          NaN                NaN   \n",
       "2                          NaN                NaN   \n",
       "3                          NaN                NaN   \n",
       "4                          NaN                NaN   \n",
       "..                         ...                ...   \n",
       "190                        NaN                NaN   \n",
       "191                        NaN                NaN   \n",
       "192                        NaN                NaN   \n",
       "193                        NaN                NaN   \n",
       "194                        NaN                NaN   \n",
       "\n",
       "                       ATTR_DATA_EXTRACTION_METHDOLOGY  \\\n",
       "0    Data has been extracted and entered manually f...   \n",
       "1    Data has been extracted and entered manually f...   \n",
       "2    Data has been extracted and entered manually f...   \n",
       "3    Data has been extracted and entered manually f...   \n",
       "4    Data has been extracted and entered manually f...   \n",
       "..                                                 ...   \n",
       "190  Data has been extracted and entered manually f...   \n",
       "191  Data has been extracted and entered manually f...   \n",
       "192  Data has been extracted and entered manually f...   \n",
       "193  Data has been extracted and entered manually f...   \n",
       "194  Data has been extracted and entered manually f...   \n",
       "\n",
       "             ATTR_SOURCE_TITLE  \\\n",
       "0    Child Soldiers Index:\\n\\n   \n",
       "1    Child Soldiers Index:\\n\\n   \n",
       "2    Child Soldiers Index:\\n\\n   \n",
       "3    Child Soldiers Index:\\n\\n   \n",
       "4    Child Soldiers Index:\\n\\n   \n",
       "..                         ...   \n",
       "190  Child Soldiers Index:\\n\\n   \n",
       "191  Child Soldiers Index:\\n\\n   \n",
       "192  Child Soldiers Index:\\n\\n   \n",
       "193  Child Soldiers Index:\\n\\n   \n",
       "194  Child Soldiers Index:\\n\\n   \n",
       "\n",
       "                                 ATTR_API_ENDPOINT_URL CRBA_RELEASE_YEAR  \\\n",
       "0    file:../data_in/data_raw_manually_extracted/hu...              2022   \n",
       "1    file:../data_in/data_raw_manually_extracted/hu...              2022   \n",
       "2    file:../data_in/data_raw_manually_extracted/hu...              2022   \n",
       "3    file:../data_in/data_raw_manually_extracted/hu...              2022   \n",
       "4    file:../data_in/data_raw_manually_extracted/hu...              2022   \n",
       "..                                                 ...               ...   \n",
       "190  file:../data_in/data_raw_manually_extracted/hu...              2022   \n",
       "191  file:../data_in/data_raw_manually_extracted/hu...              2022   \n",
       "192  file:../data_in/data_raw_manually_extracted/hu...              2022   \n",
       "193  file:../data_in/data_raw_manually_extracted/hu...              2022   \n",
       "194  file:../data_in/data_raw_manually_extracted/hu...              2022   \n",
       "\n",
       "                                  ATTR_ENCODING_LABELS SCALED_OBS_VALUE  \\\n",
       "0    2=Yes; 1=No; 0=Don't know/ No data received/ N...              NaN   \n",
       "1    2=Yes; 1=No; 0=Don't know/ No data received/ N...              NaN   \n",
       "2    2=Yes; 1=No; 0=Don't know/ No data received/ N...              NaN   \n",
       "3    2=Yes; 1=No; 0=Don't know/ No data received/ N...              NaN   \n",
       "4    2=Yes; 1=No; 0=Don't know/ No data received/ N...              NaN   \n",
       "..                                                 ...              ...   \n",
       "190  2=Yes; 1=No; 0=Don't know/ No data received/ N...              NaN   \n",
       "191  2=Yes; 1=No; 0=Don't know/ No data received/ N...              NaN   \n",
       "192  2=Yes; 1=No; 0=Don't know/ No data received/ N...              NaN   \n",
       "193  2=Yes; 1=No; 0=Don't know/ No data received/ N...              NaN   \n",
       "194  2=Yes; 1=No; 0=Don't know/ No data received/ N...              NaN   \n",
       "\n",
       "     OBS_STATUS  \n",
       "0             O  \n",
       "1             O  \n",
       "2             O  \n",
       "3             O  \n",
       "4             O  \n",
       "..          ...  \n",
       "190           O  \n",
       "191           O  \n",
       "192           O  \n",
       "193           O  \n",
       "194           O  \n",
       "\n",
       "[195 rows x 21 columns]"
      ]
     },
     "execution_count": 9,
     "metadata": {},
     "output_type": "execute_result"
    }
   ],
   "source": [
    "df"
   ]
  },
  {
   "cell_type": "code",
   "execution_count": 10,
   "metadata": {},
   "outputs": [],
   "source": [
    "batch_request = RuntimeBatchRequest(\n",
    "    datasource_name=\"example_datasource\",\n",
    "    data_connector_name=\"default_runtime_data_connector_name\",\n",
    "    data_asset_name=\"S_176\",  # This can be anything that identifies this data_asset for you\n",
    "    runtime_parameters={\"batch_data\": df},  # df is your dataframe\n",
    "    batch_identifiers={\"default_identifier_name\": \"default_identifier\"},\n",
    ")"
   ]
  },
  {
   "cell_type": "code",
   "execution_count": 31,
   "metadata": {},
   "outputs": [
    {
     "data": {
      "application/vnd.jupyter.widget-view+json": {
       "model_id": "746a0f3ab6ea4a48964cc5fc4d4baa5b",
       "version_major": 2,
       "version_minor": 0
      },
      "text/plain": [
       "Calculating Metrics:   0%|          | 0/1 [00:00<?, ?it/s]"
      ]
     },
     "metadata": {},
     "output_type": "display_data"
    },
    {
     "name": "stdout",
     "output_type": "stream",
     "text": [
      "  COUNTRY_ISO_3  TIME_PERIOD  RAW_OBS_VALUE _merge  \\\n",
      "0           AFG       2017.0              0   both   \n",
      "1           ALB       2017.0              0   both   \n",
      "2           AND       2017.0              0   both   \n",
      "3           DZA       2017.0              0   both   \n",
      "4           AGO       2017.0              0   both   \n",
      "\n",
      "                              INDICATOR_NAME            INDICATOR_INDEX  \\\n",
      "0  Use of children in hostilities prohibited  Community and Environment   \n",
      "1  Use of children in hostilities prohibited  Community and Environment   \n",
      "2  Use of children in hostilities prohibited  Community and Environment   \n",
      "3  Use of children in hostilities prohibited  Community and Environment   \n",
      "4  Use of children in hostilities prohibited  Community and Environment   \n",
      "\n",
      "         INDICATOR_ISSUE        INDICATOR_CATEGORY   INDICATOR_CODE  \\\n",
      "0  Security arrangements  Legal framework national  CE_SA_LF_USCHHP   \n",
      "1  Security arrangements  Legal framework national  CE_SA_LF_USCHHP   \n",
      "2  Security arrangements  Legal framework national  CE_SA_LF_USCHHP   \n",
      "3  Security arrangements  Legal framework national  CE_SA_LF_USCHHP   \n",
      "4  Security arrangements  Legal framework national  CE_SA_LF_USCHHP   \n",
      "\n",
      "                                      ATTR_SOURCE  ...  \\\n",
      "0   https://childsoldiersworldindex.org/_x000D_\\n  ...   \n",
      "1   https://childsoldiersworldindex.org/_x000D_\\n  ...   \n",
      "2   https://childsoldiersworldindex.org/_x000D_\\n  ...   \n",
      "3   https://childsoldiersworldindex.org/_x000D_\\n  ...   \n",
      "4   https://childsoldiersworldindex.org/_x000D_\\n  ...   \n",
      "\n",
      "                          ATTR_INDICATOR_DESCRIPTION  \\\n",
      "0  Is the use of children to participate in hosti...   \n",
      "1  Is the use of children to participate in hosti...   \n",
      "2  Is the use of children to participate in hosti...   \n",
      "3  Is the use of children to participate in hosti...   \n",
      "4  Is the use of children to participate in hosti...   \n",
      "\n",
      "  ATTR_INDICATOR_EXPLANATION  ATTR_UNIT_MEASURE  \\\n",
      "0                        NaN                NaN   \n",
      "1                        NaN                NaN   \n",
      "2                        NaN                NaN   \n",
      "3                        NaN                NaN   \n",
      "4                        NaN                NaN   \n",
      "\n",
      "                     ATTR_DATA_EXTRACTION_METHDOLOGY  \\\n",
      "0  Data has been extracted and entered manually f...   \n",
      "1  Data has been extracted and entered manually f...   \n",
      "2  Data has been extracted and entered manually f...   \n",
      "3  Data has been extracted and entered manually f...   \n",
      "4  Data has been extracted and entered manually f...   \n",
      "\n",
      "           ATTR_SOURCE_TITLE  \\\n",
      "0  Child Soldiers Index:\\n\\n   \n",
      "1  Child Soldiers Index:\\n\\n   \n",
      "2  Child Soldiers Index:\\n\\n   \n",
      "3  Child Soldiers Index:\\n\\n   \n",
      "4  Child Soldiers Index:\\n\\n   \n",
      "\n",
      "                               ATTR_API_ENDPOINT_URL CRBA_RELEASE_YEAR  \\\n",
      "0  file:../data_in/data_raw_manually_extracted/hu...              2022   \n",
      "1  file:../data_in/data_raw_manually_extracted/hu...              2022   \n",
      "2  file:../data_in/data_raw_manually_extracted/hu...              2022   \n",
      "3  file:../data_in/data_raw_manually_extracted/hu...              2022   \n",
      "4  file:../data_in/data_raw_manually_extracted/hu...              2022   \n",
      "\n",
      "                                ATTR_ENCODING_LABELS SCALED_OBS_VALUE  \\\n",
      "0  2=Yes; 1=No; 0=Don't know/ No data received/ N...              NaN   \n",
      "1  2=Yes; 1=No; 0=Don't know/ No data received/ N...              NaN   \n",
      "2  2=Yes; 1=No; 0=Don't know/ No data received/ N...              NaN   \n",
      "3  2=Yes; 1=No; 0=Don't know/ No data received/ N...              NaN   \n",
      "4  2=Yes; 1=No; 0=Don't know/ No data received/ N...              NaN   \n",
      "\n",
      "   OBS_STATUS  \n",
      "0           O  \n",
      "1           O  \n",
      "2           O  \n",
      "3           O  \n",
      "4           O  \n",
      "\n",
      "[5 rows x 21 columns]\n"
     ]
    }
   ],
   "source": [
    "context.create_expectation_suite(\n",
    "    expectation_suite_name=\"indicator_test_suite\", overwrite_existing=True\n",
    ")\n",
    "\n",
    "validator = context.get_validator(\n",
    "    batch_request=batch_request, expectation_suite_name=\"indicator_test_suite\"\n",
    ")\n",
    "print(validator.head())"
   ]
  },
  {
   "cell_type": "code",
   "execution_count": 20,
   "metadata": {},
   "outputs": [
    {
     "data": {
      "text/plain": [
       "<great_expectations.validator.validator.Validator at 0x7fe5e9b45430>"
      ]
     },
     "execution_count": 20,
     "metadata": {},
     "output_type": "execute_result"
    }
   ],
   "source": [
    "validator"
   ]
  },
  {
   "cell_type": "code",
   "execution_count": 11,
   "metadata": {},
   "outputs": [
    {
     "name": "stdout",
     "output_type": "stream",
     "text": [
      "\n"
     ]
    },
    {
     "data": {
      "application/vnd.jupyter.widget-view+json": {
       "model_id": "2d09894bc3714786a9edf9f23ddc9ad2",
       "version_major": 2,
       "version_minor": 0
      },
      "text/plain": [
       "Generating Expectations:   0%|          | 0/8 [00:00<?, ?it/s]"
      ]
     },
     "metadata": {},
     "output_type": "display_data"
    },
    {
     "data": {
      "application/vnd.jupyter.widget-view+json": {
       "model_id": "5d0d10155b1247e79c5a0a1ee2947a70",
       "version_major": 2,
       "version_minor": 0
      },
      "text/plain": [
       "Profiling Dataset:         0%|          | 0/1 [00:00<?, ?it/s]"
      ]
     },
     "metadata": {},
     "output_type": "display_data"
    },
    {
     "data": {
      "application/vnd.jupyter.widget-view+json": {
       "model_id": "2479393df0b541f8a7cec52421f41588",
       "version_major": 2,
       "version_minor": 0
      },
      "text/plain": [
       "Calculating Metrics:   0%|          | 0/1 [00:00<?, ?it/s]"
      ]
     },
     "metadata": {},
     "output_type": "display_data"
    },
    {
     "data": {
      "application/vnd.jupyter.widget-view+json": {
       "model_id": "f258a723ec244f64bdc4db90109823ac",
       "version_major": 2,
       "version_minor": 0
      },
      "text/plain": [
       "Calculating Metrics:   0%|          | 0/2 [00:00<?, ?it/s]"
      ]
     },
     "metadata": {},
     "output_type": "display_data"
    },
    {
     "data": {
      "application/vnd.jupyter.widget-view+json": {
       "model_id": "12426496f8bf4aaabca12debcc42a82b",
       "version_major": 2,
       "version_minor": 0
      },
      "text/plain": [
       "Calculating Metrics:   0%|          | 0/2 [00:00<?, ?it/s]"
      ]
     },
     "metadata": {},
     "output_type": "display_data"
    },
    {
     "data": {
      "application/vnd.jupyter.widget-view+json": {
       "model_id": "07acd2b6a1d74190ae76ff58ef53e82e",
       "version_major": 2,
       "version_minor": 0
      },
      "text/plain": [
       "Calculating Metrics:   0%|          | 0/2 [00:00<?, ?it/s]"
      ]
     },
     "metadata": {},
     "output_type": "display_data"
    },
    {
     "data": {
      "application/vnd.jupyter.widget-view+json": {
       "model_id": "8487cf578d74432da34dec6f8ec1a0fa",
       "version_major": 2,
       "version_minor": 0
      },
      "text/plain": [
       "Calculating Metrics:   0%|          | 0/1 [00:00<?, ?it/s]"
      ]
     },
     "metadata": {},
     "output_type": "display_data"
    },
    {
     "data": {
      "application/vnd.jupyter.widget-view+json": {
       "model_id": "0c612ac1f3264b8c8594294c70b071a5",
       "version_major": 2,
       "version_minor": 0
      },
      "text/plain": [
       "Calculating Metrics:   0%|          | 0/1 [00:00<?, ?it/s]"
      ]
     },
     "metadata": {},
     "output_type": "display_data"
    },
    {
     "data": {
      "application/vnd.jupyter.widget-view+json": {
       "model_id": "7eb9a493afb24223b0bacbaa06c0c85b",
       "version_major": 2,
       "version_minor": 0
      },
      "text/plain": [
       "Calculating Metrics:   0%|          | 0/45 [00:00<?, ?it/s]"
      ]
     },
     "metadata": {},
     "output_type": "display_data"
    },
    {
     "data": {
      "application/vnd.jupyter.widget-view+json": {
       "model_id": "ac0dcafeb9ee4285bae349b62d594e8c",
       "version_major": 2,
       "version_minor": 0
      },
      "text/plain": [
       "Profiling Dataset:         0%|          | 0/3 [00:00<?, ?it/s]"
      ]
     },
     "metadata": {},
     "output_type": "display_data"
    },
    {
     "data": {
      "application/vnd.jupyter.widget-view+json": {
       "model_id": "c90110592a6d497baca9c43747346076",
       "version_major": 2,
       "version_minor": 0
      },
      "text/plain": [
       "Calculating Metrics:   0%|          | 0/5 [00:00<?, ?it/s]"
      ]
     },
     "metadata": {},
     "output_type": "display_data"
    },
    {
     "data": {
      "application/vnd.jupyter.widget-view+json": {
       "model_id": "03787883021b4747b4ff2e1164537af3",
       "version_major": 2,
       "version_minor": 0
      },
      "text/plain": [
       "Calculating Metrics:   0%|          | 0/1 [00:00<?, ?it/s]"
      ]
     },
     "metadata": {},
     "output_type": "display_data"
    },
    {
     "data": {
      "application/vnd.jupyter.widget-view+json": {
       "model_id": "58aaa760d6fe4f55b929afcb70d07e67",
       "version_major": 2,
       "version_minor": 0
      },
      "text/plain": [
       "Calculating Metrics:   0%|          | 0/5 [00:00<?, ?it/s]"
      ]
     },
     "metadata": {},
     "output_type": "display_data"
    },
    {
     "data": {
      "application/vnd.jupyter.widget-view+json": {
       "model_id": "b286e4a40feb4a0fb4dbd8247515c987",
       "version_major": 2,
       "version_minor": 0
      },
      "text/plain": [
       "Calculating Metrics:   0%|          | 0/5 [00:00<?, ?it/s]"
      ]
     },
     "metadata": {},
     "output_type": "display_data"
    },
    {
     "data": {
      "application/vnd.jupyter.widget-view+json": {
       "model_id": "8a93b16e07244cb5a0766f36f0f46bcf",
       "version_major": 2,
       "version_minor": 0
      },
      "text/plain": [
       "Calculating Metrics:   0%|          | 0/5 [00:00<?, ?it/s]"
      ]
     },
     "metadata": {},
     "output_type": "display_data"
    },
    {
     "data": {
      "application/vnd.jupyter.widget-view+json": {
       "model_id": "e6db03074a734c83a66b77b0f5115c32",
       "version_major": 2,
       "version_minor": 0
      },
      "text/plain": [
       "Calculating Metrics:   0%|          | 0/1 [00:00<?, ?it/s]"
      ]
     },
     "metadata": {},
     "output_type": "display_data"
    },
    {
     "data": {
      "application/vnd.jupyter.widget-view+json": {
       "model_id": "699ea7dbd7b949898e46ce0b301dd0fd",
       "version_major": 2,
       "version_minor": 0
      },
      "text/plain": [
       "Calculating Metrics:   0%|          | 0/5 [00:00<?, ?it/s]"
      ]
     },
     "metadata": {},
     "output_type": "display_data"
    },
    {
     "data": {
      "application/vnd.jupyter.widget-view+json": {
       "model_id": "cedcdff1426047e2990741db8cab4eeb",
       "version_major": 2,
       "version_minor": 0
      },
      "text/plain": [
       "Calculating Metrics:   0%|          | 0/5 [00:00<?, ?it/s]"
      ]
     },
     "metadata": {},
     "output_type": "display_data"
    },
    {
     "data": {
      "application/vnd.jupyter.widget-view+json": {
       "model_id": "66611533d17a476d92b31fbfea013c0e",
       "version_major": 2,
       "version_minor": 0
      },
      "text/plain": [
       "Calculating Metrics:   0%|          | 0/5 [00:00<?, ?it/s]"
      ]
     },
     "metadata": {},
     "output_type": "display_data"
    },
    {
     "data": {
      "application/vnd.jupyter.widget-view+json": {
       "model_id": "57f48f16c28e4f14b4fee6b9b6d3c3b2",
       "version_major": 2,
       "version_minor": 0
      },
      "text/plain": [
       "Calculating Metrics:   0%|          | 0/1 [00:00<?, ?it/s]"
      ]
     },
     "metadata": {},
     "output_type": "display_data"
    },
    {
     "data": {
      "application/vnd.jupyter.widget-view+json": {
       "model_id": "6a3b91f7e7bb4929bae8c1ccda32768c",
       "version_major": 2,
       "version_minor": 0
      },
      "text/plain": [
       "Calculating Metrics:   0%|          | 0/5 [00:00<?, ?it/s]"
      ]
     },
     "metadata": {},
     "output_type": "display_data"
    },
    {
     "data": {
      "application/vnd.jupyter.widget-view+json": {
       "model_id": "7064d006585c4d07890216de70cffa24",
       "version_major": 2,
       "version_minor": 0
      },
      "text/plain": [
       "Calculating Metrics:   0%|          | 0/5 [00:00<?, ?it/s]"
      ]
     },
     "metadata": {},
     "output_type": "display_data"
    },
    {
     "data": {
      "application/vnd.jupyter.widget-view+json": {
       "model_id": "c15d8bba87fa4eb2ad57a6a041ed3598",
       "version_major": 2,
       "version_minor": 0
      },
      "text/plain": [
       "Calculating Metrics:   0%|          | 0/2 [00:00<?, ?it/s]"
      ]
     },
     "metadata": {},
     "output_type": "display_data"
    },
    {
     "data": {
      "application/vnd.jupyter.widget-view+json": {
       "model_id": "36392bfa9bb54c3794995d839a506d8b",
       "version_major": 2,
       "version_minor": 0
      },
      "text/plain": [
       "Calculating Metrics:   0%|          | 0/1 [00:00<?, ?it/s]"
      ]
     },
     "metadata": {},
     "output_type": "display_data"
    },
    {
     "data": {
      "application/vnd.jupyter.widget-view+json": {
       "model_id": "2a7570231a09425a92ade3c9e9e6e52b",
       "version_major": 2,
       "version_minor": 0
      },
      "text/plain": [
       "Calculating Metrics:   0%|          | 0/1 [00:00<?, ?it/s]"
      ]
     },
     "metadata": {},
     "output_type": "display_data"
    },
    {
     "data": {
      "application/vnd.jupyter.widget-view+json": {
       "model_id": "ac3cc8a73f2b4f49bb55d6c3f3a22151",
       "version_major": 2,
       "version_minor": 0
      },
      "text/plain": [
       "Calculating Metrics:   0%|          | 0/45 [00:00<?, ?it/s]"
      ]
     },
     "metadata": {},
     "output_type": "display_data"
    },
    {
     "data": {
      "application/vnd.jupyter.widget-view+json": {
       "model_id": "095d46668a3c44d1a0676f286f1ffdf6",
       "version_major": 2,
       "version_minor": 0
      },
      "text/plain": [
       "Profiling Dataset:         0%|          | 0/2 [00:00<?, ?it/s]"
      ]
     },
     "metadata": {},
     "output_type": "display_data"
    },
    {
     "data": {
      "application/vnd.jupyter.widget-view+json": {
       "model_id": "ff90567f928c46e0a7d9bc6cff43b8a5",
       "version_major": 2,
       "version_minor": 0
      },
      "text/plain": [
       "Calculating Metrics:   0%|          | 0/5 [00:00<?, ?it/s]"
      ]
     },
     "metadata": {},
     "output_type": "display_data"
    },
    {
     "data": {
      "application/vnd.jupyter.widget-view+json": {
       "model_id": "16157e4ca70c46c5a03752edef270181",
       "version_major": 2,
       "version_minor": 0
      },
      "text/plain": [
       "Calculating Metrics:   0%|          | 0/1 [00:00<?, ?it/s]"
      ]
     },
     "metadata": {},
     "output_type": "display_data"
    },
    {
     "data": {
      "application/vnd.jupyter.widget-view+json": {
       "model_id": "8dc17372a01240aeb7934ad0fe6007dd",
       "version_major": 2,
       "version_minor": 0
      },
      "text/plain": [
       "Calculating Metrics:   0%|          | 0/5 [00:00<?, ?it/s]"
      ]
     },
     "metadata": {},
     "output_type": "display_data"
    },
    {
     "data": {
      "application/vnd.jupyter.widget-view+json": {
       "model_id": "69d4beff239d4ad795102ab24cb3b3b0",
       "version_major": 2,
       "version_minor": 0
      },
      "text/plain": [
       "Calculating Metrics:   0%|          | 0/5 [00:00<?, ?it/s]"
      ]
     },
     "metadata": {},
     "output_type": "display_data"
    },
    {
     "data": {
      "application/vnd.jupyter.widget-view+json": {
       "model_id": "60e0c9f12d7447ff819c374bbd81c3ed",
       "version_major": 2,
       "version_minor": 0
      },
      "text/plain": [
       "Calculating Metrics:   0%|          | 0/1 [00:00<?, ?it/s]"
      ]
     },
     "metadata": {},
     "output_type": "display_data"
    },
    {
     "data": {
      "application/vnd.jupyter.widget-view+json": {
       "model_id": "e0bbf9d3d3914674bf06321488704522",
       "version_major": 2,
       "version_minor": 0
      },
      "text/plain": [
       "Calculating Metrics:   0%|          | 0/5 [00:00<?, ?it/s]"
      ]
     },
     "metadata": {},
     "output_type": "display_data"
    },
    {
     "data": {
      "application/vnd.jupyter.widget-view+json": {
       "model_id": "b63dc29c2411487184562d19f3ab5d96",
       "version_major": 2,
       "version_minor": 0
      },
      "text/plain": [
       "Calculating Metrics:   0%|          | 0/2 [00:00<?, ?it/s]"
      ]
     },
     "metadata": {},
     "output_type": "display_data"
    },
    {
     "data": {
      "application/vnd.jupyter.widget-view+json": {
       "model_id": "69045ec679514bde891dde44aa534f2e",
       "version_major": 2,
       "version_minor": 0
      },
      "text/plain": [
       "Calculating Metrics:   0%|          | 0/1 [00:00<?, ?it/s]"
      ]
     },
     "metadata": {},
     "output_type": "display_data"
    },
    {
     "data": {
      "application/vnd.jupyter.widget-view+json": {
       "model_id": "b6379eee9a804cd592e0bde7b224e4a9",
       "version_major": 2,
       "version_minor": 0
      },
      "text/plain": [
       "Calculating Metrics:   0%|          | 0/1 [00:00<?, ?it/s]"
      ]
     },
     "metadata": {},
     "output_type": "display_data"
    },
    {
     "data": {
      "application/vnd.jupyter.widget-view+json": {
       "model_id": "2da12f8bf01a4374a0d8b1cda1e51456",
       "version_major": 2,
       "version_minor": 0
      },
      "text/plain": [
       "Calculating Metrics:   0%|          | 0/45 [00:00<?, ?it/s]"
      ]
     },
     "metadata": {},
     "output_type": "display_data"
    },
    {
     "data": {
      "application/vnd.jupyter.widget-view+json": {
       "model_id": "9a123c679fe7491a86b72f5a5bcc7132",
       "version_major": 2,
       "version_minor": 0
      },
      "text/plain": [
       "Profiling Dataset:         0%|          | 0/17 [00:00<?, ?it/s]"
      ]
     },
     "metadata": {},
     "output_type": "display_data"
    },
    {
     "data": {
      "application/vnd.jupyter.widget-view+json": {
       "model_id": "3329c36848204e9db05da4c5dc830585",
       "version_major": 2,
       "version_minor": 0
      },
      "text/plain": [
       "Calculating Metrics:   0%|          | 0/5 [00:00<?, ?it/s]"
      ]
     },
     "metadata": {},
     "output_type": "display_data"
    },
    {
     "data": {
      "application/vnd.jupyter.widget-view+json": {
       "model_id": "3ef0c1ae898c476fb31ff072514aefb5",
       "version_major": 2,
       "version_minor": 0
      },
      "text/plain": [
       "Calculating Metrics:   0%|          | 0/1 [00:00<?, ?it/s]"
      ]
     },
     "metadata": {},
     "output_type": "display_data"
    },
    {
     "data": {
      "application/vnd.jupyter.widget-view+json": {
       "model_id": "b549292a52dd448e828f22ba658714f8",
       "version_major": 2,
       "version_minor": 0
      },
      "text/plain": [
       "Calculating Metrics:   0%|          | 0/5 [00:00<?, ?it/s]"
      ]
     },
     "metadata": {},
     "output_type": "display_data"
    },
    {
     "data": {
      "application/vnd.jupyter.widget-view+json": {
       "model_id": "b3b840954bc340ccb518685d92be592d",
       "version_major": 2,
       "version_minor": 0
      },
      "text/plain": [
       "Calculating Metrics:   0%|          | 0/5 [00:00<?, ?it/s]"
      ]
     },
     "metadata": {},
     "output_type": "display_data"
    },
    {
     "data": {
      "application/vnd.jupyter.widget-view+json": {
       "model_id": "f2c9eb9abd804b25a70225dac1b32f8a",
       "version_major": 2,
       "version_minor": 0
      },
      "text/plain": [
       "Calculating Metrics:   0%|          | 0/5 [00:00<?, ?it/s]"
      ]
     },
     "metadata": {},
     "output_type": "display_data"
    },
    {
     "data": {
      "application/vnd.jupyter.widget-view+json": {
       "model_id": "ef5ece51d7524c60aa84179aa92f6e38",
       "version_major": 2,
       "version_minor": 0
      },
      "text/plain": [
       "Calculating Metrics:   0%|          | 0/1 [00:00<?, ?it/s]"
      ]
     },
     "metadata": {},
     "output_type": "display_data"
    },
    {
     "data": {
      "application/vnd.jupyter.widget-view+json": {
       "model_id": "1377afc8e69e44519845fd07e74cb139",
       "version_major": 2,
       "version_minor": 0
      },
      "text/plain": [
       "Calculating Metrics:   0%|          | 0/5 [00:00<?, ?it/s]"
      ]
     },
     "metadata": {},
     "output_type": "display_data"
    },
    {
     "data": {
      "application/vnd.jupyter.widget-view+json": {
       "model_id": "a7782bcce42c4da3819402630cd1b199",
       "version_major": 2,
       "version_minor": 0
      },
      "text/plain": [
       "Calculating Metrics:   0%|          | 0/5 [00:00<?, ?it/s]"
      ]
     },
     "metadata": {},
     "output_type": "display_data"
    },
    {
     "data": {
      "application/vnd.jupyter.widget-view+json": {
       "model_id": "83f7577df34442f181d634bd7ba08663",
       "version_major": 2,
       "version_minor": 0
      },
      "text/plain": [
       "Calculating Metrics:   0%|          | 0/5 [00:00<?, ?it/s]"
      ]
     },
     "metadata": {},
     "output_type": "display_data"
    },
    {
     "data": {
      "application/vnd.jupyter.widget-view+json": {
       "model_id": "e45bada2c92f421ba22823c91cfa2dc1",
       "version_major": 2,
       "version_minor": 0
      },
      "text/plain": [
       "Calculating Metrics:   0%|          | 0/1 [00:00<?, ?it/s]"
      ]
     },
     "metadata": {},
     "output_type": "display_data"
    },
    {
     "data": {
      "application/vnd.jupyter.widget-view+json": {
       "model_id": "c2bb77acc8c6487c80b86a4f000d3d26",
       "version_major": 2,
       "version_minor": 0
      },
      "text/plain": [
       "Calculating Metrics:   0%|          | 0/5 [00:00<?, ?it/s]"
      ]
     },
     "metadata": {},
     "output_type": "display_data"
    },
    {
     "data": {
      "application/vnd.jupyter.widget-view+json": {
       "model_id": "8ec42fecaf2d439b8313636995075e77",
       "version_major": 2,
       "version_minor": 0
      },
      "text/plain": [
       "Calculating Metrics:   0%|          | 0/5 [00:00<?, ?it/s]"
      ]
     },
     "metadata": {},
     "output_type": "display_data"
    },
    {
     "data": {
      "application/vnd.jupyter.widget-view+json": {
       "model_id": "687ced8f0f5d4c6d965e31e30bcde210",
       "version_major": 2,
       "version_minor": 0
      },
      "text/plain": [
       "Calculating Metrics:   0%|          | 0/5 [00:00<?, ?it/s]"
      ]
     },
     "metadata": {},
     "output_type": "display_data"
    },
    {
     "data": {
      "application/vnd.jupyter.widget-view+json": {
       "model_id": "ae163ab88481492faaaaf1d7b1eb1719",
       "version_major": 2,
       "version_minor": 0
      },
      "text/plain": [
       "Calculating Metrics:   0%|          | 0/1 [00:00<?, ?it/s]"
      ]
     },
     "metadata": {},
     "output_type": "display_data"
    },
    {
     "data": {
      "application/vnd.jupyter.widget-view+json": {
       "model_id": "291bb2feb6354c58958b39b0dbf2b31b",
       "version_major": 2,
       "version_minor": 0
      },
      "text/plain": [
       "Calculating Metrics:   0%|          | 0/5 [00:00<?, ?it/s]"
      ]
     },
     "metadata": {},
     "output_type": "display_data"
    },
    {
     "data": {
      "application/vnd.jupyter.widget-view+json": {
       "model_id": "82587c8177954572aead3d72235c00fe",
       "version_major": 2,
       "version_minor": 0
      },
      "text/plain": [
       "Calculating Metrics:   0%|          | 0/5 [00:00<?, ?it/s]"
      ]
     },
     "metadata": {},
     "output_type": "display_data"
    },
    {
     "data": {
      "application/vnd.jupyter.widget-view+json": {
       "model_id": "7af8df7ce6d04e499a50af282688d011",
       "version_major": 2,
       "version_minor": 0
      },
      "text/plain": [
       "Calculating Metrics:   0%|          | 0/5 [00:00<?, ?it/s]"
      ]
     },
     "metadata": {},
     "output_type": "display_data"
    },
    {
     "data": {
      "application/vnd.jupyter.widget-view+json": {
       "model_id": "c364716e0adf4eefab31d80339192b31",
       "version_major": 2,
       "version_minor": 0
      },
      "text/plain": [
       "Calculating Metrics:   0%|          | 0/1 [00:00<?, ?it/s]"
      ]
     },
     "metadata": {},
     "output_type": "display_data"
    },
    {
     "data": {
      "application/vnd.jupyter.widget-view+json": {
       "model_id": "92fb7c53e74b44dda79a5faede6ee3f5",
       "version_major": 2,
       "version_minor": 0
      },
      "text/plain": [
       "Calculating Metrics:   0%|          | 0/5 [00:00<?, ?it/s]"
      ]
     },
     "metadata": {},
     "output_type": "display_data"
    },
    {
     "data": {
      "application/vnd.jupyter.widget-view+json": {
       "model_id": "22011e5b136e4a1c94ade6fb8c599a76",
       "version_major": 2,
       "version_minor": 0
      },
      "text/plain": [
       "Calculating Metrics:   0%|          | 0/5 [00:00<?, ?it/s]"
      ]
     },
     "metadata": {},
     "output_type": "display_data"
    },
    {
     "data": {
      "application/vnd.jupyter.widget-view+json": {
       "model_id": "5eeb7a1a036144bcaf75c656b263850d",
       "version_major": 2,
       "version_minor": 0
      },
      "text/plain": [
       "Calculating Metrics:   0%|          | 0/5 [00:00<?, ?it/s]"
      ]
     },
     "metadata": {},
     "output_type": "display_data"
    },
    {
     "data": {
      "application/vnd.jupyter.widget-view+json": {
       "model_id": "14d24cd915414e4f804657bef236b833",
       "version_major": 2,
       "version_minor": 0
      },
      "text/plain": [
       "Calculating Metrics:   0%|          | 0/1 [00:00<?, ?it/s]"
      ]
     },
     "metadata": {},
     "output_type": "display_data"
    },
    {
     "data": {
      "application/vnd.jupyter.widget-view+json": {
       "model_id": "45b8e27b63764ec09582565d01f0c3bc",
       "version_major": 2,
       "version_minor": 0
      },
      "text/plain": [
       "Calculating Metrics:   0%|          | 0/5 [00:00<?, ?it/s]"
      ]
     },
     "metadata": {},
     "output_type": "display_data"
    },
    {
     "data": {
      "application/vnd.jupyter.widget-view+json": {
       "model_id": "4138464772c0423ab8fb614e32d5419f",
       "version_major": 2,
       "version_minor": 0
      },
      "text/plain": [
       "Calculating Metrics:   0%|          | 0/5 [00:00<?, ?it/s]"
      ]
     },
     "metadata": {},
     "output_type": "display_data"
    },
    {
     "data": {
      "application/vnd.jupyter.widget-view+json": {
       "model_id": "935c795c7356480d971620443b9f0165",
       "version_major": 2,
       "version_minor": 0
      },
      "text/plain": [
       "Calculating Metrics:   0%|          | 0/5 [00:00<?, ?it/s]"
      ]
     },
     "metadata": {},
     "output_type": "display_data"
    },
    {
     "data": {
      "application/vnd.jupyter.widget-view+json": {
       "model_id": "ec7eaaa27d3749f5a9b8931be5866423",
       "version_major": 2,
       "version_minor": 0
      },
      "text/plain": [
       "Calculating Metrics:   0%|          | 0/1 [00:00<?, ?it/s]"
      ]
     },
     "metadata": {},
     "output_type": "display_data"
    },
    {
     "data": {
      "application/vnd.jupyter.widget-view+json": {
       "model_id": "2f1ff694c9e14a8788162c2aa5f33058",
       "version_major": 2,
       "version_minor": 0
      },
      "text/plain": [
       "Calculating Metrics:   0%|          | 0/5 [00:00<?, ?it/s]"
      ]
     },
     "metadata": {},
     "output_type": "display_data"
    },
    {
     "data": {
      "application/vnd.jupyter.widget-view+json": {
       "model_id": "1f4b658b2cbe4eff9e89dffd3b1c53a1",
       "version_major": 2,
       "version_minor": 0
      },
      "text/plain": [
       "Calculating Metrics:   0%|          | 0/5 [00:00<?, ?it/s]"
      ]
     },
     "metadata": {},
     "output_type": "display_data"
    },
    {
     "data": {
      "application/vnd.jupyter.widget-view+json": {
       "model_id": "afe91e6b6d9b454ebd04415efcead933",
       "version_major": 2,
       "version_minor": 0
      },
      "text/plain": [
       "Calculating Metrics:   0%|          | 0/5 [00:00<?, ?it/s]"
      ]
     },
     "metadata": {},
     "output_type": "display_data"
    },
    {
     "data": {
      "application/vnd.jupyter.widget-view+json": {
       "model_id": "ff5c00bdb5d943c68c8394803b6be720",
       "version_major": 2,
       "version_minor": 0
      },
      "text/plain": [
       "Calculating Metrics:   0%|          | 0/1 [00:00<?, ?it/s]"
      ]
     },
     "metadata": {},
     "output_type": "display_data"
    },
    {
     "data": {
      "application/vnd.jupyter.widget-view+json": {
       "model_id": "f89f359823b547b581ecf1b53414ef44",
       "version_major": 2,
       "version_minor": 0
      },
      "text/plain": [
       "Calculating Metrics:   0%|          | 0/5 [00:00<?, ?it/s]"
      ]
     },
     "metadata": {},
     "output_type": "display_data"
    },
    {
     "data": {
      "application/vnd.jupyter.widget-view+json": {
       "model_id": "fc8dbd6d901f49fd8a944bf5e2d559b3",
       "version_major": 2,
       "version_minor": 0
      },
      "text/plain": [
       "Calculating Metrics:   0%|          | 0/5 [00:00<?, ?it/s]"
      ]
     },
     "metadata": {},
     "output_type": "display_data"
    },
    {
     "data": {
      "application/vnd.jupyter.widget-view+json": {
       "model_id": "2ef46f0e016540089613a67caf6f2083",
       "version_major": 2,
       "version_minor": 0
      },
      "text/plain": [
       "Calculating Metrics:   0%|          | 0/5 [00:00<?, ?it/s]"
      ]
     },
     "metadata": {},
     "output_type": "display_data"
    },
    {
     "data": {
      "application/vnd.jupyter.widget-view+json": {
       "model_id": "e08eb2278add40ce9c0b7af5c3228c30",
       "version_major": 2,
       "version_minor": 0
      },
      "text/plain": [
       "Calculating Metrics:   0%|          | 0/1 [00:00<?, ?it/s]"
      ]
     },
     "metadata": {},
     "output_type": "display_data"
    },
    {
     "data": {
      "application/vnd.jupyter.widget-view+json": {
       "model_id": "e4e48ae05f044719860eed629697cb5d",
       "version_major": 2,
       "version_minor": 0
      },
      "text/plain": [
       "Calculating Metrics:   0%|          | 0/5 [00:00<?, ?it/s]"
      ]
     },
     "metadata": {},
     "output_type": "display_data"
    },
    {
     "data": {
      "application/vnd.jupyter.widget-view+json": {
       "model_id": "e625aa765d934366adc9f961ff6a1d6e",
       "version_major": 2,
       "version_minor": 0
      },
      "text/plain": [
       "Calculating Metrics:   0%|          | 0/5 [00:00<?, ?it/s]"
      ]
     },
     "metadata": {},
     "output_type": "display_data"
    },
    {
     "data": {
      "application/vnd.jupyter.widget-view+json": {
       "model_id": "7252b59ae7244202b8062b2150a9d876",
       "version_major": 2,
       "version_minor": 0
      },
      "text/plain": [
       "Calculating Metrics:   0%|          | 0/5 [00:00<?, ?it/s]"
      ]
     },
     "metadata": {},
     "output_type": "display_data"
    },
    {
     "data": {
      "application/vnd.jupyter.widget-view+json": {
       "model_id": "f147c75e19ec441db7503a026dc6f5ef",
       "version_major": 2,
       "version_minor": 0
      },
      "text/plain": [
       "Calculating Metrics:   0%|          | 0/1 [00:00<?, ?it/s]"
      ]
     },
     "metadata": {},
     "output_type": "display_data"
    },
    {
     "data": {
      "application/vnd.jupyter.widget-view+json": {
       "model_id": "c051ff3c865544c7b0d0c47d301882b0",
       "version_major": 2,
       "version_minor": 0
      },
      "text/plain": [
       "Calculating Metrics:   0%|          | 0/5 [00:00<?, ?it/s]"
      ]
     },
     "metadata": {},
     "output_type": "display_data"
    },
    {
     "data": {
      "application/vnd.jupyter.widget-view+json": {
       "model_id": "531b0e137e6f483e9c4f75f59e969be6",
       "version_major": 2,
       "version_minor": 0
      },
      "text/plain": [
       "Calculating Metrics:   0%|          | 0/5 [00:00<?, ?it/s]"
      ]
     },
     "metadata": {},
     "output_type": "display_data"
    },
    {
     "data": {
      "application/vnd.jupyter.widget-view+json": {
       "model_id": "593c0ac4641345b8b9fb2da554692c2f",
       "version_major": 2,
       "version_minor": 0
      },
      "text/plain": [
       "Calculating Metrics:   0%|          | 0/5 [00:00<?, ?it/s]"
      ]
     },
     "metadata": {},
     "output_type": "display_data"
    },
    {
     "data": {
      "application/vnd.jupyter.widget-view+json": {
       "model_id": "a225c3ba09ac489d8f853baceb373c28",
       "version_major": 2,
       "version_minor": 0
      },
      "text/plain": [
       "Calculating Metrics:   0%|          | 0/1 [00:00<?, ?it/s]"
      ]
     },
     "metadata": {},
     "output_type": "display_data"
    },
    {
     "data": {
      "application/vnd.jupyter.widget-view+json": {
       "model_id": "f853623d546d4168b3eb1aad120d0da2",
       "version_major": 2,
       "version_minor": 0
      },
      "text/plain": [
       "Calculating Metrics:   0%|          | 0/5 [00:00<?, ?it/s]"
      ]
     },
     "metadata": {},
     "output_type": "display_data"
    },
    {
     "data": {
      "application/vnd.jupyter.widget-view+json": {
       "model_id": "f74d6987239243458dad1bd80f0191b4",
       "version_major": 2,
       "version_minor": 0
      },
      "text/plain": [
       "Calculating Metrics:   0%|          | 0/5 [00:00<?, ?it/s]"
      ]
     },
     "metadata": {},
     "output_type": "display_data"
    },
    {
     "data": {
      "application/vnd.jupyter.widget-view+json": {
       "model_id": "5c3f25f4e6814ccb9ae1ade228f9f8ff",
       "version_major": 2,
       "version_minor": 0
      },
      "text/plain": [
       "Calculating Metrics:   0%|          | 0/5 [00:00<?, ?it/s]"
      ]
     },
     "metadata": {},
     "output_type": "display_data"
    },
    {
     "data": {
      "application/vnd.jupyter.widget-view+json": {
       "model_id": "426d238da7a342c18f0406e16d044936",
       "version_major": 2,
       "version_minor": 0
      },
      "text/plain": [
       "Calculating Metrics:   0%|          | 0/1 [00:00<?, ?it/s]"
      ]
     },
     "metadata": {},
     "output_type": "display_data"
    },
    {
     "data": {
      "application/vnd.jupyter.widget-view+json": {
       "model_id": "477588f04ca54651960363c2f433eb87",
       "version_major": 2,
       "version_minor": 0
      },
      "text/plain": [
       "Calculating Metrics:   0%|          | 0/5 [00:00<?, ?it/s]"
      ]
     },
     "metadata": {},
     "output_type": "display_data"
    },
    {
     "data": {
      "application/vnd.jupyter.widget-view+json": {
       "model_id": "df4713aef98d482d81d7e5ba09b4f2d3",
       "version_major": 2,
       "version_minor": 0
      },
      "text/plain": [
       "Calculating Metrics:   0%|          | 0/5 [00:00<?, ?it/s]"
      ]
     },
     "metadata": {},
     "output_type": "display_data"
    },
    {
     "data": {
      "application/vnd.jupyter.widget-view+json": {
       "model_id": "5d82e2841e9c4bbf94c82861726741c9",
       "version_major": 2,
       "version_minor": 0
      },
      "text/plain": [
       "Calculating Metrics:   0%|          | 0/5 [00:00<?, ?it/s]"
      ]
     },
     "metadata": {},
     "output_type": "display_data"
    },
    {
     "data": {
      "application/vnd.jupyter.widget-view+json": {
       "model_id": "ef9ad0c82b114ad1aea7dbc70631b08d",
       "version_major": 2,
       "version_minor": 0
      },
      "text/plain": [
       "Calculating Metrics:   0%|          | 0/1 [00:00<?, ?it/s]"
      ]
     },
     "metadata": {},
     "output_type": "display_data"
    },
    {
     "data": {
      "application/vnd.jupyter.widget-view+json": {
       "model_id": "f50722f22df64f13957c5a828b29d382",
       "version_major": 2,
       "version_minor": 0
      },
      "text/plain": [
       "Calculating Metrics:   0%|          | 0/5 [00:00<?, ?it/s]"
      ]
     },
     "metadata": {},
     "output_type": "display_data"
    },
    {
     "data": {
      "application/vnd.jupyter.widget-view+json": {
       "model_id": "2ae8df12a0ad426d82019f02bca37582",
       "version_major": 2,
       "version_minor": 0
      },
      "text/plain": [
       "Calculating Metrics:   0%|          | 0/5 [00:00<?, ?it/s]"
      ]
     },
     "metadata": {},
     "output_type": "display_data"
    },
    {
     "data": {
      "application/vnd.jupyter.widget-view+json": {
       "model_id": "40c40c3e63fc4e279e31ac4cede2e224",
       "version_major": 2,
       "version_minor": 0
      },
      "text/plain": [
       "Calculating Metrics:   0%|          | 0/5 [00:00<?, ?it/s]"
      ]
     },
     "metadata": {},
     "output_type": "display_data"
    },
    {
     "data": {
      "application/vnd.jupyter.widget-view+json": {
       "model_id": "50252cc8c7ea4ab2bb380c95e24ceb45",
       "version_major": 2,
       "version_minor": 0
      },
      "text/plain": [
       "Calculating Metrics:   0%|          | 0/1 [00:00<?, ?it/s]"
      ]
     },
     "metadata": {},
     "output_type": "display_data"
    },
    {
     "data": {
      "application/vnd.jupyter.widget-view+json": {
       "model_id": "cdcc56cf82c54a05869055a418eb589a",
       "version_major": 2,
       "version_minor": 0
      },
      "text/plain": [
       "Calculating Metrics:   0%|          | 0/5 [00:00<?, ?it/s]"
      ]
     },
     "metadata": {},
     "output_type": "display_data"
    },
    {
     "data": {
      "application/vnd.jupyter.widget-view+json": {
       "model_id": "b359ac0952fe487d93bc0cd45c3cae13",
       "version_major": 2,
       "version_minor": 0
      },
      "text/plain": [
       "Calculating Metrics:   0%|          | 0/5 [00:00<?, ?it/s]"
      ]
     },
     "metadata": {},
     "output_type": "display_data"
    },
    {
     "data": {
      "application/vnd.jupyter.widget-view+json": {
       "model_id": "154eac57ec0e4c1f9518f191ba4c46af",
       "version_major": 2,
       "version_minor": 0
      },
      "text/plain": [
       "Calculating Metrics:   0%|          | 0/5 [00:00<?, ?it/s]"
      ]
     },
     "metadata": {},
     "output_type": "display_data"
    },
    {
     "data": {
      "application/vnd.jupyter.widget-view+json": {
       "model_id": "d25c19c4dd6c46e6bbb683f68761124c",
       "version_major": 2,
       "version_minor": 0
      },
      "text/plain": [
       "Calculating Metrics:   0%|          | 0/1 [00:00<?, ?it/s]"
      ]
     },
     "metadata": {},
     "output_type": "display_data"
    },
    {
     "data": {
      "application/vnd.jupyter.widget-view+json": {
       "model_id": "e44ef6c32fb54af1bea6deb6cecbfcf7",
       "version_major": 2,
       "version_minor": 0
      },
      "text/plain": [
       "Calculating Metrics:   0%|          | 0/5 [00:00<?, ?it/s]"
      ]
     },
     "metadata": {},
     "output_type": "display_data"
    },
    {
     "data": {
      "application/vnd.jupyter.widget-view+json": {
       "model_id": "3af4528bb2d44b9b8f6d01b6d4e12395",
       "version_major": 2,
       "version_minor": 0
      },
      "text/plain": [
       "Calculating Metrics:   0%|          | 0/5 [00:00<?, ?it/s]"
      ]
     },
     "metadata": {},
     "output_type": "display_data"
    },
    {
     "data": {
      "application/vnd.jupyter.widget-view+json": {
       "model_id": "40cf4122da514f0cb1609f771838afd8",
       "version_major": 2,
       "version_minor": 0
      },
      "text/plain": [
       "Calculating Metrics:   0%|          | 0/5 [00:00<?, ?it/s]"
      ]
     },
     "metadata": {},
     "output_type": "display_data"
    },
    {
     "data": {
      "application/vnd.jupyter.widget-view+json": {
       "model_id": "bef526e1ec464fa9b619cee73e689aa9",
       "version_major": 2,
       "version_minor": 0
      },
      "text/plain": [
       "Calculating Metrics:   0%|          | 0/1 [00:00<?, ?it/s]"
      ]
     },
     "metadata": {},
     "output_type": "display_data"
    },
    {
     "data": {
      "application/vnd.jupyter.widget-view+json": {
       "model_id": "453e3e34a4ff4fd2bea3274933550099",
       "version_major": 2,
       "version_minor": 0
      },
      "text/plain": [
       "Calculating Metrics:   0%|          | 0/5 [00:00<?, ?it/s]"
      ]
     },
     "metadata": {},
     "output_type": "display_data"
    },
    {
     "data": {
      "application/vnd.jupyter.widget-view+json": {
       "model_id": "1ad7df3a5c37426c8442550be13093c6",
       "version_major": 2,
       "version_minor": 0
      },
      "text/plain": [
       "Calculating Metrics:   0%|          | 0/5 [00:00<?, ?it/s]"
      ]
     },
     "metadata": {},
     "output_type": "display_data"
    },
    {
     "data": {
      "application/vnd.jupyter.widget-view+json": {
       "model_id": "59884097357845a98debd4fed0ce245f",
       "version_major": 2,
       "version_minor": 0
      },
      "text/plain": [
       "Calculating Metrics:   0%|          | 0/5 [00:00<?, ?it/s]"
      ]
     },
     "metadata": {},
     "output_type": "display_data"
    },
    {
     "data": {
      "application/vnd.jupyter.widget-view+json": {
       "model_id": "da1c840e4ce64d95a55e46a5486af29c",
       "version_major": 2,
       "version_minor": 0
      },
      "text/plain": [
       "Calculating Metrics:   0%|          | 0/1 [00:00<?, ?it/s]"
      ]
     },
     "metadata": {},
     "output_type": "display_data"
    },
    {
     "data": {
      "application/vnd.jupyter.widget-view+json": {
       "model_id": "3281ef6979804d30ac2e9afb210b00e0",
       "version_major": 2,
       "version_minor": 0
      },
      "text/plain": [
       "Calculating Metrics:   0%|          | 0/5 [00:00<?, ?it/s]"
      ]
     },
     "metadata": {},
     "output_type": "display_data"
    },
    {
     "data": {
      "application/vnd.jupyter.widget-view+json": {
       "model_id": "136aaac837744d58b82c1d8bbe24e8d7",
       "version_major": 2,
       "version_minor": 0
      },
      "text/plain": [
       "Calculating Metrics:   0%|          | 0/5 [00:00<?, ?it/s]"
      ]
     },
     "metadata": {},
     "output_type": "display_data"
    },
    {
     "data": {
      "application/vnd.jupyter.widget-view+json": {
       "model_id": "ccf0b1f620da4ef39ba2db346f7584c7",
       "version_major": 2,
       "version_minor": 0
      },
      "text/plain": [
       "Calculating Metrics:   0%|          | 0/2 [00:00<?, ?it/s]"
      ]
     },
     "metadata": {},
     "output_type": "display_data"
    },
    {
     "data": {
      "application/vnd.jupyter.widget-view+json": {
       "model_id": "5b994b729af247abb7f1523c36287378",
       "version_major": 2,
       "version_minor": 0
      },
      "text/plain": [
       "Calculating Metrics:   0%|          | 0/1 [00:00<?, ?it/s]"
      ]
     },
     "metadata": {},
     "output_type": "display_data"
    },
    {
     "data": {
      "application/vnd.jupyter.widget-view+json": {
       "model_id": "bf59f86836df478389c32fb9fa6b743c",
       "version_major": 2,
       "version_minor": 0
      },
      "text/plain": [
       "Profiling Dataset:         0%|          | 0/6 [00:00<?, ?it/s]"
      ]
     },
     "metadata": {},
     "output_type": "display_data"
    },
    {
     "data": {
      "application/vnd.jupyter.widget-view+json": {
       "model_id": "dda31238f22a430b8629220a4ca14c98",
       "version_major": 2,
       "version_minor": 0
      },
      "text/plain": [
       "Calculating Metrics:   0%|          | 0/6 [00:00<?, ?it/s]"
      ]
     },
     "metadata": {},
     "output_type": "display_data"
    },
    {
     "data": {
      "application/vnd.jupyter.widget-view+json": {
       "model_id": "86911f1821cd4965be071c8f21a3ba79",
       "version_major": 2,
       "version_minor": 0
      },
      "text/plain": [
       "Calculating Metrics:   0%|          | 0/6 [00:00<?, ?it/s]"
      ]
     },
     "metadata": {},
     "output_type": "display_data"
    },
    {
     "data": {
      "application/vnd.jupyter.widget-view+json": {
       "model_id": "3d508cee4d594b01a04f4bc0b984f964",
       "version_major": 2,
       "version_minor": 0
      },
      "text/plain": [
       "Calculating Metrics:   0%|          | 0/4 [00:00<?, ?it/s]"
      ]
     },
     "metadata": {},
     "output_type": "display_data"
    },
    {
     "data": {
      "application/vnd.jupyter.widget-view+json": {
       "model_id": "ad9c1289b70a46618f6612b72c74c734",
       "version_major": 2,
       "version_minor": 0
      },
      "text/plain": [
       "Calculating Metrics:   0%|          | 0/4 [00:00<?, ?it/s]"
      ]
     },
     "metadata": {},
     "output_type": "display_data"
    },
    {
     "data": {
      "application/vnd.jupyter.widget-view+json": {
       "model_id": "5def167e0b604bcdb3bc459568df1bff",
       "version_major": 2,
       "version_minor": 0
      },
      "text/plain": [
       "Calculating Metrics:   0%|          | 0/4 [00:00<?, ?it/s]"
      ]
     },
     "metadata": {},
     "output_type": "display_data"
    },
    {
     "data": {
      "application/vnd.jupyter.widget-view+json": {
       "model_id": "fc333a6a08c042c994c130eff98f7f1a",
       "version_major": 2,
       "version_minor": 0
      },
      "text/plain": [
       "Calculating Metrics:   0%|          | 0/4 [00:00<?, ?it/s]"
      ]
     },
     "metadata": {},
     "output_type": "display_data"
    },
    {
     "data": {
      "application/vnd.jupyter.widget-view+json": {
       "model_id": "491043f3122d41f1bab2c04406086017",
       "version_major": 2,
       "version_minor": 0
      },
      "text/plain": [
       "Calculating Metrics:   0%|          | 0/4 [00:00<?, ?it/s]"
      ]
     },
     "metadata": {},
     "output_type": "display_data"
    },
    {
     "data": {
      "application/vnd.jupyter.widget-view+json": {
       "model_id": "227c07093c584a87af69427ade6e29d9",
       "version_major": 2,
       "version_minor": 0
      },
      "text/plain": [
       "Calculating Metrics:   0%|          | 0/4 [00:00<?, ?it/s]"
      ]
     },
     "metadata": {},
     "output_type": "display_data"
    },
    {
     "data": {
      "application/vnd.jupyter.widget-view+json": {
       "model_id": "ca68ed0366b54de981b8799bad584daa",
       "version_major": 2,
       "version_minor": 0
      },
      "text/plain": [
       "Calculating Metrics:   0%|          | 0/4 [00:00<?, ?it/s]"
      ]
     },
     "metadata": {},
     "output_type": "display_data"
    },
    {
     "data": {
      "application/vnd.jupyter.widget-view+json": {
       "model_id": "ba75fdb65523485b8af9e9ac67614e41",
       "version_major": 2,
       "version_minor": 0
      },
      "text/plain": [
       "Calculating Metrics:   0%|          | 0/6 [00:00<?, ?it/s]"
      ]
     },
     "metadata": {},
     "output_type": "display_data"
    },
    {
     "data": {
      "application/vnd.jupyter.widget-view+json": {
       "model_id": "e728d850101a4575b953e2179c4cbc3e",
       "version_major": 2,
       "version_minor": 0
      },
      "text/plain": [
       "Calculating Metrics:   0%|          | 0/6 [00:00<?, ?it/s]"
      ]
     },
     "metadata": {},
     "output_type": "display_data"
    },
    {
     "data": {
      "application/vnd.jupyter.widget-view+json": {
       "model_id": "cd53424f823b451cb47f34f96369f147",
       "version_major": 2,
       "version_minor": 0
      },
      "text/plain": [
       "Calculating Metrics:   0%|          | 0/4 [00:00<?, ?it/s]"
      ]
     },
     "metadata": {},
     "output_type": "display_data"
    },
    {
     "data": {
      "application/vnd.jupyter.widget-view+json": {
       "model_id": "c82131392cb34419a0d510099d3614e9",
       "version_major": 2,
       "version_minor": 0
      },
      "text/plain": [
       "Calculating Metrics:   0%|          | 0/4 [00:00<?, ?it/s]"
      ]
     },
     "metadata": {},
     "output_type": "display_data"
    },
    {
     "data": {
      "application/vnd.jupyter.widget-view+json": {
       "model_id": "7ea8d61207384f3c836ca58656626c0f",
       "version_major": 2,
       "version_minor": 0
      },
      "text/plain": [
       "Calculating Metrics:   0%|          | 0/4 [00:00<?, ?it/s]"
      ]
     },
     "metadata": {},
     "output_type": "display_data"
    },
    {
     "data": {
      "application/vnd.jupyter.widget-view+json": {
       "model_id": "a2584361a2064f6084e62b02c575b2c7",
       "version_major": 2,
       "version_minor": 0
      },
      "text/plain": [
       "Calculating Metrics:   0%|          | 0/4 [00:00<?, ?it/s]"
      ]
     },
     "metadata": {},
     "output_type": "display_data"
    },
    {
     "data": {
      "application/vnd.jupyter.widget-view+json": {
       "model_id": "6843571c8f9f47f4975fa5480b7e3d22",
       "version_major": 2,
       "version_minor": 0
      },
      "text/plain": [
       "Calculating Metrics:   0%|          | 0/4 [00:00<?, ?it/s]"
      ]
     },
     "metadata": {},
     "output_type": "display_data"
    },
    {
     "data": {
      "application/vnd.jupyter.widget-view+json": {
       "model_id": "34ef39609a12498e8718db471f5f9149",
       "version_major": 2,
       "version_minor": 0
      },
      "text/plain": [
       "Calculating Metrics:   0%|          | 0/4 [00:00<?, ?it/s]"
      ]
     },
     "metadata": {},
     "output_type": "display_data"
    },
    {
     "data": {
      "application/vnd.jupyter.widget-view+json": {
       "model_id": "4eb69a3ba8bb4d7e8a32aeaea8d09c04",
       "version_major": 2,
       "version_minor": 0
      },
      "text/plain": [
       "Calculating Metrics:   0%|          | 0/4 [00:00<?, ?it/s]"
      ]
     },
     "metadata": {},
     "output_type": "display_data"
    },
    {
     "data": {
      "application/vnd.jupyter.widget-view+json": {
       "model_id": "4a8414c8f5b74d81b4034f2de121d2b4",
       "version_major": 2,
       "version_minor": 0
      },
      "text/plain": [
       "Calculating Metrics:   0%|          | 0/6 [00:00<?, ?it/s]"
      ]
     },
     "metadata": {},
     "output_type": "display_data"
    },
    {
     "data": {
      "application/vnd.jupyter.widget-view+json": {
       "model_id": "65fce6b2d80348d7b1364c390db93dfd",
       "version_major": 2,
       "version_minor": 0
      },
      "text/plain": [
       "Calculating Metrics:   0%|          | 0/6 [00:00<?, ?it/s]"
      ]
     },
     "metadata": {},
     "output_type": "display_data"
    },
    {
     "data": {
      "application/vnd.jupyter.widget-view+json": {
       "model_id": "8c6fed66d56443438503c40ab5ba724b",
       "version_major": 2,
       "version_minor": 0
      },
      "text/plain": [
       "Calculating Metrics:   0%|          | 0/4 [00:00<?, ?it/s]"
      ]
     },
     "metadata": {},
     "output_type": "display_data"
    },
    {
     "data": {
      "application/vnd.jupyter.widget-view+json": {
       "model_id": "d4eb62d4612c4636b32b8a838c75861d",
       "version_major": 2,
       "version_minor": 0
      },
      "text/plain": [
       "Calculating Metrics:   0%|          | 0/4 [00:00<?, ?it/s]"
      ]
     },
     "metadata": {},
     "output_type": "display_data"
    },
    {
     "data": {
      "application/vnd.jupyter.widget-view+json": {
       "model_id": "f59c6e6649c34353a9f4ce0718d73113",
       "version_major": 2,
       "version_minor": 0
      },
      "text/plain": [
       "Calculating Metrics:   0%|          | 0/4 [00:00<?, ?it/s]"
      ]
     },
     "metadata": {},
     "output_type": "display_data"
    },
    {
     "data": {
      "application/vnd.jupyter.widget-view+json": {
       "model_id": "8272caf7a4944c20ba18b8c864ef00b9",
       "version_major": 2,
       "version_minor": 0
      },
      "text/plain": [
       "Calculating Metrics:   0%|          | 0/4 [00:00<?, ?it/s]"
      ]
     },
     "metadata": {},
     "output_type": "display_data"
    },
    {
     "data": {
      "application/vnd.jupyter.widget-view+json": {
       "model_id": "a3be5294fe334f79ae8ec4d807fcfb0c",
       "version_major": 2,
       "version_minor": 0
      },
      "text/plain": [
       "Calculating Metrics:   0%|          | 0/4 [00:00<?, ?it/s]"
      ]
     },
     "metadata": {},
     "output_type": "display_data"
    },
    {
     "data": {
      "application/vnd.jupyter.widget-view+json": {
       "model_id": "cb7f6634c8024b3b8ad98494e86ee993",
       "version_major": 2,
       "version_minor": 0
      },
      "text/plain": [
       "Calculating Metrics:   0%|          | 0/4 [00:00<?, ?it/s]"
      ]
     },
     "metadata": {},
     "output_type": "display_data"
    },
    {
     "data": {
      "application/vnd.jupyter.widget-view+json": {
       "model_id": "356a170d6f9e4eeaa3dbbf4ae7a45745",
       "version_major": 2,
       "version_minor": 0
      },
      "text/plain": [
       "Calculating Metrics:   0%|          | 0/4 [00:00<?, ?it/s]"
      ]
     },
     "metadata": {},
     "output_type": "display_data"
    },
    {
     "data": {
      "application/vnd.jupyter.widget-view+json": {
       "model_id": "b41018dd30a247089691c6410bdec7f6",
       "version_major": 2,
       "version_minor": 0
      },
      "text/plain": [
       "Calculating Metrics:   0%|          | 0/6 [00:00<?, ?it/s]"
      ]
     },
     "metadata": {},
     "output_type": "display_data"
    },
    {
     "data": {
      "application/vnd.jupyter.widget-view+json": {
       "model_id": "1edafeb7f8124033baf9956772499131",
       "version_major": 2,
       "version_minor": 0
      },
      "text/plain": [
       "Calculating Metrics:   0%|          | 0/6 [00:00<?, ?it/s]"
      ]
     },
     "metadata": {},
     "output_type": "display_data"
    },
    {
     "data": {
      "application/vnd.jupyter.widget-view+json": {
       "model_id": "eece50be06154712be638c3653814082",
       "version_major": 2,
       "version_minor": 0
      },
      "text/plain": [
       "Calculating Metrics:   0%|          | 0/4 [00:00<?, ?it/s]"
      ]
     },
     "metadata": {},
     "output_type": "display_data"
    },
    {
     "data": {
      "application/vnd.jupyter.widget-view+json": {
       "model_id": "a9df81b5994e4b1c9a85c74e13bbc4ab",
       "version_major": 2,
       "version_minor": 0
      },
      "text/plain": [
       "Calculating Metrics:   0%|          | 0/4 [00:00<?, ?it/s]"
      ]
     },
     "metadata": {},
     "output_type": "display_data"
    },
    {
     "data": {
      "application/vnd.jupyter.widget-view+json": {
       "model_id": "63a413931b4e48be852d36ec8238edc6",
       "version_major": 2,
       "version_minor": 0
      },
      "text/plain": [
       "Calculating Metrics:   0%|          | 0/4 [00:00<?, ?it/s]"
      ]
     },
     "metadata": {},
     "output_type": "display_data"
    },
    {
     "data": {
      "application/vnd.jupyter.widget-view+json": {
       "model_id": "c3c1b2a7a70c4d1c9f2a1c37a4aa67b7",
       "version_major": 2,
       "version_minor": 0
      },
      "text/plain": [
       "Calculating Metrics:   0%|          | 0/4 [00:00<?, ?it/s]"
      ]
     },
     "metadata": {},
     "output_type": "display_data"
    },
    {
     "data": {
      "application/vnd.jupyter.widget-view+json": {
       "model_id": "4bd9c107d42644128612eaeb5ad163a6",
       "version_major": 2,
       "version_minor": 0
      },
      "text/plain": [
       "Calculating Metrics:   0%|          | 0/4 [00:00<?, ?it/s]"
      ]
     },
     "metadata": {},
     "output_type": "display_data"
    },
    {
     "data": {
      "application/vnd.jupyter.widget-view+json": {
       "model_id": "69e78e18188a468ba9fa0f8e785ad15b",
       "version_major": 2,
       "version_minor": 0
      },
      "text/plain": [
       "Calculating Metrics:   0%|          | 0/4 [00:00<?, ?it/s]"
      ]
     },
     "metadata": {},
     "output_type": "display_data"
    },
    {
     "data": {
      "application/vnd.jupyter.widget-view+json": {
       "model_id": "f2d3a30b17e84205b6c64e5d6fc31da4",
       "version_major": 2,
       "version_minor": 0
      },
      "text/plain": [
       "Calculating Metrics:   0%|          | 0/4 [00:00<?, ?it/s]"
      ]
     },
     "metadata": {},
     "output_type": "display_data"
    },
    {
     "data": {
      "application/vnd.jupyter.widget-view+json": {
       "model_id": "88305ee7d9dd4bd4baa88db38820242e",
       "version_major": 2,
       "version_minor": 0
      },
      "text/plain": [
       "Calculating Metrics:   0%|          | 0/6 [00:00<?, ?it/s]"
      ]
     },
     "metadata": {},
     "output_type": "display_data"
    },
    {
     "data": {
      "application/vnd.jupyter.widget-view+json": {
       "model_id": "79fd52ae49c249f1ac3064d08b410755",
       "version_major": 2,
       "version_minor": 0
      },
      "text/plain": [
       "Calculating Metrics:   0%|          | 0/6 [00:00<?, ?it/s]"
      ]
     },
     "metadata": {},
     "output_type": "display_data"
    },
    {
     "data": {
      "application/vnd.jupyter.widget-view+json": {
       "model_id": "f053f88025744bf3933337755defdbb1",
       "version_major": 2,
       "version_minor": 0
      },
      "text/plain": [
       "Calculating Metrics:   0%|          | 0/4 [00:00<?, ?it/s]"
      ]
     },
     "metadata": {},
     "output_type": "display_data"
    },
    {
     "data": {
      "application/vnd.jupyter.widget-view+json": {
       "model_id": "ad433362240d4b40a496d40aba17475f",
       "version_major": 2,
       "version_minor": 0
      },
      "text/plain": [
       "Calculating Metrics:   0%|          | 0/4 [00:00<?, ?it/s]"
      ]
     },
     "metadata": {},
     "output_type": "display_data"
    },
    {
     "data": {
      "application/vnd.jupyter.widget-view+json": {
       "model_id": "f0e1e76d66a5442cb152a62f9a817c70",
       "version_major": 2,
       "version_minor": 0
      },
      "text/plain": [
       "Calculating Metrics:   0%|          | 0/4 [00:00<?, ?it/s]"
      ]
     },
     "metadata": {},
     "output_type": "display_data"
    },
    {
     "data": {
      "application/vnd.jupyter.widget-view+json": {
       "model_id": "103c728925bf4b6383ad1e85fd752384",
       "version_major": 2,
       "version_minor": 0
      },
      "text/plain": [
       "Calculating Metrics:   0%|          | 0/4 [00:00<?, ?it/s]"
      ]
     },
     "metadata": {},
     "output_type": "display_data"
    },
    {
     "data": {
      "application/vnd.jupyter.widget-view+json": {
       "model_id": "83c8046d9b8b43c7bcaf6c2263ca23e1",
       "version_major": 2,
       "version_minor": 0
      },
      "text/plain": [
       "Calculating Metrics:   0%|          | 0/4 [00:00<?, ?it/s]"
      ]
     },
     "metadata": {},
     "output_type": "display_data"
    },
    {
     "data": {
      "application/vnd.jupyter.widget-view+json": {
       "model_id": "2315aa3d72fe4d0b8cff0cd2d3dabcd5",
       "version_major": 2,
       "version_minor": 0
      },
      "text/plain": [
       "Calculating Metrics:   0%|          | 0/4 [00:00<?, ?it/s]"
      ]
     },
     "metadata": {},
     "output_type": "display_data"
    },
    {
     "data": {
      "application/vnd.jupyter.widget-view+json": {
       "model_id": "5d8fbbcc4491406b8a0cd35cfc38076c",
       "version_major": 2,
       "version_minor": 0
      },
      "text/plain": [
       "Calculating Metrics:   0%|          | 0/4 [00:00<?, ?it/s]"
      ]
     },
     "metadata": {},
     "output_type": "display_data"
    },
    {
     "data": {
      "application/vnd.jupyter.widget-view+json": {
       "model_id": "fdd6eb72736048faaabd68d099c305d7",
       "version_major": 2,
       "version_minor": 0
      },
      "text/plain": [
       "Calculating Metrics:   0%|          | 0/6 [00:00<?, ?it/s]"
      ]
     },
     "metadata": {},
     "output_type": "display_data"
    },
    {
     "data": {
      "application/vnd.jupyter.widget-view+json": {
       "model_id": "0cf89ecac64a4be798440f9cac450e96",
       "version_major": 2,
       "version_minor": 0
      },
      "text/plain": [
       "Calculating Metrics:   0%|          | 0/6 [00:00<?, ?it/s]"
      ]
     },
     "metadata": {},
     "output_type": "display_data"
    },
    {
     "data": {
      "application/vnd.jupyter.widget-view+json": {
       "model_id": "f5ec5dfcb769422f9735020ae8771053",
       "version_major": 2,
       "version_minor": 0
      },
      "text/plain": [
       "Calculating Metrics:   0%|          | 0/4 [00:00<?, ?it/s]"
      ]
     },
     "metadata": {},
     "output_type": "display_data"
    },
    {
     "data": {
      "application/vnd.jupyter.widget-view+json": {
       "model_id": "61c1585aae7e420ea252a7cd33d6773c",
       "version_major": 2,
       "version_minor": 0
      },
      "text/plain": [
       "Calculating Metrics:   0%|          | 0/4 [00:00<?, ?it/s]"
      ]
     },
     "metadata": {},
     "output_type": "display_data"
    },
    {
     "data": {
      "application/vnd.jupyter.widget-view+json": {
       "model_id": "6a7fa954e4884a4f85aff62c822b36ec",
       "version_major": 2,
       "version_minor": 0
      },
      "text/plain": [
       "Calculating Metrics:   0%|          | 0/4 [00:00<?, ?it/s]"
      ]
     },
     "metadata": {},
     "output_type": "display_data"
    },
    {
     "data": {
      "application/vnd.jupyter.widget-view+json": {
       "model_id": "338984e7a1a9466faf1285f6cc5c448e",
       "version_major": 2,
       "version_minor": 0
      },
      "text/plain": [
       "Calculating Metrics:   0%|          | 0/4 [00:00<?, ?it/s]"
      ]
     },
     "metadata": {},
     "output_type": "display_data"
    },
    {
     "data": {
      "application/vnd.jupyter.widget-view+json": {
       "model_id": "81b62e7c9cef404e9417045cc9cc555d",
       "version_major": 2,
       "version_minor": 0
      },
      "text/plain": [
       "Calculating Metrics:   0%|          | 0/4 [00:00<?, ?it/s]"
      ]
     },
     "metadata": {},
     "output_type": "display_data"
    },
    {
     "data": {
      "application/vnd.jupyter.widget-view+json": {
       "model_id": "878c72ddf8ff435d86fde08eba5b8e31",
       "version_major": 2,
       "version_minor": 0
      },
      "text/plain": [
       "Calculating Metrics:   0%|          | 0/4 [00:00<?, ?it/s]"
      ]
     },
     "metadata": {},
     "output_type": "display_data"
    },
    {
     "data": {
      "application/vnd.jupyter.widget-view+json": {
       "model_id": "1351d46b7e094247bb877fc754510893",
       "version_major": 2,
       "version_minor": 0
      },
      "text/plain": [
       "Calculating Metrics:   0%|          | 0/4 [00:00<?, ?it/s]"
      ]
     },
     "metadata": {},
     "output_type": "display_data"
    },
    {
     "data": {
      "application/vnd.jupyter.widget-view+json": {
       "model_id": "308bd998078f4054a0264fb64ca890d6",
       "version_major": 2,
       "version_minor": 0
      },
      "text/plain": [
       "Calculating Metrics:   0%|          | 0/2 [00:00<?, ?it/s]"
      ]
     },
     "metadata": {},
     "output_type": "display_data"
    },
    {
     "data": {
      "application/vnd.jupyter.widget-view+json": {
       "model_id": "f7c7bef61df64b65af09a9b16145879a",
       "version_major": 2,
       "version_minor": 0
      },
      "text/plain": [
       "Calculating Metrics:   0%|          | 0/1 [00:00<?, ?it/s]"
      ]
     },
     "metadata": {},
     "output_type": "display_data"
    },
    {
     "data": {
      "application/vnd.jupyter.widget-view+json": {
       "model_id": "22fb83465e684611b503c6523bf8d0eb",
       "version_major": 2,
       "version_minor": 0
      },
      "text/plain": [
       "Profiling Dataset:         0%|          | 0/0 [00:00<?, ?it/s]"
      ]
     },
     "metadata": {},
     "output_type": "display_data"
    },
    {
     "data": {
      "application/vnd.jupyter.widget-view+json": {
       "model_id": "64d0a0f4cee7423d86bb570b79865b72",
       "version_major": 2,
       "version_minor": 0
      },
      "text/plain": [
       "Calculating Metrics:   0%|          | 0/2 [00:00<?, ?it/s]"
      ]
     },
     "metadata": {},
     "output_type": "display_data"
    },
    {
     "data": {
      "application/vnd.jupyter.widget-view+json": {
       "model_id": "ac1036510748450ca1e0f6a78867fd19",
       "version_major": 2,
       "version_minor": 0
      },
      "text/plain": [
       "Calculating Metrics:   0%|          | 0/1 [00:00<?, ?it/s]"
      ]
     },
     "metadata": {},
     "output_type": "display_data"
    },
    {
     "data": {
      "application/vnd.jupyter.widget-view+json": {
       "model_id": "88796ae095964b518354740a31f6e536",
       "version_major": 2,
       "version_minor": 0
      },
      "text/plain": [
       "Profiling Dataset:         0%|          | 0/15 [00:00<?, ?it/s]"
      ]
     },
     "metadata": {},
     "output_type": "display_data"
    },
    {
     "data": {
      "application/vnd.jupyter.widget-view+json": {
       "model_id": "8a2a0d13c43342ea982a6713c23e1e97",
       "version_major": 2,
       "version_minor": 0
      },
      "text/plain": [
       "Calculating Metrics:   0%|          | 0/4 [00:00<?, ?it/s]"
      ]
     },
     "metadata": {},
     "output_type": "display_data"
    },
    {
     "data": {
      "application/vnd.jupyter.widget-view+json": {
       "model_id": "dc7d4bd534704d989b58395a583d9917",
       "version_major": 2,
       "version_minor": 0
      },
      "text/plain": [
       "Calculating Metrics:   0%|          | 0/4 [00:00<?, ?it/s]"
      ]
     },
     "metadata": {},
     "output_type": "display_data"
    },
    {
     "data": {
      "application/vnd.jupyter.widget-view+json": {
       "model_id": "758eed3b236c41389126cabe8a60f15b",
       "version_major": 2,
       "version_minor": 0
      },
      "text/plain": [
       "Calculating Metrics:   0%|          | 0/6 [00:00<?, ?it/s]"
      ]
     },
     "metadata": {},
     "output_type": "display_data"
    },
    {
     "data": {
      "application/vnd.jupyter.widget-view+json": {
       "model_id": "a9bfc10abf12428aa9e9a41ad535a716",
       "version_major": 2,
       "version_minor": 0
      },
      "text/plain": [
       "Calculating Metrics:   0%|          | 0/23 [00:00<?, ?it/s]"
      ]
     },
     "metadata": {},
     "output_type": "display_data"
    },
    {
     "data": {
      "application/vnd.jupyter.widget-view+json": {
       "model_id": "31381da73a544f1990b955bf4177ead6",
       "version_major": 2,
       "version_minor": 0
      },
      "text/plain": [
       "Calculating Metrics:   0%|          | 0/4 [00:00<?, ?it/s]"
      ]
     },
     "metadata": {},
     "output_type": "display_data"
    },
    {
     "data": {
      "application/vnd.jupyter.widget-view+json": {
       "model_id": "5469b0a6e7004f6dbb2caec7f10e9956",
       "version_major": 2,
       "version_minor": 0
      },
      "text/plain": [
       "Calculating Metrics:   0%|          | 0/4 [00:00<?, ?it/s]"
      ]
     },
     "metadata": {},
     "output_type": "display_data"
    },
    {
     "data": {
      "application/vnd.jupyter.widget-view+json": {
       "model_id": "5f91c28b46de49b2b269d0aa773f1bb2",
       "version_major": 2,
       "version_minor": 0
      },
      "text/plain": [
       "Calculating Metrics:   0%|          | 0/6 [00:00<?, ?it/s]"
      ]
     },
     "metadata": {},
     "output_type": "display_data"
    },
    {
     "data": {
      "application/vnd.jupyter.widget-view+json": {
       "model_id": "28ed96015adc40bfa79ffd1bc77270b0",
       "version_major": 2,
       "version_minor": 0
      },
      "text/plain": [
       "Calculating Metrics:   0%|          | 0/23 [00:00<?, ?it/s]"
      ]
     },
     "metadata": {},
     "output_type": "display_data"
    },
    {
     "data": {
      "application/vnd.jupyter.widget-view+json": {
       "model_id": "e11d6d3201fc4ad9bba6e8ce583a13c4",
       "version_major": 2,
       "version_minor": 0
      },
      "text/plain": [
       "Calculating Metrics:   0%|          | 0/4 [00:00<?, ?it/s]"
      ]
     },
     "metadata": {},
     "output_type": "display_data"
    },
    {
     "data": {
      "application/vnd.jupyter.widget-view+json": {
       "model_id": "1eae7655b8934fe7b6430a091b4ac1d7",
       "version_major": 2,
       "version_minor": 0
      },
      "text/plain": [
       "Calculating Metrics:   0%|          | 0/4 [00:00<?, ?it/s]"
      ]
     },
     "metadata": {},
     "output_type": "display_data"
    },
    {
     "data": {
      "application/vnd.jupyter.widget-view+json": {
       "model_id": "d165d10668cd4b6e84184539609d92c2",
       "version_major": 2,
       "version_minor": 0
      },
      "text/plain": [
       "Calculating Metrics:   0%|          | 0/6 [00:00<?, ?it/s]"
      ]
     },
     "metadata": {},
     "output_type": "display_data"
    },
    {
     "data": {
      "application/vnd.jupyter.widget-view+json": {
       "model_id": "d632d2b3087e47e7a00de2f12f9ea4f7",
       "version_major": 2,
       "version_minor": 0
      },
      "text/plain": [
       "Calculating Metrics:   0%|          | 0/23 [00:00<?, ?it/s]"
      ]
     },
     "metadata": {},
     "output_type": "display_data"
    },
    {
     "data": {
      "application/vnd.jupyter.widget-view+json": {
       "model_id": "cf7b733d4bf5417aa1b20b4056e0711a",
       "version_major": 2,
       "version_minor": 0
      },
      "text/plain": [
       "Calculating Metrics:   0%|          | 0/4 [00:00<?, ?it/s]"
      ]
     },
     "metadata": {},
     "output_type": "display_data"
    },
    {
     "data": {
      "application/vnd.jupyter.widget-view+json": {
       "model_id": "e2660c176c914b979e4d494c593a9d97",
       "version_major": 2,
       "version_minor": 0
      },
      "text/plain": [
       "Calculating Metrics:   0%|          | 0/4 [00:00<?, ?it/s]"
      ]
     },
     "metadata": {},
     "output_type": "display_data"
    },
    {
     "data": {
      "application/vnd.jupyter.widget-view+json": {
       "model_id": "c87f4dfeb5424ca3bb66d9bafd26ba02",
       "version_major": 2,
       "version_minor": 0
      },
      "text/plain": [
       "Calculating Metrics:   0%|          | 0/6 [00:00<?, ?it/s]"
      ]
     },
     "metadata": {},
     "output_type": "display_data"
    },
    {
     "data": {
      "application/vnd.jupyter.widget-view+json": {
       "model_id": "8b0aca20c7ba4f97ae46682b026e54c7",
       "version_major": 2,
       "version_minor": 0
      },
      "text/plain": [
       "Calculating Metrics:   0%|          | 0/23 [00:00<?, ?it/s]"
      ]
     },
     "metadata": {},
     "output_type": "display_data"
    },
    {
     "data": {
      "application/vnd.jupyter.widget-view+json": {
       "model_id": "43299d8478f3401b8a3b259f2abd4c01",
       "version_major": 2,
       "version_minor": 0
      },
      "text/plain": [
       "Calculating Metrics:   0%|          | 0/4 [00:00<?, ?it/s]"
      ]
     },
     "metadata": {},
     "output_type": "display_data"
    },
    {
     "data": {
      "application/vnd.jupyter.widget-view+json": {
       "model_id": "94392ad676e74fc49f448b26d040170b",
       "version_major": 2,
       "version_minor": 0
      },
      "text/plain": [
       "Calculating Metrics:   0%|          | 0/4 [00:00<?, ?it/s]"
      ]
     },
     "metadata": {},
     "output_type": "display_data"
    },
    {
     "data": {
      "application/vnd.jupyter.widget-view+json": {
       "model_id": "73976f54accf44b39caa31670c8c00af",
       "version_major": 2,
       "version_minor": 0
      },
      "text/plain": [
       "Calculating Metrics:   0%|          | 0/6 [00:00<?, ?it/s]"
      ]
     },
     "metadata": {},
     "output_type": "display_data"
    },
    {
     "data": {
      "application/vnd.jupyter.widget-view+json": {
       "model_id": "36e53f7f449140b5b052ee6dcd2fc530",
       "version_major": 2,
       "version_minor": 0
      },
      "text/plain": [
       "Calculating Metrics:   0%|          | 0/23 [00:00<?, ?it/s]"
      ]
     },
     "metadata": {},
     "output_type": "display_data"
    },
    {
     "data": {
      "application/vnd.jupyter.widget-view+json": {
       "model_id": "f8733a4261f34cb9b5f0e82c09e7b99a",
       "version_major": 2,
       "version_minor": 0
      },
      "text/plain": [
       "Calculating Metrics:   0%|          | 0/4 [00:00<?, ?it/s]"
      ]
     },
     "metadata": {},
     "output_type": "display_data"
    },
    {
     "data": {
      "application/vnd.jupyter.widget-view+json": {
       "model_id": "625d7333a8a94f5ab26028137343eaa4",
       "version_major": 2,
       "version_minor": 0
      },
      "text/plain": [
       "Calculating Metrics:   0%|          | 0/4 [00:00<?, ?it/s]"
      ]
     },
     "metadata": {},
     "output_type": "display_data"
    },
    {
     "data": {
      "application/vnd.jupyter.widget-view+json": {
       "model_id": "ec765d2dc27f4e6ca0635ea2d3b3135f",
       "version_major": 2,
       "version_minor": 0
      },
      "text/plain": [
       "Calculating Metrics:   0%|          | 0/6 [00:00<?, ?it/s]"
      ]
     },
     "metadata": {},
     "output_type": "display_data"
    },
    {
     "data": {
      "application/vnd.jupyter.widget-view+json": {
       "model_id": "1c6bfd5a07e24f35b987a4f4d4c02dfc",
       "version_major": 2,
       "version_minor": 0
      },
      "text/plain": [
       "Calculating Metrics:   0%|          | 0/23 [00:00<?, ?it/s]"
      ]
     },
     "metadata": {},
     "output_type": "display_data"
    },
    {
     "data": {
      "application/vnd.jupyter.widget-view+json": {
       "model_id": "d23ad59761384953a8ee4936d6bb1d4a",
       "version_major": 2,
       "version_minor": 0
      },
      "text/plain": [
       "Calculating Metrics:   0%|          | 0/4 [00:00<?, ?it/s]"
      ]
     },
     "metadata": {},
     "output_type": "display_data"
    },
    {
     "data": {
      "application/vnd.jupyter.widget-view+json": {
       "model_id": "70816c0794c54f5ea40c7e8b9baad26f",
       "version_major": 2,
       "version_minor": 0
      },
      "text/plain": [
       "Calculating Metrics:   0%|          | 0/4 [00:00<?, ?it/s]"
      ]
     },
     "metadata": {},
     "output_type": "display_data"
    },
    {
     "data": {
      "application/vnd.jupyter.widget-view+json": {
       "model_id": "aab3bb239814485695fd724a9364002d",
       "version_major": 2,
       "version_minor": 0
      },
      "text/plain": [
       "Calculating Metrics:   0%|          | 0/6 [00:00<?, ?it/s]"
      ]
     },
     "metadata": {},
     "output_type": "display_data"
    },
    {
     "data": {
      "application/vnd.jupyter.widget-view+json": {
       "model_id": "c2e7df6d8d9248499ee6607225cee7ed",
       "version_major": 2,
       "version_minor": 0
      },
      "text/plain": [
       "Calculating Metrics:   0%|          | 0/23 [00:00<?, ?it/s]"
      ]
     },
     "metadata": {},
     "output_type": "display_data"
    },
    {
     "data": {
      "application/vnd.jupyter.widget-view+json": {
       "model_id": "1f719570dbae4146afafa8067a65948d",
       "version_major": 2,
       "version_minor": 0
      },
      "text/plain": [
       "Calculating Metrics:   0%|          | 0/4 [00:00<?, ?it/s]"
      ]
     },
     "metadata": {},
     "output_type": "display_data"
    },
    {
     "data": {
      "application/vnd.jupyter.widget-view+json": {
       "model_id": "b72a75982bbf4a948a49d1b159e62299",
       "version_major": 2,
       "version_minor": 0
      },
      "text/plain": [
       "Calculating Metrics:   0%|          | 0/4 [00:00<?, ?it/s]"
      ]
     },
     "metadata": {},
     "output_type": "display_data"
    },
    {
     "data": {
      "application/vnd.jupyter.widget-view+json": {
       "model_id": "e683b634de5349e5b3f434d0c5e7d675",
       "version_major": 2,
       "version_minor": 0
      },
      "text/plain": [
       "Calculating Metrics:   0%|          | 0/6 [00:00<?, ?it/s]"
      ]
     },
     "metadata": {},
     "output_type": "display_data"
    },
    {
     "data": {
      "application/vnd.jupyter.widget-view+json": {
       "model_id": "eb7bd5046048436c80bbd77e39e68dad",
       "version_major": 2,
       "version_minor": 0
      },
      "text/plain": [
       "Calculating Metrics:   0%|          | 0/23 [00:00<?, ?it/s]"
      ]
     },
     "metadata": {},
     "output_type": "display_data"
    },
    {
     "data": {
      "application/vnd.jupyter.widget-view+json": {
       "model_id": "f60f38ebbc8b4fbf97f4799517cd7fa9",
       "version_major": 2,
       "version_minor": 0
      },
      "text/plain": [
       "Calculating Metrics:   0%|          | 0/4 [00:00<?, ?it/s]"
      ]
     },
     "metadata": {},
     "output_type": "display_data"
    },
    {
     "data": {
      "application/vnd.jupyter.widget-view+json": {
       "model_id": "fbb35c37006b4e2cb15747cefe6708ea",
       "version_major": 2,
       "version_minor": 0
      },
      "text/plain": [
       "Calculating Metrics:   0%|          | 0/4 [00:00<?, ?it/s]"
      ]
     },
     "metadata": {},
     "output_type": "display_data"
    },
    {
     "data": {
      "application/vnd.jupyter.widget-view+json": {
       "model_id": "c4fcbcf4a3414a5a80613542102f7fc8",
       "version_major": 2,
       "version_minor": 0
      },
      "text/plain": [
       "Calculating Metrics:   0%|          | 0/6 [00:00<?, ?it/s]"
      ]
     },
     "metadata": {},
     "output_type": "display_data"
    },
    {
     "data": {
      "application/vnd.jupyter.widget-view+json": {
       "model_id": "ca178d112a954799b37fa7ef5a14351f",
       "version_major": 2,
       "version_minor": 0
      },
      "text/plain": [
       "Calculating Metrics:   0%|          | 0/23 [00:00<?, ?it/s]"
      ]
     },
     "metadata": {},
     "output_type": "display_data"
    },
    {
     "data": {
      "application/vnd.jupyter.widget-view+json": {
       "model_id": "7a83dc49d2064684b71380b3161027cb",
       "version_major": 2,
       "version_minor": 0
      },
      "text/plain": [
       "Calculating Metrics:   0%|          | 0/4 [00:00<?, ?it/s]"
      ]
     },
     "metadata": {},
     "output_type": "display_data"
    },
    {
     "data": {
      "application/vnd.jupyter.widget-view+json": {
       "model_id": "7930c0ca1c5443d08a69bd0b142c6ee6",
       "version_major": 2,
       "version_minor": 0
      },
      "text/plain": [
       "Calculating Metrics:   0%|          | 0/4 [00:00<?, ?it/s]"
      ]
     },
     "metadata": {},
     "output_type": "display_data"
    },
    {
     "data": {
      "application/vnd.jupyter.widget-view+json": {
       "model_id": "8db81e6fbb9a4fde8cff9c449476510f",
       "version_major": 2,
       "version_minor": 0
      },
      "text/plain": [
       "Calculating Metrics:   0%|          | 0/6 [00:00<?, ?it/s]"
      ]
     },
     "metadata": {},
     "output_type": "display_data"
    },
    {
     "data": {
      "application/vnd.jupyter.widget-view+json": {
       "model_id": "0eb6c5a0a48d41dba6eac8cc8c65a0ca",
       "version_major": 2,
       "version_minor": 0
      },
      "text/plain": [
       "Calculating Metrics:   0%|          | 0/23 [00:00<?, ?it/s]"
      ]
     },
     "metadata": {},
     "output_type": "display_data"
    },
    {
     "data": {
      "application/vnd.jupyter.widget-view+json": {
       "model_id": "d437b733c21940cc947ded18a69383c8",
       "version_major": 2,
       "version_minor": 0
      },
      "text/plain": [
       "Calculating Metrics:   0%|          | 0/4 [00:00<?, ?it/s]"
      ]
     },
     "metadata": {},
     "output_type": "display_data"
    },
    {
     "data": {
      "application/vnd.jupyter.widget-view+json": {
       "model_id": "a1e60f2936c94ec98ce24adec4988e85",
       "version_major": 2,
       "version_minor": 0
      },
      "text/plain": [
       "Calculating Metrics:   0%|          | 0/4 [00:00<?, ?it/s]"
      ]
     },
     "metadata": {},
     "output_type": "display_data"
    },
    {
     "data": {
      "application/vnd.jupyter.widget-view+json": {
       "model_id": "b6b2e64247534572a61e19ff032f3c3a",
       "version_major": 2,
       "version_minor": 0
      },
      "text/plain": [
       "Calculating Metrics:   0%|          | 0/6 [00:00<?, ?it/s]"
      ]
     },
     "metadata": {},
     "output_type": "display_data"
    },
    {
     "data": {
      "application/vnd.jupyter.widget-view+json": {
       "model_id": "44e2f39b6d1b47e3b936e07a36970d2c",
       "version_major": 2,
       "version_minor": 0
      },
      "text/plain": [
       "Calculating Metrics:   0%|          | 0/23 [00:00<?, ?it/s]"
      ]
     },
     "metadata": {},
     "output_type": "display_data"
    },
    {
     "data": {
      "application/vnd.jupyter.widget-view+json": {
       "model_id": "7a9d1165164c4c4a8ff9afd28e36e32b",
       "version_major": 2,
       "version_minor": 0
      },
      "text/plain": [
       "Calculating Metrics:   0%|          | 0/4 [00:00<?, ?it/s]"
      ]
     },
     "metadata": {},
     "output_type": "display_data"
    },
    {
     "data": {
      "application/vnd.jupyter.widget-view+json": {
       "model_id": "35476c099c61471cb6c4b8be4ab4a4ac",
       "version_major": 2,
       "version_minor": 0
      },
      "text/plain": [
       "Calculating Metrics:   0%|          | 0/4 [00:00<?, ?it/s]"
      ]
     },
     "metadata": {},
     "output_type": "display_data"
    },
    {
     "data": {
      "application/vnd.jupyter.widget-view+json": {
       "model_id": "31fae2fa819a41528ea609229e47c872",
       "version_major": 2,
       "version_minor": 0
      },
      "text/plain": [
       "Calculating Metrics:   0%|          | 0/6 [00:00<?, ?it/s]"
      ]
     },
     "metadata": {},
     "output_type": "display_data"
    },
    {
     "data": {
      "application/vnd.jupyter.widget-view+json": {
       "model_id": "590a70d1b38b4509a98154c171d05518",
       "version_major": 2,
       "version_minor": 0
      },
      "text/plain": [
       "Calculating Metrics:   0%|          | 0/23 [00:00<?, ?it/s]"
      ]
     },
     "metadata": {},
     "output_type": "display_data"
    },
    {
     "data": {
      "application/vnd.jupyter.widget-view+json": {
       "model_id": "63a6221824744b86840a831fe2473c31",
       "version_major": 2,
       "version_minor": 0
      },
      "text/plain": [
       "Calculating Metrics:   0%|          | 0/4 [00:00<?, ?it/s]"
      ]
     },
     "metadata": {},
     "output_type": "display_data"
    },
    {
     "data": {
      "application/vnd.jupyter.widget-view+json": {
       "model_id": "6b66df8d0c4d40698968533e31b71cbe",
       "version_major": 2,
       "version_minor": 0
      },
      "text/plain": [
       "Calculating Metrics:   0%|          | 0/4 [00:00<?, ?it/s]"
      ]
     },
     "metadata": {},
     "output_type": "display_data"
    },
    {
     "data": {
      "application/vnd.jupyter.widget-view+json": {
       "model_id": "b505dc6c16684eadb53faae6d48d4914",
       "version_major": 2,
       "version_minor": 0
      },
      "text/plain": [
       "Calculating Metrics:   0%|          | 0/6 [00:00<?, ?it/s]"
      ]
     },
     "metadata": {},
     "output_type": "display_data"
    },
    {
     "data": {
      "application/vnd.jupyter.widget-view+json": {
       "model_id": "e99fa0d5fb594fe2a2c08840fd7ab664",
       "version_major": 2,
       "version_minor": 0
      },
      "text/plain": [
       "Calculating Metrics:   0%|          | 0/23 [00:00<?, ?it/s]"
      ]
     },
     "metadata": {},
     "output_type": "display_data"
    },
    {
     "data": {
      "application/vnd.jupyter.widget-view+json": {
       "model_id": "f18e3c2a12d2468ba119a007041f18ee",
       "version_major": 2,
       "version_minor": 0
      },
      "text/plain": [
       "Calculating Metrics:   0%|          | 0/4 [00:00<?, ?it/s]"
      ]
     },
     "metadata": {},
     "output_type": "display_data"
    },
    {
     "data": {
      "application/vnd.jupyter.widget-view+json": {
       "model_id": "204b0e85a7f54786bed05bbb91ce2c01",
       "version_major": 2,
       "version_minor": 0
      },
      "text/plain": [
       "Calculating Metrics:   0%|          | 0/4 [00:00<?, ?it/s]"
      ]
     },
     "metadata": {},
     "output_type": "display_data"
    },
    {
     "data": {
      "application/vnd.jupyter.widget-view+json": {
       "model_id": "a8e09bdf9585417f8c39d7945a17e5ac",
       "version_major": 2,
       "version_minor": 0
      },
      "text/plain": [
       "Calculating Metrics:   0%|          | 0/6 [00:00<?, ?it/s]"
      ]
     },
     "metadata": {},
     "output_type": "display_data"
    },
    {
     "data": {
      "application/vnd.jupyter.widget-view+json": {
       "model_id": "9518afa1eb1246a6991854b6dec5c889",
       "version_major": 2,
       "version_minor": 0
      },
      "text/plain": [
       "Calculating Metrics:   0%|          | 0/23 [00:00<?, ?it/s]"
      ]
     },
     "metadata": {},
     "output_type": "display_data"
    },
    {
     "data": {
      "application/vnd.jupyter.widget-view+json": {
       "model_id": "fb5b4a2486504b088f928576abba8880",
       "version_major": 2,
       "version_minor": 0
      },
      "text/plain": [
       "Calculating Metrics:   0%|          | 0/4 [00:00<?, ?it/s]"
      ]
     },
     "metadata": {},
     "output_type": "display_data"
    },
    {
     "data": {
      "application/vnd.jupyter.widget-view+json": {
       "model_id": "82702a189a3841f99d13de38c4bde99f",
       "version_major": 2,
       "version_minor": 0
      },
      "text/plain": [
       "Calculating Metrics:   0%|          | 0/4 [00:00<?, ?it/s]"
      ]
     },
     "metadata": {},
     "output_type": "display_data"
    },
    {
     "data": {
      "application/vnd.jupyter.widget-view+json": {
       "model_id": "f76597331c9e42c6aaca83498289141c",
       "version_major": 2,
       "version_minor": 0
      },
      "text/plain": [
       "Calculating Metrics:   0%|          | 0/6 [00:00<?, ?it/s]"
      ]
     },
     "metadata": {},
     "output_type": "display_data"
    },
    {
     "data": {
      "application/vnd.jupyter.widget-view+json": {
       "model_id": "7b331652dd274fe1a74ba0098ce0ad94",
       "version_major": 2,
       "version_minor": 0
      },
      "text/plain": [
       "Calculating Metrics:   0%|          | 0/23 [00:00<?, ?it/s]"
      ]
     },
     "metadata": {},
     "output_type": "display_data"
    },
    {
     "data": {
      "application/vnd.jupyter.widget-view+json": {
       "model_id": "711b0d8f1cce410d8097efd764a69814",
       "version_major": 2,
       "version_minor": 0
      },
      "text/plain": [
       "Calculating Metrics:   0%|          | 0/2 [00:00<?, ?it/s]"
      ]
     },
     "metadata": {},
     "output_type": "display_data"
    },
    {
     "data": {
      "application/vnd.jupyter.widget-view+json": {
       "model_id": "9466cdcf92fd48dbbb8cc6e77868c8b4",
       "version_major": 2,
       "version_minor": 0
      },
      "text/plain": [
       "Calculating Metrics:   0%|          | 0/1 [00:00<?, ?it/s]"
      ]
     },
     "metadata": {},
     "output_type": "display_data"
    },
    {
     "data": {
      "application/vnd.jupyter.widget-view+json": {
       "model_id": "543a94ebbaf44f779b6dafc20a2cde2e",
       "version_major": 2,
       "version_minor": 0
      },
      "text/plain": [
       "Calculating Metrics:   0%|          | 0/24 [00:00<?, ?it/s]"
      ]
     },
     "metadata": {},
     "output_type": "display_data"
    },
    {
     "data": {
      "application/vnd.jupyter.widget-view+json": {
       "model_id": "dcfb8b54966a49adb047a49a1f5d5e68",
       "version_major": 2,
       "version_minor": 0
      },
      "text/plain": [
       "Profiling Dataset:         0%|          | 0/20 [00:00<?, ?it/s]"
      ]
     },
     "metadata": {},
     "output_type": "display_data"
    },
    {
     "data": {
      "application/vnd.jupyter.widget-view+json": {
       "model_id": "ee9c4b1bdabe427cbe1763b9ce925319",
       "version_major": 2,
       "version_minor": 0
      },
      "text/plain": [
       "Calculating Metrics:   0%|          | 0/4 [00:00<?, ?it/s]"
      ]
     },
     "metadata": {},
     "output_type": "display_data"
    },
    {
     "data": {
      "application/vnd.jupyter.widget-view+json": {
       "model_id": "d95a818d7b6342a3a9347765fec81fef",
       "version_major": 2,
       "version_minor": 0
      },
      "text/plain": [
       "Calculating Metrics:   0%|          | 0/4 [00:00<?, ?it/s]"
      ]
     },
     "metadata": {},
     "output_type": "display_data"
    },
    {
     "data": {
      "application/vnd.jupyter.widget-view+json": {
       "model_id": "725c5bc7ddc747aa93f7d5a3148f444f",
       "version_major": 2,
       "version_minor": 0
      },
      "text/plain": [
       "Calculating Metrics:   0%|          | 0/4 [00:00<?, ?it/s]"
      ]
     },
     "metadata": {},
     "output_type": "display_data"
    },
    {
     "data": {
      "application/vnd.jupyter.widget-view+json": {
       "model_id": "66f4cd9566ca4157bb5258a9fd1e3ba6",
       "version_major": 2,
       "version_minor": 0
      },
      "text/plain": [
       "Calculating Metrics:   0%|          | 0/7 [00:00<?, ?it/s]"
      ]
     },
     "metadata": {},
     "output_type": "display_data"
    },
    {
     "data": {
      "application/vnd.jupyter.widget-view+json": {
       "model_id": "757704dc284e4e28932c7c5ec1a7d9be",
       "version_major": 2,
       "version_minor": 0
      },
      "text/plain": [
       "Calculating Metrics:   0%|          | 0/4 [00:00<?, ?it/s]"
      ]
     },
     "metadata": {},
     "output_type": "display_data"
    },
    {
     "data": {
      "application/vnd.jupyter.widget-view+json": {
       "model_id": "b618d9bc44e54806b023be317dab0f99",
       "version_major": 2,
       "version_minor": 0
      },
      "text/plain": [
       "Calculating Metrics:   0%|          | 0/4 [00:00<?, ?it/s]"
      ]
     },
     "metadata": {},
     "output_type": "display_data"
    },
    {
     "data": {
      "application/vnd.jupyter.widget-view+json": {
       "model_id": "b3d7762f548843d58f48a38fdb822ff9",
       "version_major": 2,
       "version_minor": 0
      },
      "text/plain": [
       "Calculating Metrics:   0%|          | 0/4 [00:00<?, ?it/s]"
      ]
     },
     "metadata": {},
     "output_type": "display_data"
    },
    {
     "data": {
      "application/vnd.jupyter.widget-view+json": {
       "model_id": "060a9eb725244c648506121b190c59c6",
       "version_major": 2,
       "version_minor": 0
      },
      "text/plain": [
       "Calculating Metrics:   0%|          | 0/7 [00:00<?, ?it/s]"
      ]
     },
     "metadata": {},
     "output_type": "display_data"
    },
    {
     "data": {
      "application/vnd.jupyter.widget-view+json": {
       "model_id": "f48e74ef1b7049ee9f8489306395afa9",
       "version_major": 2,
       "version_minor": 0
      },
      "text/plain": [
       "Calculating Metrics:   0%|          | 0/4 [00:00<?, ?it/s]"
      ]
     },
     "metadata": {},
     "output_type": "display_data"
    },
    {
     "data": {
      "application/vnd.jupyter.widget-view+json": {
       "model_id": "0285486ddcae49edb2efaaead6e0e177",
       "version_major": 2,
       "version_minor": 0
      },
      "text/plain": [
       "Calculating Metrics:   0%|          | 0/4 [00:00<?, ?it/s]"
      ]
     },
     "metadata": {},
     "output_type": "display_data"
    },
    {
     "data": {
      "application/vnd.jupyter.widget-view+json": {
       "model_id": "1fdcc2f3d0124887a4254fdfdf113b0a",
       "version_major": 2,
       "version_minor": 0
      },
      "text/plain": [
       "Calculating Metrics:   0%|          | 0/4 [00:00<?, ?it/s]"
      ]
     },
     "metadata": {},
     "output_type": "display_data"
    },
    {
     "data": {
      "application/vnd.jupyter.widget-view+json": {
       "model_id": "9308203db87d49a9aaba47a8eb566d76",
       "version_major": 2,
       "version_minor": 0
      },
      "text/plain": [
       "Calculating Metrics:   0%|          | 0/7 [00:00<?, ?it/s]"
      ]
     },
     "metadata": {},
     "output_type": "display_data"
    },
    {
     "data": {
      "application/vnd.jupyter.widget-view+json": {
       "model_id": "d656332adcac4252bdc5db6e775df44e",
       "version_major": 2,
       "version_minor": 0
      },
      "text/plain": [
       "Calculating Metrics:   0%|          | 0/4 [00:00<?, ?it/s]"
      ]
     },
     "metadata": {},
     "output_type": "display_data"
    },
    {
     "data": {
      "application/vnd.jupyter.widget-view+json": {
       "model_id": "8aaf8ff66594475b9054e05bfff7128b",
       "version_major": 2,
       "version_minor": 0
      },
      "text/plain": [
       "Calculating Metrics:   0%|          | 0/4 [00:00<?, ?it/s]"
      ]
     },
     "metadata": {},
     "output_type": "display_data"
    },
    {
     "data": {
      "application/vnd.jupyter.widget-view+json": {
       "model_id": "4ee8f190b6fa4bd3b81a6f83aadc3c05",
       "version_major": 2,
       "version_minor": 0
      },
      "text/plain": [
       "Calculating Metrics:   0%|          | 0/4 [00:00<?, ?it/s]"
      ]
     },
     "metadata": {},
     "output_type": "display_data"
    },
    {
     "data": {
      "application/vnd.jupyter.widget-view+json": {
       "model_id": "8fe8d8bd68bc494a8e1092f48d47de02",
       "version_major": 2,
       "version_minor": 0
      },
      "text/plain": [
       "Calculating Metrics:   0%|          | 0/7 [00:00<?, ?it/s]"
      ]
     },
     "metadata": {},
     "output_type": "display_data"
    },
    {
     "data": {
      "application/vnd.jupyter.widget-view+json": {
       "model_id": "87f23190a9844525ab9927770ca7b1db",
       "version_major": 2,
       "version_minor": 0
      },
      "text/plain": [
       "Calculating Metrics:   0%|          | 0/4 [00:00<?, ?it/s]"
      ]
     },
     "metadata": {},
     "output_type": "display_data"
    },
    {
     "data": {
      "application/vnd.jupyter.widget-view+json": {
       "model_id": "fb44dc27e3b94f369b0acd6de6a39662",
       "version_major": 2,
       "version_minor": 0
      },
      "text/plain": [
       "Calculating Metrics:   0%|          | 0/4 [00:00<?, ?it/s]"
      ]
     },
     "metadata": {},
     "output_type": "display_data"
    },
    {
     "data": {
      "application/vnd.jupyter.widget-view+json": {
       "model_id": "d802deb7228c4d0c9dc8c8df4f818686",
       "version_major": 2,
       "version_minor": 0
      },
      "text/plain": [
       "Calculating Metrics:   0%|          | 0/4 [00:00<?, ?it/s]"
      ]
     },
     "metadata": {},
     "output_type": "display_data"
    },
    {
     "data": {
      "application/vnd.jupyter.widget-view+json": {
       "model_id": "30c27c6390084b3596ef5cc04c310d62",
       "version_major": 2,
       "version_minor": 0
      },
      "text/plain": [
       "Calculating Metrics:   0%|          | 0/7 [00:00<?, ?it/s]"
      ]
     },
     "metadata": {},
     "output_type": "display_data"
    },
    {
     "data": {
      "application/vnd.jupyter.widget-view+json": {
       "model_id": "df84d42754404a6ebc8e6c7902598ba5",
       "version_major": 2,
       "version_minor": 0
      },
      "text/plain": [
       "Calculating Metrics:   0%|          | 0/4 [00:00<?, ?it/s]"
      ]
     },
     "metadata": {},
     "output_type": "display_data"
    },
    {
     "data": {
      "application/vnd.jupyter.widget-view+json": {
       "model_id": "46edcc07b625458291e4ad738a403780",
       "version_major": 2,
       "version_minor": 0
      },
      "text/plain": [
       "Calculating Metrics:   0%|          | 0/4 [00:00<?, ?it/s]"
      ]
     },
     "metadata": {},
     "output_type": "display_data"
    },
    {
     "data": {
      "application/vnd.jupyter.widget-view+json": {
       "model_id": "597918b80a094cae854d40a0f936121f",
       "version_major": 2,
       "version_minor": 0
      },
      "text/plain": [
       "Calculating Metrics:   0%|          | 0/4 [00:00<?, ?it/s]"
      ]
     },
     "metadata": {},
     "output_type": "display_data"
    },
    {
     "data": {
      "application/vnd.jupyter.widget-view+json": {
       "model_id": "d12fb151c41e4a538d3177daafdcdc90",
       "version_major": 2,
       "version_minor": 0
      },
      "text/plain": [
       "Calculating Metrics:   0%|          | 0/7 [00:00<?, ?it/s]"
      ]
     },
     "metadata": {},
     "output_type": "display_data"
    },
    {
     "data": {
      "application/vnd.jupyter.widget-view+json": {
       "model_id": "d08b3ca0e2994ffaa50f8bc92dae794b",
       "version_major": 2,
       "version_minor": 0
      },
      "text/plain": [
       "Calculating Metrics:   0%|          | 0/4 [00:00<?, ?it/s]"
      ]
     },
     "metadata": {},
     "output_type": "display_data"
    },
    {
     "data": {
      "application/vnd.jupyter.widget-view+json": {
       "model_id": "fb182a82f4704691b2f84f54f16a0004",
       "version_major": 2,
       "version_minor": 0
      },
      "text/plain": [
       "Calculating Metrics:   0%|          | 0/4 [00:00<?, ?it/s]"
      ]
     },
     "metadata": {},
     "output_type": "display_data"
    },
    {
     "data": {
      "application/vnd.jupyter.widget-view+json": {
       "model_id": "3f8f5b02e4204f78a7d50dc9c836bf1a",
       "version_major": 2,
       "version_minor": 0
      },
      "text/plain": [
       "Calculating Metrics:   0%|          | 0/4 [00:00<?, ?it/s]"
      ]
     },
     "metadata": {},
     "output_type": "display_data"
    },
    {
     "data": {
      "application/vnd.jupyter.widget-view+json": {
       "model_id": "b369e0d818f34a93970e4e81dc7ea66e",
       "version_major": 2,
       "version_minor": 0
      },
      "text/plain": [
       "Calculating Metrics:   0%|          | 0/7 [00:00<?, ?it/s]"
      ]
     },
     "metadata": {},
     "output_type": "display_data"
    },
    {
     "data": {
      "application/vnd.jupyter.widget-view+json": {
       "model_id": "fc472a29bd7c430b99c914f13911f946",
       "version_major": 2,
       "version_minor": 0
      },
      "text/plain": [
       "Calculating Metrics:   0%|          | 0/4 [00:00<?, ?it/s]"
      ]
     },
     "metadata": {},
     "output_type": "display_data"
    },
    {
     "data": {
      "application/vnd.jupyter.widget-view+json": {
       "model_id": "29e25b9b02554fe38a65867c17e7aaa3",
       "version_major": 2,
       "version_minor": 0
      },
      "text/plain": [
       "Calculating Metrics:   0%|          | 0/4 [00:00<?, ?it/s]"
      ]
     },
     "metadata": {},
     "output_type": "display_data"
    },
    {
     "data": {
      "application/vnd.jupyter.widget-view+json": {
       "model_id": "eaa3867183c442a1a586d2bbf5f663e1",
       "version_major": 2,
       "version_minor": 0
      },
      "text/plain": [
       "Calculating Metrics:   0%|          | 0/4 [00:00<?, ?it/s]"
      ]
     },
     "metadata": {},
     "output_type": "display_data"
    },
    {
     "data": {
      "application/vnd.jupyter.widget-view+json": {
       "model_id": "5378b7e0a14c4112b00621ef909d460c",
       "version_major": 2,
       "version_minor": 0
      },
      "text/plain": [
       "Calculating Metrics:   0%|          | 0/7 [00:00<?, ?it/s]"
      ]
     },
     "metadata": {},
     "output_type": "display_data"
    },
    {
     "data": {
      "application/vnd.jupyter.widget-view+json": {
       "model_id": "ba332ab804e94c0687f7d9596b45f135",
       "version_major": 2,
       "version_minor": 0
      },
      "text/plain": [
       "Calculating Metrics:   0%|          | 0/4 [00:00<?, ?it/s]"
      ]
     },
     "metadata": {},
     "output_type": "display_data"
    },
    {
     "data": {
      "application/vnd.jupyter.widget-view+json": {
       "model_id": "8a9afd2173364e8cb4ebd28d70f3b6a2",
       "version_major": 2,
       "version_minor": 0
      },
      "text/plain": [
       "Calculating Metrics:   0%|          | 0/4 [00:00<?, ?it/s]"
      ]
     },
     "metadata": {},
     "output_type": "display_data"
    },
    {
     "data": {
      "application/vnd.jupyter.widget-view+json": {
       "model_id": "3bb840c8328d42fe82ec460d125ddf47",
       "version_major": 2,
       "version_minor": 0
      },
      "text/plain": [
       "Calculating Metrics:   0%|          | 0/4 [00:00<?, ?it/s]"
      ]
     },
     "metadata": {},
     "output_type": "display_data"
    },
    {
     "data": {
      "application/vnd.jupyter.widget-view+json": {
       "model_id": "b3ad505d9c4e4d66925d3359c207f0ed",
       "version_major": 2,
       "version_minor": 0
      },
      "text/plain": [
       "Calculating Metrics:   0%|          | 0/7 [00:00<?, ?it/s]"
      ]
     },
     "metadata": {},
     "output_type": "display_data"
    },
    {
     "data": {
      "application/vnd.jupyter.widget-view+json": {
       "model_id": "6afa2ddf2b8b486581a2bacecf78f342",
       "version_major": 2,
       "version_minor": 0
      },
      "text/plain": [
       "Calculating Metrics:   0%|          | 0/4 [00:00<?, ?it/s]"
      ]
     },
     "metadata": {},
     "output_type": "display_data"
    },
    {
     "data": {
      "application/vnd.jupyter.widget-view+json": {
       "model_id": "9c4a6fd83dcb490aa8bb2af14c6ae9c3",
       "version_major": 2,
       "version_minor": 0
      },
      "text/plain": [
       "Calculating Metrics:   0%|          | 0/4 [00:00<?, ?it/s]"
      ]
     },
     "metadata": {},
     "output_type": "display_data"
    },
    {
     "data": {
      "application/vnd.jupyter.widget-view+json": {
       "model_id": "e0194c96c3484de8bbaff21be84b5b3c",
       "version_major": 2,
       "version_minor": 0
      },
      "text/plain": [
       "Calculating Metrics:   0%|          | 0/4 [00:00<?, ?it/s]"
      ]
     },
     "metadata": {},
     "output_type": "display_data"
    },
    {
     "data": {
      "application/vnd.jupyter.widget-view+json": {
       "model_id": "d7c124fe627b45eaad41856c529f4903",
       "version_major": 2,
       "version_minor": 0
      },
      "text/plain": [
       "Calculating Metrics:   0%|          | 0/7 [00:00<?, ?it/s]"
      ]
     },
     "metadata": {},
     "output_type": "display_data"
    },
    {
     "data": {
      "application/vnd.jupyter.widget-view+json": {
       "model_id": "cffca86602d9493ab198aa4846a68f56",
       "version_major": 2,
       "version_minor": 0
      },
      "text/plain": [
       "Calculating Metrics:   0%|          | 0/4 [00:00<?, ?it/s]"
      ]
     },
     "metadata": {},
     "output_type": "display_data"
    },
    {
     "data": {
      "application/vnd.jupyter.widget-view+json": {
       "model_id": "3d841246672340af84293a05b03ba4c0",
       "version_major": 2,
       "version_minor": 0
      },
      "text/plain": [
       "Calculating Metrics:   0%|          | 0/4 [00:00<?, ?it/s]"
      ]
     },
     "metadata": {},
     "output_type": "display_data"
    },
    {
     "data": {
      "application/vnd.jupyter.widget-view+json": {
       "model_id": "d33bf8c5ffef4c93bd426b84e6e0eefa",
       "version_major": 2,
       "version_minor": 0
      },
      "text/plain": [
       "Calculating Metrics:   0%|          | 0/4 [00:00<?, ?it/s]"
      ]
     },
     "metadata": {},
     "output_type": "display_data"
    },
    {
     "data": {
      "application/vnd.jupyter.widget-view+json": {
       "model_id": "2f2304c94e9d419fb4d0ec8e4c0c3bbe",
       "version_major": 2,
       "version_minor": 0
      },
      "text/plain": [
       "Calculating Metrics:   0%|          | 0/7 [00:00<?, ?it/s]"
      ]
     },
     "metadata": {},
     "output_type": "display_data"
    },
    {
     "data": {
      "application/vnd.jupyter.widget-view+json": {
       "model_id": "3859ad6b1eb246ed9af23e7d61760486",
       "version_major": 2,
       "version_minor": 0
      },
      "text/plain": [
       "Calculating Metrics:   0%|          | 0/4 [00:00<?, ?it/s]"
      ]
     },
     "metadata": {},
     "output_type": "display_data"
    },
    {
     "data": {
      "application/vnd.jupyter.widget-view+json": {
       "model_id": "ab8a557bfb804be5b5220d5622b3d363",
       "version_major": 2,
       "version_minor": 0
      },
      "text/plain": [
       "Calculating Metrics:   0%|          | 0/4 [00:00<?, ?it/s]"
      ]
     },
     "metadata": {},
     "output_type": "display_data"
    },
    {
     "data": {
      "application/vnd.jupyter.widget-view+json": {
       "model_id": "111ff8a08b5b43dfac79152acefb6d40",
       "version_major": 2,
       "version_minor": 0
      },
      "text/plain": [
       "Calculating Metrics:   0%|          | 0/4 [00:00<?, ?it/s]"
      ]
     },
     "metadata": {},
     "output_type": "display_data"
    },
    {
     "data": {
      "application/vnd.jupyter.widget-view+json": {
       "model_id": "e8149bb4994d450c8dae646c43be67a6",
       "version_major": 2,
       "version_minor": 0
      },
      "text/plain": [
       "Calculating Metrics:   0%|          | 0/7 [00:00<?, ?it/s]"
      ]
     },
     "metadata": {},
     "output_type": "display_data"
    },
    {
     "data": {
      "application/vnd.jupyter.widget-view+json": {
       "model_id": "034fe1a66343430da06c22710035f330",
       "version_major": 2,
       "version_minor": 0
      },
      "text/plain": [
       "Calculating Metrics:   0%|          | 0/4 [00:00<?, ?it/s]"
      ]
     },
     "metadata": {},
     "output_type": "display_data"
    },
    {
     "data": {
      "application/vnd.jupyter.widget-view+json": {
       "model_id": "3443a1a805094a6e854bfff83947cec5",
       "version_major": 2,
       "version_minor": 0
      },
      "text/plain": [
       "Calculating Metrics:   0%|          | 0/4 [00:00<?, ?it/s]"
      ]
     },
     "metadata": {},
     "output_type": "display_data"
    },
    {
     "data": {
      "application/vnd.jupyter.widget-view+json": {
       "model_id": "623e166b8d4449c4bae473c1ce1629b1",
       "version_major": 2,
       "version_minor": 0
      },
      "text/plain": [
       "Calculating Metrics:   0%|          | 0/4 [00:00<?, ?it/s]"
      ]
     },
     "metadata": {},
     "output_type": "display_data"
    },
    {
     "data": {
      "application/vnd.jupyter.widget-view+json": {
       "model_id": "22289c6b1ae7427cad6d67bf351566b5",
       "version_major": 2,
       "version_minor": 0
      },
      "text/plain": [
       "Calculating Metrics:   0%|          | 0/7 [00:00<?, ?it/s]"
      ]
     },
     "metadata": {},
     "output_type": "display_data"
    },
    {
     "data": {
      "application/vnd.jupyter.widget-view+json": {
       "model_id": "40ab4379515e43e0942741fef094e6e5",
       "version_major": 2,
       "version_minor": 0
      },
      "text/plain": [
       "Calculating Metrics:   0%|          | 0/4 [00:00<?, ?it/s]"
      ]
     },
     "metadata": {},
     "output_type": "display_data"
    },
    {
     "data": {
      "application/vnd.jupyter.widget-view+json": {
       "model_id": "2eafd67e34be42ff914d2f300db6ea5b",
       "version_major": 2,
       "version_minor": 0
      },
      "text/plain": [
       "Calculating Metrics:   0%|          | 0/4 [00:00<?, ?it/s]"
      ]
     },
     "metadata": {},
     "output_type": "display_data"
    },
    {
     "data": {
      "application/vnd.jupyter.widget-view+json": {
       "model_id": "9ed496e218024f9aa38a94fccaa353b2",
       "version_major": 2,
       "version_minor": 0
      },
      "text/plain": [
       "Calculating Metrics:   0%|          | 0/4 [00:00<?, ?it/s]"
      ]
     },
     "metadata": {},
     "output_type": "display_data"
    },
    {
     "data": {
      "application/vnd.jupyter.widget-view+json": {
       "model_id": "5f07defb24c948e1ab3c880d04c2b9d0",
       "version_major": 2,
       "version_minor": 0
      },
      "text/plain": [
       "Calculating Metrics:   0%|          | 0/7 [00:00<?, ?it/s]"
      ]
     },
     "metadata": {},
     "output_type": "display_data"
    },
    {
     "data": {
      "application/vnd.jupyter.widget-view+json": {
       "model_id": "04c6496173e14a038b3abc8aab024812",
       "version_major": 2,
       "version_minor": 0
      },
      "text/plain": [
       "Calculating Metrics:   0%|          | 0/4 [00:00<?, ?it/s]"
      ]
     },
     "metadata": {},
     "output_type": "display_data"
    },
    {
     "data": {
      "application/vnd.jupyter.widget-view+json": {
       "model_id": "43d5b99ea88646ff910187616059b541",
       "version_major": 2,
       "version_minor": 0
      },
      "text/plain": [
       "Calculating Metrics:   0%|          | 0/4 [00:00<?, ?it/s]"
      ]
     },
     "metadata": {},
     "output_type": "display_data"
    },
    {
     "data": {
      "application/vnd.jupyter.widget-view+json": {
       "model_id": "574d450706c442ef8e64d88a359a60bc",
       "version_major": 2,
       "version_minor": 0
      },
      "text/plain": [
       "Calculating Metrics:   0%|          | 0/4 [00:00<?, ?it/s]"
      ]
     },
     "metadata": {},
     "output_type": "display_data"
    },
    {
     "data": {
      "application/vnd.jupyter.widget-view+json": {
       "model_id": "f0c3aec82eff4c5691cd643123863fb3",
       "version_major": 2,
       "version_minor": 0
      },
      "text/plain": [
       "Calculating Metrics:   0%|          | 0/7 [00:00<?, ?it/s]"
      ]
     },
     "metadata": {},
     "output_type": "display_data"
    },
    {
     "data": {
      "application/vnd.jupyter.widget-view+json": {
       "model_id": "abc680a7d4f24e66886189048754b33b",
       "version_major": 2,
       "version_minor": 0
      },
      "text/plain": [
       "Calculating Metrics:   0%|          | 0/4 [00:00<?, ?it/s]"
      ]
     },
     "metadata": {},
     "output_type": "display_data"
    },
    {
     "data": {
      "application/vnd.jupyter.widget-view+json": {
       "model_id": "b63cafa3e83048df8ea890e82f845b3a",
       "version_major": 2,
       "version_minor": 0
      },
      "text/plain": [
       "Calculating Metrics:   0%|          | 0/4 [00:00<?, ?it/s]"
      ]
     },
     "metadata": {},
     "output_type": "display_data"
    },
    {
     "data": {
      "application/vnd.jupyter.widget-view+json": {
       "model_id": "8f9af8cd3e2546cd96613886764aea34",
       "version_major": 2,
       "version_minor": 0
      },
      "text/plain": [
       "Calculating Metrics:   0%|          | 0/4 [00:00<?, ?it/s]"
      ]
     },
     "metadata": {},
     "output_type": "display_data"
    },
    {
     "data": {
      "application/vnd.jupyter.widget-view+json": {
       "model_id": "b7fcd4695c95489b8510fceba2815049",
       "version_major": 2,
       "version_minor": 0
      },
      "text/plain": [
       "Calculating Metrics:   0%|          | 0/7 [00:00<?, ?it/s]"
      ]
     },
     "metadata": {},
     "output_type": "display_data"
    },
    {
     "data": {
      "application/vnd.jupyter.widget-view+json": {
       "model_id": "015dd3a4d7af4012871a6ca9402841e0",
       "version_major": 2,
       "version_minor": 0
      },
      "text/plain": [
       "Calculating Metrics:   0%|          | 0/4 [00:00<?, ?it/s]"
      ]
     },
     "metadata": {},
     "output_type": "display_data"
    },
    {
     "data": {
      "application/vnd.jupyter.widget-view+json": {
       "model_id": "37535df0c86f423395f30bb535a94cfb",
       "version_major": 2,
       "version_minor": 0
      },
      "text/plain": [
       "Calculating Metrics:   0%|          | 0/4 [00:00<?, ?it/s]"
      ]
     },
     "metadata": {},
     "output_type": "display_data"
    },
    {
     "data": {
      "application/vnd.jupyter.widget-view+json": {
       "model_id": "3be9d7c3b31a437091fa197ad6bcdb9b",
       "version_major": 2,
       "version_minor": 0
      },
      "text/plain": [
       "Calculating Metrics:   0%|          | 0/4 [00:00<?, ?it/s]"
      ]
     },
     "metadata": {},
     "output_type": "display_data"
    },
    {
     "data": {
      "application/vnd.jupyter.widget-view+json": {
       "model_id": "9e901cfe3fdb407ea8e981145241a69f",
       "version_major": 2,
       "version_minor": 0
      },
      "text/plain": [
       "Calculating Metrics:   0%|          | 0/7 [00:00<?, ?it/s]"
      ]
     },
     "metadata": {},
     "output_type": "display_data"
    },
    {
     "data": {
      "application/vnd.jupyter.widget-view+json": {
       "model_id": "e74bedcb1d7f4ee899d0e75fc07bf57a",
       "version_major": 2,
       "version_minor": 0
      },
      "text/plain": [
       "Calculating Metrics:   0%|          | 0/4 [00:00<?, ?it/s]"
      ]
     },
     "metadata": {},
     "output_type": "display_data"
    },
    {
     "data": {
      "application/vnd.jupyter.widget-view+json": {
       "model_id": "0bf9ba8c20e7459ab3e439bf51bed646",
       "version_major": 2,
       "version_minor": 0
      },
      "text/plain": [
       "Calculating Metrics:   0%|          | 0/4 [00:00<?, ?it/s]"
      ]
     },
     "metadata": {},
     "output_type": "display_data"
    },
    {
     "data": {
      "application/vnd.jupyter.widget-view+json": {
       "model_id": "fac448fac7b6408a86ca167dbd7029c5",
       "version_major": 2,
       "version_minor": 0
      },
      "text/plain": [
       "Calculating Metrics:   0%|          | 0/4 [00:00<?, ?it/s]"
      ]
     },
     "metadata": {},
     "output_type": "display_data"
    },
    {
     "data": {
      "application/vnd.jupyter.widget-view+json": {
       "model_id": "328b6462f4e5455c86437768d2f8f1c1",
       "version_major": 2,
       "version_minor": 0
      },
      "text/plain": [
       "Calculating Metrics:   0%|          | 0/7 [00:00<?, ?it/s]"
      ]
     },
     "metadata": {},
     "output_type": "display_data"
    },
    {
     "data": {
      "application/vnd.jupyter.widget-view+json": {
       "model_id": "941ec54cf7714152835e76bb633ec5b2",
       "version_major": 2,
       "version_minor": 0
      },
      "text/plain": [
       "Calculating Metrics:   0%|          | 0/4 [00:00<?, ?it/s]"
      ]
     },
     "metadata": {},
     "output_type": "display_data"
    },
    {
     "data": {
      "application/vnd.jupyter.widget-view+json": {
       "model_id": "6e3c2c2cdd1345e3aaf843300e39ad81",
       "version_major": 2,
       "version_minor": 0
      },
      "text/plain": [
       "Calculating Metrics:   0%|          | 0/4 [00:00<?, ?it/s]"
      ]
     },
     "metadata": {},
     "output_type": "display_data"
    },
    {
     "data": {
      "application/vnd.jupyter.widget-view+json": {
       "model_id": "b378e986c1ed4d3d90c7031cd1223157",
       "version_major": 2,
       "version_minor": 0
      },
      "text/plain": [
       "Calculating Metrics:   0%|          | 0/4 [00:00<?, ?it/s]"
      ]
     },
     "metadata": {},
     "output_type": "display_data"
    },
    {
     "data": {
      "application/vnd.jupyter.widget-view+json": {
       "model_id": "52da3907a039412095d6e095458e499b",
       "version_major": 2,
       "version_minor": 0
      },
      "text/plain": [
       "Calculating Metrics:   0%|          | 0/7 [00:00<?, ?it/s]"
      ]
     },
     "metadata": {},
     "output_type": "display_data"
    },
    {
     "data": {
      "application/vnd.jupyter.widget-view+json": {
       "model_id": "2e700e79d11649e1bfdca9e9a9a3ed5e",
       "version_major": 2,
       "version_minor": 0
      },
      "text/plain": [
       "Calculating Metrics:   0%|          | 0/4 [00:00<?, ?it/s]"
      ]
     },
     "metadata": {},
     "output_type": "display_data"
    },
    {
     "data": {
      "application/vnd.jupyter.widget-view+json": {
       "model_id": "96fc0ff1944e4049b8964f908b06c517",
       "version_major": 2,
       "version_minor": 0
      },
      "text/plain": [
       "Calculating Metrics:   0%|          | 0/4 [00:00<?, ?it/s]"
      ]
     },
     "metadata": {},
     "output_type": "display_data"
    },
    {
     "data": {
      "application/vnd.jupyter.widget-view+json": {
       "model_id": "7ca72400717e4132911aa09a34ee4863",
       "version_major": 2,
       "version_minor": 0
      },
      "text/plain": [
       "Calculating Metrics:   0%|          | 0/4 [00:00<?, ?it/s]"
      ]
     },
     "metadata": {},
     "output_type": "display_data"
    },
    {
     "data": {
      "application/vnd.jupyter.widget-view+json": {
       "model_id": "e84710ba17bb48dc80f5e3b7fba93b9e",
       "version_major": 2,
       "version_minor": 0
      },
      "text/plain": [
       "Calculating Metrics:   0%|          | 0/7 [00:00<?, ?it/s]"
      ]
     },
     "metadata": {},
     "output_type": "display_data"
    }
   ],
   "source": [
    "data_assistant_result = context.assistants.onboarding.run(\n",
    "    batch_request=batch_request,\n",
    "    exclude_column_names=[],\n",
    ")"
   ]
  },
  {
   "cell_type": "code",
   "execution_count": 12,
   "metadata": {},
   "outputs": [
    {
     "data": {
      "text/plain": [
       "{\n",
       "  \"profiler_execution_time\": 16.430135643,\n",
       "  \"num_profiler_rules\": 8,\n",
       "  \"num_expectation_configurations\": 156,\n",
       "  \"auto_generated_at\": \"20221229T175946.174626Z\",\n",
       "  \"great_expectations_version\": \"0.15.41\"\n",
       "}"
      ]
     },
     "execution_count": 12,
     "metadata": {},
     "output_type": "execute_result"
    }
   ],
   "source": [
    "data_assistant_result"
   ]
  },
  {
   "cell_type": "code",
   "execution_count": 13,
   "metadata": {},
   "outputs": [],
   "source": [
    "expectation_suite = data_assistant_result.get_expectation_suite(\n",
    "    expectation_suite_name=\"indicator_test_suite\"\n",
    ")"
   ]
  },
  {
   "cell_type": "code",
   "execution_count": 14,
   "metadata": {},
   "outputs": [],
   "source": [
    "context.save_expectation_suite(\n",
    "    expectation_suite=expectation_suite, discard_failed_expectations=False\n",
    ")"
   ]
  },
  {
   "cell_type": "code",
   "execution_count": 4,
   "metadata": {},
   "outputs": [
    {
     "ename": "NameError",
     "evalue": "name 'context' is not defined",
     "output_type": "error",
     "traceback": [
      "\u001b[0;31m---------------------------------------------------------------------------\u001b[0m",
      "\u001b[0;31mNameError\u001b[0m                                 Traceback (most recent call last)",
      "Cell \u001b[0;32mIn[4], line 1\u001b[0m\n\u001b[0;32m----> 1\u001b[0m context\u001b[39m.\u001b[39massistants\u001b[39m.\u001b[39monboarding\u001b[39m.\u001b[39mrun\n",
      "\u001b[0;31mNameError\u001b[0m: name 'context' is not defined"
     ]
    }
   ],
   "source": [
    "context.assistants.onboarding.run"
   ]
  },
  {
   "cell_type": "code",
   "execution_count": 5,
   "metadata": {},
   "outputs": [],
   "source": [
    "import json "
   ]
  },
  {
   "cell_type": "code",
   "execution_count": 43,
   "metadata": {},
   "outputs": [
    {
     "data": {
      "text/plain": [
       "{'data_asset_type': None,\n",
       " 'expectation_suite_name': 'sdmx_indicator_suite',\n",
       " 'expectations': [{'expectation_type': 'expect_column_values_to_not_be_null',\n",
       "   'kwargs': {'column': 'COUNTRY_ISO_3'},\n",
       "   'meta': {'profiler_details': {'metric_configuration': {'domain_kwargs': {'column': 'COUNTRY_ISO_3'},\n",
       "      'metric_name': 'column_values.nonnull.unexpected_count',\n",
       "      'metric_value_kwargs': None},\n",
       "     'num_batches': 2}}},\n",
       "  {'expectation_type': 'expect_column_values_to_not_be_null',\n",
       "   'kwargs': {'column': 'INDICATOR_INDEX'},\n",
       "   'meta': {'profiler_details': {'metric_configuration': {'domain_kwargs': {'column': 'INDICATOR_INDEX'},\n",
       "      'metric_name': 'column_values.nonnull.unexpected_count',\n",
       "      'metric_value_kwargs': None},\n",
       "     'num_batches': 2}}},\n",
       "  {'expectation_type': 'expect_column_values_to_not_be_null',\n",
       "   'kwargs': {'column': 'INDICATOR_ISSUE'},\n",
       "   'meta': {'profiler_details': {'metric_configuration': {'domain_kwargs': {'column': 'INDICATOR_ISSUE'},\n",
       "      'metric_name': 'column_values.nonnull.unexpected_count',\n",
       "      'metric_value_kwargs': None},\n",
       "     'num_batches': 2}}},\n",
       "  {'expectation_type': 'expect_column_values_to_not_be_null',\n",
       "   'kwargs': {'column': 'INDICATOR_CATEGORY'},\n",
       "   'meta': {'profiler_details': {'metric_configuration': {'domain_kwargs': {'column': 'INDICATOR_CATEGORY'},\n",
       "      'metric_name': 'column_values.nonnull.unexpected_count',\n",
       "      'metric_value_kwargs': None},\n",
       "     'num_batches': 2}}},\n",
       "  {'expectation_type': 'expect_column_values_to_be_between',\n",
       "   'kwargs': {'column': 'TIME_PERIOD',\n",
       "    'max_value': 2023.0,\n",
       "    'min_value': 1007.0,\n",
       "    'mostly': 1.0,\n",
       "    'strict_max': False,\n",
       "    'strict_min': False},\n",
       "   'meta': {'profiler_details': {'column_max_values_range_estimator': {'metric_configuration': {'domain_kwargs': {'column': 'TIME_PERIOD'},\n",
       "       'metric_name': 'column.max',\n",
       "       'metric_value_kwargs': None},\n",
       "      'num_batches': 2},\n",
       "     'column_min_values_range_estimator': {'metric_configuration': {'domain_kwargs': {'column': 'TIME_PERIOD'},\n",
       "       'metric_name': 'column.min',\n",
       "       'metric_value_kwargs': None},\n",
       "      'num_batches': 2}}}},\n",
       "  {'expectation_type': 'expect_column_values_to_be_between',\n",
       "   'kwargs': {'column': 'CRBA_RELEASE_YEAR',\n",
       "    'max_value': 2023,\n",
       "    'min_value': 2023,\n",
       "    'mostly': 1.0,\n",
       "    'strict_max': False,\n",
       "    'strict_min': False},\n",
       "   'meta': {'profiler_details': {'column_max_values_range_estimator': {'metric_configuration': {'domain_kwargs': {'column': 'CRBA_RELEASE_YEAR'},\n",
       "       'metric_name': 'column.max',\n",
       "       'metric_value_kwargs': None},\n",
       "      'num_batches': 2},\n",
       "     'column_min_values_range_estimator': {'metric_configuration': {'domain_kwargs': {'column': 'CRBA_RELEASE_YEAR'},\n",
       "       'metric_name': 'column.min',\n",
       "       'metric_value_kwargs': None},\n",
       "      'num_batches': 2}}}},\n",
       "  {'expectation_type': 'expect_column_values_to_be_between',\n",
       "   'kwargs': {'column': 'RAW_OBS_VALUE',\n",
       "    'max_value': 93081.83120202998,\n",
       "    'min_value': -2.68323922157288,\n",
       "    'mostly': 1.0,\n",
       "    'strict_max': False,\n",
       "    'strict_min': False},\n",
       "   'meta': {'profiler_details': {'column_max_values_range_estimator': {'metric_configuration': {'domain_kwargs': {'column': 'RAW_OBS_VALUE'},\n",
       "       'metric_name': 'column.max',\n",
       "       'metric_value_kwargs': None},\n",
       "      'num_batches': 2},\n",
       "     'column_min_values_range_estimator': {'metric_configuration': {'domain_kwargs': {'column': 'RAW_OBS_VALUE'},\n",
       "       'metric_name': 'column.min',\n",
       "       'metric_value_kwargs': None},\n",
       "      'num_batches': 2}}}},\n",
       "  {'expectation_type': 'expect_column_values_to_be_between',\n",
       "   'kwargs': {'column': 'SCALED_OBS_VALUE',\n",
       "    'max_value': 10.0,\n",
       "    'min_value': 0.0,\n",
       "    'mostly': 1.0,\n",
       "    'strict_max': False,\n",
       "    'strict_min': False},\n",
       "   'meta': {'profiler_details': {'column_max_values_range_estimator': {'metric_configuration': {'domain_kwargs': {'column': 'SCALED_OBS_VALUE'},\n",
       "       'metric_name': 'column.max',\n",
       "       'metric_value_kwargs': None},\n",
       "      'num_batches': 2},\n",
       "     'column_min_values_range_estimator': {'metric_configuration': {'domain_kwargs': {'column': 'SCALED_OBS_VALUE'},\n",
       "       'metric_name': 'column.min',\n",
       "       'metric_value_kwargs': None},\n",
       "      'num_batches': 2}}}},\n",
       "  {'expectation_type': 'expect_column_values_to_be_between',\n",
       "   'kwargs': {'column': 'CATEGORY_ISSUE_SCORE',\n",
       "    'max_value': 10.0,\n",
       "    'min_value': 0.0,\n",
       "    'mostly': 1.0,\n",
       "    'strict_max': False,\n",
       "    'strict_min': False},\n",
       "   'meta': {'profiler_details': {'column_max_values_range_estimator': {'metric_configuration': {'domain_kwargs': {'column': 'CATEGORY_ISSUE_SCORE'},\n",
       "       'metric_name': 'column.max',\n",
       "       'metric_value_kwargs': None},\n",
       "      'num_batches': 2},\n",
       "     'column_min_values_range_estimator': {'metric_configuration': {'domain_kwargs': {'column': 'CATEGORY_ISSUE_SCORE'},\n",
       "       'metric_name': 'column.min',\n",
       "       'metric_value_kwargs': None},\n",
       "      'num_batches': 2}}}},\n",
       "  {'expectation_type': 'expect_column_values_to_be_between',\n",
       "   'kwargs': {'column': 'ISSUE_INDEX_SCORE',\n",
       "    'max_value': 9.9225,\n",
       "    'min_value': 0.0,\n",
       "    'mostly': 1.0,\n",
       "    'strict_max': False,\n",
       "    'strict_min': False},\n",
       "   'meta': {'profiler_details': {'column_max_values_range_estimator': {'metric_configuration': {'domain_kwargs': {'column': 'ISSUE_INDEX_SCORE'},\n",
       "       'metric_name': 'column.max',\n",
       "       'metric_value_kwargs': None},\n",
       "      'num_batches': 2},\n",
       "     'column_min_values_range_estimator': {'metric_configuration': {'domain_kwargs': {'column': 'ISSUE_INDEX_SCORE'},\n",
       "       'metric_name': 'column.min',\n",
       "       'metric_value_kwargs': None},\n",
       "      'num_batches': 2}}}},\n",
       "  {'expectation_type': 'expect_column_values_to_be_between',\n",
       "   'kwargs': {'column': 'INDEX_SCORE',\n",
       "    'max_value': 8.866144444444444,\n",
       "    'min_value': 1.5744703583453583,\n",
       "    'mostly': 1.0,\n",
       "    'strict_max': False,\n",
       "    'strict_min': False},\n",
       "   'meta': {'profiler_details': {'column_max_values_range_estimator': {'metric_configuration': {'domain_kwargs': {'column': 'INDEX_SCORE'},\n",
       "       'metric_name': 'column.max',\n",
       "       'metric_value_kwargs': None},\n",
       "      'num_batches': 2},\n",
       "     'column_min_values_range_estimator': {'metric_configuration': {'domain_kwargs': {'column': 'INDEX_SCORE'},\n",
       "       'metric_name': 'column.min',\n",
       "       'metric_value_kwargs': None},\n",
       "      'num_batches': 2}}}},\n",
       "  {'expectation_type': 'expect_column_values_to_be_between',\n",
       "   'kwargs': {'column': 'OVERALL_SCORE',\n",
       "    'max_value': 8.479402592058147,\n",
       "    'min_value': 2.2794098725348726,\n",
       "    'mostly': 1.0,\n",
       "    'strict_max': False,\n",
       "    'strict_min': False},\n",
       "   'meta': {'profiler_details': {'column_max_values_range_estimator': {'metric_configuration': {'domain_kwargs': {'column': 'OVERALL_SCORE'},\n",
       "       'metric_name': 'column.max',\n",
       "       'metric_value_kwargs': None},\n",
       "      'num_batches': 2},\n",
       "     'column_min_values_range_estimator': {'metric_configuration': {'domain_kwargs': {'column': 'OVERALL_SCORE'},\n",
       "       'metric_name': 'column.min',\n",
       "       'metric_value_kwargs': None},\n",
       "      'num_batches': 2}}}},\n",
       "  {'expectation_type': 'expect_column_values_to_be_in_set',\n",
       "   'kwargs': {'column': 'INDICATOR_INDEX',\n",
       "    'mostly': 1.0,\n",
       "    'value_set': ['Community and Environment', 'Workplace', 'Marketplace']},\n",
       "   'meta': {'profiler_details': {'metric_configuration': {'domain_kwargs': {'column': 'INDICATOR_INDEX'},\n",
       "      'metric_name': 'column.distinct_values',\n",
       "      'metric_value_kwargs': None},\n",
       "     'num_batches': 2,\n",
       "     'parse_strings_as_datetimes': False}}},\n",
       "  {'expectation_type': 'expect_column_values_to_be_in_set',\n",
       "   'kwargs': {'column': 'INDICATOR_ISSUE',\n",
       "    'mostly': 1.0,\n",
       "    'value_set': ['Maternity and paternity protection',\n",
       "     'Natural disasters',\n",
       "     'Product Safety',\n",
       "     'Child labour',\n",
       "     'Resource use and damage to the environment',\n",
       "     'Online Abuse and exploitation',\n",
       "     'Marketing and Advertising',\n",
       "     'Land rights',\n",
       "     'Decent working conditions',\n",
       "     'Security arrangements',\n",
       "     'Fulfillment of children’s rights']},\n",
       "   'meta': {'profiler_details': {'metric_configuration': {'domain_kwargs': {'column': 'INDICATOR_ISSUE'},\n",
       "      'metric_name': 'column.distinct_values',\n",
       "      'metric_value_kwargs': None},\n",
       "     'num_batches': 2,\n",
       "     'parse_strings_as_datetimes': False}}},\n",
       "  {'expectation_type': 'expect_column_values_to_be_in_set',\n",
       "   'kwargs': {'column': 'INDICATOR_CATEGORY',\n",
       "    'mostly': 1.0,\n",
       "    'value_set': ['Legal framework national',\n",
       "     'Outcome',\n",
       "     'Legal framework international',\n",
       "     'Enforcement']},\n",
       "   'meta': {'profiler_details': {'metric_configuration': {'domain_kwargs': {'column': 'INDICATOR_CATEGORY'},\n",
       "      'metric_name': 'column.distinct_values',\n",
       "      'metric_value_kwargs': None},\n",
       "     'num_batches': 2,\n",
       "     'parse_strings_as_datetimes': False}}},\n",
       "  {'expectation_type': 'expect_column_values_to_be_in_set',\n",
       "   'kwargs': {'column': 'ISSUE_INDEX_RISK_CATEGORY',\n",
       "    'mostly': 1.0,\n",
       "    'value_set': ['High risk', 'Low risk', 'Medium risk']},\n",
       "   'meta': {'profiler_details': {'metric_configuration': {'domain_kwargs': {'column': 'ISSUE_INDEX_RISK_CATEGORY'},\n",
       "      'metric_name': 'column.distinct_values',\n",
       "      'metric_value_kwargs': None},\n",
       "     'num_batches': 2,\n",
       "     'parse_strings_as_datetimes': False}}},\n",
       "  {'expectation_type': 'expect_column_values_to_be_in_set',\n",
       "   'kwargs': {'column': 'INDEX_RISK_CATEGORY',\n",
       "    'mostly': 1.0,\n",
       "    'value_set': ['High risk', 'Low risk', 'Medium risk']},\n",
       "   'meta': {'profiler_details': {'metric_configuration': {'domain_kwargs': {'column': 'INDEX_RISK_CATEGORY'},\n",
       "      'metric_name': 'column.distinct_values',\n",
       "      'metric_value_kwargs': None},\n",
       "     'num_batches': 2,\n",
       "     'parse_strings_as_datetimes': False}}}],\n",
       " 'ge_cloud_id': None,\n",
       " 'meta': {'citations': [{'citation_date': '2023-01-12T19:11:58.392260Z',\n",
       "    'comment': 'Created by effective Rule-Based Profiler of OnboardingDataAssistant with the configuration included.\\n'}],\n",
       "  'great_expectations_version': '0.15.42'}}"
      ]
     },
     "execution_count": 43,
     "metadata": {},
     "output_type": "execute_result"
    }
   ],
   "source": [
    "with open(\"../crba_project/resources/great_expectations/expectations/sdmx_indicator_suite.json\") as f:\n",
    "    suite = json.load(f)\n",
    "suite\n",
    "\n"
   ]
  },
  {
   "cell_type": "code",
   "execution_count": 44,
   "metadata": {},
   "outputs": [
    {
     "data": {
      "text/plain": [
       "17"
      ]
     },
     "execution_count": 44,
     "metadata": {},
     "output_type": "execute_result"
    }
   ],
   "source": [
    "expections_sub = [exp for exp in suite[\"expectations\"] if exp[\"expectation_type\"] not in [\"expect_column_median_to_be_between\",\"expect_column_mean_to_be_between\",\"expect_column_stdev_to_be_between\",\"expect_column_min_to_be_between\",\"expect_column_max_to_be_between\",\"expect_column_quantile_values_to_be_between\",\"expect_column_values_to_match_regex\",\"expect_column_proportion_of_unique_values_to_be_between\",\"expect_column_unique_value_count_to_be_between\",\"expect_column_value_lengths_to_be_between\"]]\n",
    "len(expections_sub)"
   ]
  },
  {
   "cell_type": "code",
   "execution_count": 45,
   "metadata": {},
   "outputs": [],
   "source": [
    "suite[\"expectations\"] = expections_sub"
   ]
  },
  {
   "cell_type": "code",
   "execution_count": 46,
   "metadata": {},
   "outputs": [],
   "source": [
    "with open(\"../crba_project/resources/great_expectations/expectations/sdmx_indicator_suite.json\",\"w\") as f:\n",
    "    json.dump(suite,f,indent=5)"
   ]
  },
  {
   "cell_type": "code",
   "execution_count": 1,
   "metadata": {},
   "outputs": [],
   "source": [
    "import pandas as pd"
   ]
  },
  {
   "cell_type": "code",
   "execution_count": 28,
   "metadata": {},
   "outputs": [],
   "source": [
    "df = pd.read_csv(\"../samples/filter_csv.csv\", index_col=0, delimiter=\";\", quotechar=\"'\")"
   ]
  },
  {
   "cell_type": "code",
   "execution_count": 29,
   "metadata": {},
   "outputs": [
    {
     "data": {
      "text/plain": [
       "['S-2', 'S-3', 'S-42', 'S-50', 'S-80']"
      ]
     },
     "execution_count": 29,
     "metadata": {},
     "output_type": "execute_result"
    }
   ],
   "source": [
    "list(df.index)"
   ]
  },
  {
   "cell_type": "code",
   "execution_count": 30,
   "metadata": {},
   "outputs": [
    {
     "data": {
      "text/html": [
       "<div>\n",
       "<style scoped>\n",
       "    .dataframe tbody tr th:only-of-type {\n",
       "        vertical-align: middle;\n",
       "    }\n",
       "\n",
       "    .dataframe tbody tr th {\n",
       "        vertical-align: top;\n",
       "    }\n",
       "\n",
       "    .dataframe thead th {\n",
       "        text-align: right;\n",
       "    }\n",
       "</style>\n",
       "<table border=\"1\" class=\"dataframe\">\n",
       "  <thead>\n",
       "    <tr style=\"text-align: right;\">\n",
       "      <th></th>\n",
       "    </tr>\n",
       "    <tr>\n",
       "      <th>Filtered Source IDs'</th>\n",
       "    </tr>\n",
       "  </thead>\n",
       "  <tbody>\n",
       "    <tr>\n",
       "      <th>S-2</th>\n",
       "    </tr>\n",
       "    <tr>\n",
       "      <th>S-3</th>\n",
       "    </tr>\n",
       "    <tr>\n",
       "      <th>S-42</th>\n",
       "    </tr>\n",
       "    <tr>\n",
       "      <th>S-50</th>\n",
       "    </tr>\n",
       "    <tr>\n",
       "      <th>S-80</th>\n",
       "    </tr>\n",
       "  </tbody>\n",
       "</table>\n",
       "</div>"
      ],
      "text/plain": [
       "Empty DataFrame\n",
       "Columns: []\n",
       "Index: [S-2, S-3, S-42, S-50, S-80]"
      ]
     },
     "execution_count": 30,
     "metadata": {},
     "output_type": "execute_result"
    }
   ],
   "source": [
    "df"
   ]
  },
  {
   "cell_type": "code",
   "execution_count": null,
   "metadata": {},
   "outputs": [],
   "source": []
  }
 ],
 "metadata": {
  "kernelspec": {
   "display_name": "Python 3.8.1 ('crba-project-wtXAP8Rl-py3.8')",
   "language": "python",
   "name": "python3"
  },
  "language_info": {
   "codemirror_mode": {
    "name": "ipython",
    "version": 3
   },
   "file_extension": ".py",
   "mimetype": "text/x-python",
   "name": "python",
   "nbconvert_exporter": "python",
   "pygments_lexer": "ipython3",
   "version": "3.8.1"
  },
  "orig_nbformat": 4,
  "vscode": {
   "interpreter": {
    "hash": "65e897506dbe6c6e442e98257c7176c7fefdf2c197e49f88effcbce9f021b21c"
   }
  }
 },
 "nbformat": 4,
 "nbformat_minor": 2
}
